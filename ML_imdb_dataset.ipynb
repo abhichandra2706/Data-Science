{
 "cells": [
  {
   "attachments": {},
   "cell_type": "markdown",
   "metadata": {},
   "source": [
    "# GROUP 144 IMDB Analysis & Model Building\n",
    "### R.B. KHARE_BITS ID: 2020FC04857\n",
    "### ANURAG_BITS ID: 2020FA04028\n",
    "### ABHINAV CHANDRAVANSHI_BITS ID:2020FC04860"
   ]
  },
  {
   "cell_type": "markdown",
   "metadata": {
    "id": "8qGVdf4lmyZq"
   },
   "source": [
    "**Importing Libraries**"
   ]
  },
  {
   "cell_type": "code",
   "execution_count": 1,
   "metadata": {
    "id": "QT-bOKugWzDO"
   },
   "outputs": [],
   "source": [
    "import pandas as pd\n",
    "import numpy as np\n",
    "import matplotlib.pyplot as plt\n",
    "import seaborn as sns"
   ]
  },
  {
   "cell_type": "markdown",
   "metadata": {
    "id": "Vup5sjoTml2I"
   },
   "source": [
    "**Loading** **dataset**"
   ]
  },
  {
   "cell_type": "code",
   "execution_count": 2,
   "metadata": {
    "id": "xxvsyqcfljlh"
   },
   "outputs": [],
   "source": [
    "Name = pd.read_csv('name_basics.csv')\n",
    "Basics = pd.read_csv('title_basics.csv')\n",
    "Crew = pd.read_csv('title_crew.csv')\n",
    "Episode = pd.read_csv('title_episode.csv')\n",
    "Principals = pd.read_csv('title_principals.csv')\n",
    "Ratings = pd.read_csv('title_ratings.csv')"
   ]
  },
  {
   "cell_type": "code",
   "execution_count": 3,
   "metadata": {
    "colab": {
     "base_uri": "https://localhost:8080/"
    },
    "id": "32tcLM0ahMqG",
    "outputId": "2309914e-0401-44ca-d7e6-387371237caa"
   },
   "outputs": [
    {
     "name": "stderr",
     "output_type": "stream",
     "text": [
      "C:\\ProgramData\\Anaconda3\\lib\\site-packages\\IPython\\core\\interactiveshell.py:3071: DtypeWarning: Columns (7) have mixed types.Specify dtype option on import or set low_memory=False.\n",
      "  has_raised = await self.run_ast_nodes(code_ast.body, cell_name,\n"
     ]
    }
   ],
   "source": [
    "Akas = pd.read_table('title.akas.tsv')"
   ]
  },
  {
   "cell_type": "code",
   "execution_count": 4,
   "metadata": {
    "colab": {
     "base_uri": "https://localhost:8080/"
    },
    "id": "3ROYaf_IljqJ",
    "outputId": "0c3d028f-6e95-4463-f9ba-e04e66c06b82"
   },
   "outputs": [
    {
     "data": {
      "text/plain": [
       "Index(['Unnamed: 0', 'nconst', 'primaryName', 'birthYear', 'deathYear',\n",
       "       'primaryProfession', 'knownForTitles'],\n",
       "      dtype='object')"
      ]
     },
     "execution_count": 4,
     "metadata": {},
     "output_type": "execute_result"
    }
   ],
   "source": [
    "Name.columns"
   ]
  },
  {
   "cell_type": "code",
   "execution_count": 5,
   "metadata": {
    "colab": {
     "base_uri": "https://localhost:8080/"
    },
    "id": "hrW1I03OmW6z",
    "outputId": "42f396a6-2d7b-4610-9647-e8ac2def8079"
   },
   "outputs": [
    {
     "data": {
      "text/plain": [
       "Index(['Unnamed: 0', 'tconst', 'titleType', 'primaryTitle', 'originalTitle',\n",
       "       'isAdult', 'startYear', 'endYear', 'runtimeMinutes', 'genres'],\n",
       "      dtype='object')"
      ]
     },
     "execution_count": 5,
     "metadata": {},
     "output_type": "execute_result"
    }
   ],
   "source": [
    "Basics.columns"
   ]
  },
  {
   "cell_type": "code",
   "execution_count": 6,
   "metadata": {
    "colab": {
     "base_uri": "https://localhost:8080/"
    },
    "id": "D-DVwrjPmWTP",
    "outputId": "61b428af-95a3-4bde-f1bd-882edc26669d"
   },
   "outputs": [
    {
     "data": {
      "text/plain": [
       "Index(['Unnamed: 0', 'tconst', 'directors', 'writers'], dtype='object')"
      ]
     },
     "execution_count": 6,
     "metadata": {},
     "output_type": "execute_result"
    }
   ],
   "source": [
    "Crew.columns"
   ]
  },
  {
   "cell_type": "code",
   "execution_count": 7,
   "metadata": {
    "colab": {
     "base_uri": "https://localhost:8080/"
    },
    "id": "6gRNOTcymWWP",
    "outputId": "294da97b-86c9-4dc4-d251-d07a7a81a9cb"
   },
   "outputs": [
    {
     "data": {
      "text/plain": [
       "Index(['Unnamed: 0', 'tconst', 'parentTconst', 'seasonNumber',\n",
       "       'episodeNumber'],\n",
       "      dtype='object')"
      ]
     },
     "execution_count": 7,
     "metadata": {},
     "output_type": "execute_result"
    }
   ],
   "source": [
    "Episode.columns"
   ]
  },
  {
   "cell_type": "code",
   "execution_count": 8,
   "metadata": {
    "colab": {
     "base_uri": "https://localhost:8080/"
    },
    "id": "1It-ff-qmjE2",
    "outputId": "fce5f68e-109e-477c-c255-5d20d68720fc"
   },
   "outputs": [
    {
     "data": {
      "text/plain": [
       "Index(['Unnamed: 0', 'tconst', 'ordering', 'nconst', 'category', 'job',\n",
       "       'characters'],\n",
       "      dtype='object')"
      ]
     },
     "execution_count": 8,
     "metadata": {},
     "output_type": "execute_result"
    }
   ],
   "source": [
    "Principals.columns"
   ]
  },
  {
   "cell_type": "code",
   "execution_count": 9,
   "metadata": {
    "colab": {
     "base_uri": "https://localhost:8080/"
    },
    "id": "K6VBc_X2mjHH",
    "outputId": "0fa014b9-19b1-4f43-b2b3-9de3a062e6e1"
   },
   "outputs": [
    {
     "data": {
      "text/plain": [
       "Index(['Unnamed: 0', 'tconst', 'averageRating', 'numVotes'], dtype='object')"
      ]
     },
     "execution_count": 9,
     "metadata": {},
     "output_type": "execute_result"
    }
   ],
   "source": [
    "Ratings.columns"
   ]
  },
  {
   "cell_type": "markdown",
   "metadata": {
    "id": "yHxpesX2I_Z9"
   },
   "source": [
    "**Printing first 5 rows for Sanity check**"
   ]
  },
  {
   "cell_type": "code",
   "execution_count": 10,
   "metadata": {
    "colab": {
     "base_uri": "https://localhost:8080/",
     "height": 204
    },
    "id": "RNnwhxVBIbXo",
    "outputId": "fee66cf7-6695-4652-b3ea-88eaa4062b3e"
   },
   "outputs": [
    {
     "data": {
      "text/html": [
       "<div>\n",
       "<style scoped>\n",
       "    .dataframe tbody tr th:only-of-type {\n",
       "        vertical-align: middle;\n",
       "    }\n",
       "\n",
       "    .dataframe tbody tr th {\n",
       "        vertical-align: top;\n",
       "    }\n",
       "\n",
       "    .dataframe thead th {\n",
       "        text-align: right;\n",
       "    }\n",
       "</style>\n",
       "<table border=\"1\" class=\"dataframe\">\n",
       "  <thead>\n",
       "    <tr style=\"text-align: right;\">\n",
       "      <th></th>\n",
       "      <th>Unnamed: 0</th>\n",
       "      <th>nconst</th>\n",
       "      <th>primaryName</th>\n",
       "      <th>birthYear</th>\n",
       "      <th>deathYear</th>\n",
       "      <th>primaryProfession</th>\n",
       "      <th>knownForTitles</th>\n",
       "    </tr>\n",
       "  </thead>\n",
       "  <tbody>\n",
       "    <tr>\n",
       "      <th>0</th>\n",
       "      <td>0</td>\n",
       "      <td>nm0000002</td>\n",
       "      <td>Lauren Bacall</td>\n",
       "      <td>1924</td>\n",
       "      <td>2014</td>\n",
       "      <td>actress,soundtrack</td>\n",
       "      <td>tt0117057,tt0038355,tt0071877,tt0037382</td>\n",
       "    </tr>\n",
       "    <tr>\n",
       "      <th>1</th>\n",
       "      <td>1</td>\n",
       "      <td>nm0000003</td>\n",
       "      <td>Brigitte Bardot</td>\n",
       "      <td>1934</td>\n",
       "      <td>\\N</td>\n",
       "      <td>actress,soundtrack,music_department</td>\n",
       "      <td>tt0054452,tt0057345,tt0049189,tt0056404</td>\n",
       "    </tr>\n",
       "    <tr>\n",
       "      <th>2</th>\n",
       "      <td>2</td>\n",
       "      <td>nm0000004</td>\n",
       "      <td>John Belushi</td>\n",
       "      <td>1949</td>\n",
       "      <td>1982</td>\n",
       "      <td>actor,soundtrack,writer</td>\n",
       "      <td>tt0078723,tt0077975,tt0080455,tt0072562</td>\n",
       "    </tr>\n",
       "    <tr>\n",
       "      <th>3</th>\n",
       "      <td>3</td>\n",
       "      <td>nm0000005</td>\n",
       "      <td>Ingmar Bergman</td>\n",
       "      <td>1918</td>\n",
       "      <td>2007</td>\n",
       "      <td>writer,director,actor</td>\n",
       "      <td>tt0050986,tt0050976,tt0083922,tt0060827</td>\n",
       "    </tr>\n",
       "    <tr>\n",
       "      <th>4</th>\n",
       "      <td>4</td>\n",
       "      <td>nm0000006</td>\n",
       "      <td>Ingrid Bergman</td>\n",
       "      <td>1915</td>\n",
       "      <td>1982</td>\n",
       "      <td>actress,soundtrack,producer</td>\n",
       "      <td>tt0077711,tt0034583,tt0036855,tt0038109</td>\n",
       "    </tr>\n",
       "  </tbody>\n",
       "</table>\n",
       "</div>"
      ],
      "text/plain": [
       "   Unnamed: 0     nconst      primaryName  birthYear deathYear  \\\n",
       "0           0  nm0000002    Lauren Bacall       1924      2014   \n",
       "1           1  nm0000003  Brigitte Bardot       1934        \\N   \n",
       "2           2  nm0000004     John Belushi       1949      1982   \n",
       "3           3  nm0000005   Ingmar Bergman       1918      2007   \n",
       "4           4  nm0000006   Ingrid Bergman       1915      1982   \n",
       "\n",
       "                     primaryProfession  \\\n",
       "0                   actress,soundtrack   \n",
       "1  actress,soundtrack,music_department   \n",
       "2              actor,soundtrack,writer   \n",
       "3                writer,director,actor   \n",
       "4          actress,soundtrack,producer   \n",
       "\n",
       "                            knownForTitles  \n",
       "0  tt0117057,tt0038355,tt0071877,tt0037382  \n",
       "1  tt0054452,tt0057345,tt0049189,tt0056404  \n",
       "2  tt0078723,tt0077975,tt0080455,tt0072562  \n",
       "3  tt0050986,tt0050976,tt0083922,tt0060827  \n",
       "4  tt0077711,tt0034583,tt0036855,tt0038109  "
      ]
     },
     "execution_count": 10,
     "metadata": {},
     "output_type": "execute_result"
    }
   ],
   "source": [
    "Name.head()"
   ]
  },
  {
   "cell_type": "code",
   "execution_count": 11,
   "metadata": {
    "colab": {
     "base_uri": "https://localhost:8080/",
     "height": 204
    },
    "id": "0Z7tmBzdIbaS",
    "outputId": "574a5438-584a-4ee7-a9d2-e04611120190"
   },
   "outputs": [
    {
     "data": {
      "text/html": [
       "<div>\n",
       "<style scoped>\n",
       "    .dataframe tbody tr th:only-of-type {\n",
       "        vertical-align: middle;\n",
       "    }\n",
       "\n",
       "    .dataframe tbody tr th {\n",
       "        vertical-align: top;\n",
       "    }\n",
       "\n",
       "    .dataframe thead th {\n",
       "        text-align: right;\n",
       "    }\n",
       "</style>\n",
       "<table border=\"1\" class=\"dataframe\">\n",
       "  <thead>\n",
       "    <tr style=\"text-align: right;\">\n",
       "      <th></th>\n",
       "      <th>Unnamed: 0</th>\n",
       "      <th>tconst</th>\n",
       "      <th>titleType</th>\n",
       "      <th>primaryTitle</th>\n",
       "      <th>originalTitle</th>\n",
       "      <th>isAdult</th>\n",
       "      <th>startYear</th>\n",
       "      <th>endYear</th>\n",
       "      <th>runtimeMinutes</th>\n",
       "      <th>genres</th>\n",
       "    </tr>\n",
       "  </thead>\n",
       "  <tbody>\n",
       "    <tr>\n",
       "      <th>0</th>\n",
       "      <td>0</td>\n",
       "      <td>tt0000447</td>\n",
       "      <td>short</td>\n",
       "      <td>Life of an American Fireman</td>\n",
       "      <td>Life of an American Fireman</td>\n",
       "      <td>0</td>\n",
       "      <td>1903</td>\n",
       "      <td>\\N</td>\n",
       "      <td>6</td>\n",
       "      <td>Action,Short</td>\n",
       "    </tr>\n",
       "    <tr>\n",
       "      <th>1</th>\n",
       "      <td>1</td>\n",
       "      <td>tt0000498</td>\n",
       "      <td>short</td>\n",
       "      <td>Rescued by Rover</td>\n",
       "      <td>Rescued by Rover</td>\n",
       "      <td>0</td>\n",
       "      <td>1905</td>\n",
       "      <td>\\N</td>\n",
       "      <td>7</td>\n",
       "      <td>Crime,Drama,Family</td>\n",
       "    </tr>\n",
       "    <tr>\n",
       "      <th>2</th>\n",
       "      <td>2</td>\n",
       "      <td>tt0000746</td>\n",
       "      <td>short</td>\n",
       "      <td>The Reckoning</td>\n",
       "      <td>The Reckoning</td>\n",
       "      <td>0</td>\n",
       "      <td>1908</td>\n",
       "      <td>\\N</td>\n",
       "      <td>8</td>\n",
       "      <td>Drama,Short</td>\n",
       "    </tr>\n",
       "    <tr>\n",
       "      <th>3</th>\n",
       "      <td>3</td>\n",
       "      <td>tt0000843</td>\n",
       "      <td>short</td>\n",
       "      <td>The Death Disc: A Story of the Cromwellian Period</td>\n",
       "      <td>The Death Disc: A Story of the Cromwellian Period</td>\n",
       "      <td>0</td>\n",
       "      <td>1909</td>\n",
       "      <td>\\N</td>\n",
       "      <td>11</td>\n",
       "      <td>Drama,Short</td>\n",
       "    </tr>\n",
       "    <tr>\n",
       "      <th>4</th>\n",
       "      <td>4</td>\n",
       "      <td>tt0001546</td>\n",
       "      <td>short</td>\n",
       "      <td>Cinderella</td>\n",
       "      <td>Cinderella</td>\n",
       "      <td>0</td>\n",
       "      <td>1912</td>\n",
       "      <td>\\N</td>\n",
       "      <td>\\N</td>\n",
       "      <td>Fantasy,Romance,Short</td>\n",
       "    </tr>\n",
       "  </tbody>\n",
       "</table>\n",
       "</div>"
      ],
      "text/plain": [
       "   Unnamed: 0     tconst titleType  \\\n",
       "0           0  tt0000447     short   \n",
       "1           1  tt0000498     short   \n",
       "2           2  tt0000746     short   \n",
       "3           3  tt0000843     short   \n",
       "4           4  tt0001546     short   \n",
       "\n",
       "                                        primaryTitle  \\\n",
       "0                        Life of an American Fireman   \n",
       "1                                   Rescued by Rover   \n",
       "2                                      The Reckoning   \n",
       "3  The Death Disc: A Story of the Cromwellian Period   \n",
       "4                                         Cinderella   \n",
       "\n",
       "                                       originalTitle  isAdult startYear  \\\n",
       "0                        Life of an American Fireman        0      1903   \n",
       "1                                   Rescued by Rover        0      1905   \n",
       "2                                      The Reckoning        0      1908   \n",
       "3  The Death Disc: A Story of the Cromwellian Period        0      1909   \n",
       "4                                         Cinderella        0      1912   \n",
       "\n",
       "  endYear runtimeMinutes                 genres  \n",
       "0      \\N              6           Action,Short  \n",
       "1      \\N              7     Crime,Drama,Family  \n",
       "2      \\N              8            Drama,Short  \n",
       "3      \\N             11            Drama,Short  \n",
       "4      \\N             \\N  Fantasy,Romance,Short  "
      ]
     },
     "execution_count": 11,
     "metadata": {},
     "output_type": "execute_result"
    }
   ],
   "source": [
    "Basics.head()"
   ]
  },
  {
   "cell_type": "code",
   "execution_count": 12,
   "metadata": {
    "colab": {
     "base_uri": "https://localhost:8080/",
     "height": 204
    },
    "id": "nhlWBJWMIbig",
    "outputId": "86f214cb-5dbb-473c-a4dd-cfb5ed49d1e5"
   },
   "outputs": [
    {
     "data": {
      "text/html": [
       "<div>\n",
       "<style scoped>\n",
       "    .dataframe tbody tr th:only-of-type {\n",
       "        vertical-align: middle;\n",
       "    }\n",
       "\n",
       "    .dataframe tbody tr th {\n",
       "        vertical-align: top;\n",
       "    }\n",
       "\n",
       "    .dataframe thead th {\n",
       "        text-align: right;\n",
       "    }\n",
       "</style>\n",
       "<table border=\"1\" class=\"dataframe\">\n",
       "  <thead>\n",
       "    <tr style=\"text-align: right;\">\n",
       "      <th></th>\n",
       "      <th>Unnamed: 0</th>\n",
       "      <th>tconst</th>\n",
       "      <th>directors</th>\n",
       "      <th>writers</th>\n",
       "    </tr>\n",
       "  </thead>\n",
       "  <tbody>\n",
       "    <tr>\n",
       "      <th>0</th>\n",
       "      <td>0</td>\n",
       "      <td>tt0000447</td>\n",
       "      <td>nm0692105,nm2092030</td>\n",
       "      <td>nm0692105</td>\n",
       "    </tr>\n",
       "    <tr>\n",
       "      <th>1</th>\n",
       "      <td>1</td>\n",
       "      <td>tt0000498</td>\n",
       "      <td>nm0378408,nm0280432</td>\n",
       "      <td>nm1539443</td>\n",
       "    </tr>\n",
       "    <tr>\n",
       "      <th>2</th>\n",
       "      <td>2</td>\n",
       "      <td>tt0000746</td>\n",
       "      <td>nm0000428</td>\n",
       "      <td>nm0150432,nm0191885,nm0000428,nm0940488</td>\n",
       "    </tr>\n",
       "    <tr>\n",
       "      <th>3</th>\n",
       "      <td>3</td>\n",
       "      <td>tt0000843</td>\n",
       "      <td>nm0000428</td>\n",
       "      <td>nm0878494,nm0940488</td>\n",
       "    </tr>\n",
       "    <tr>\n",
       "      <th>4</th>\n",
       "      <td>4</td>\n",
       "      <td>tt0001546</td>\n",
       "      <td>nm0132324</td>\n",
       "      <td>nm0132324,nm0342278,nm0342303,nm0916906</td>\n",
       "    </tr>\n",
       "  </tbody>\n",
       "</table>\n",
       "</div>"
      ],
      "text/plain": [
       "   Unnamed: 0     tconst            directors  \\\n",
       "0           0  tt0000447  nm0692105,nm2092030   \n",
       "1           1  tt0000498  nm0378408,nm0280432   \n",
       "2           2  tt0000746            nm0000428   \n",
       "3           3  tt0000843            nm0000428   \n",
       "4           4  tt0001546            nm0132324   \n",
       "\n",
       "                                   writers  \n",
       "0                                nm0692105  \n",
       "1                                nm1539443  \n",
       "2  nm0150432,nm0191885,nm0000428,nm0940488  \n",
       "3                      nm0878494,nm0940488  \n",
       "4  nm0132324,nm0342278,nm0342303,nm0916906  "
      ]
     },
     "execution_count": 12,
     "metadata": {},
     "output_type": "execute_result"
    }
   ],
   "source": [
    "Crew.head()"
   ]
  },
  {
   "cell_type": "code",
   "execution_count": 13,
   "metadata": {
    "colab": {
     "base_uri": "https://localhost:8080/",
     "height": 204
    },
    "id": "UmE5B8MUIq1L",
    "outputId": "c8645b5c-1c8e-45dd-8c16-602eeb750944"
   },
   "outputs": [
    {
     "data": {
      "text/html": [
       "<div>\n",
       "<style scoped>\n",
       "    .dataframe tbody tr th:only-of-type {\n",
       "        vertical-align: middle;\n",
       "    }\n",
       "\n",
       "    .dataframe tbody tr th {\n",
       "        vertical-align: top;\n",
       "    }\n",
       "\n",
       "    .dataframe thead th {\n",
       "        text-align: right;\n",
       "    }\n",
       "</style>\n",
       "<table border=\"1\" class=\"dataframe\">\n",
       "  <thead>\n",
       "    <tr style=\"text-align: right;\">\n",
       "      <th></th>\n",
       "      <th>Unnamed: 0</th>\n",
       "      <th>tconst</th>\n",
       "      <th>parentTconst</th>\n",
       "      <th>seasonNumber</th>\n",
       "      <th>episodeNumber</th>\n",
       "    </tr>\n",
       "  </thead>\n",
       "  <tbody>\n",
       "    <tr>\n",
       "      <th>0</th>\n",
       "      <td>0</td>\n",
       "      <td>tt0041951</td>\n",
       "      <td>tt0041038</td>\n",
       "      <td>1</td>\n",
       "      <td>9</td>\n",
       "    </tr>\n",
       "    <tr>\n",
       "      <th>1</th>\n",
       "      <td>1</td>\n",
       "      <td>tt0042816</td>\n",
       "      <td>tt0989125</td>\n",
       "      <td>1</td>\n",
       "      <td>17</td>\n",
       "    </tr>\n",
       "    <tr>\n",
       "      <th>2</th>\n",
       "      <td>2</td>\n",
       "      <td>tt0042889</td>\n",
       "      <td>tt0989125</td>\n",
       "      <td>\\N</td>\n",
       "      <td>\\N</td>\n",
       "    </tr>\n",
       "    <tr>\n",
       "      <th>3</th>\n",
       "      <td>3</td>\n",
       "      <td>tt0043426</td>\n",
       "      <td>tt0040051</td>\n",
       "      <td>3</td>\n",
       "      <td>42</td>\n",
       "    </tr>\n",
       "    <tr>\n",
       "      <th>4</th>\n",
       "      <td>4</td>\n",
       "      <td>tt0043631</td>\n",
       "      <td>tt0989125</td>\n",
       "      <td>2</td>\n",
       "      <td>16</td>\n",
       "    </tr>\n",
       "  </tbody>\n",
       "</table>\n",
       "</div>"
      ],
      "text/plain": [
       "   Unnamed: 0     tconst parentTconst seasonNumber episodeNumber\n",
       "0           0  tt0041951    tt0041038            1             9\n",
       "1           1  tt0042816    tt0989125            1            17\n",
       "2           2  tt0042889    tt0989125           \\N            \\N\n",
       "3           3  tt0043426    tt0040051            3            42\n",
       "4           4  tt0043631    tt0989125            2            16"
      ]
     },
     "execution_count": 13,
     "metadata": {},
     "output_type": "execute_result"
    }
   ],
   "source": [
    "Episode.head()"
   ]
  },
  {
   "cell_type": "code",
   "execution_count": 14,
   "metadata": {
    "colab": {
     "base_uri": "https://localhost:8080/",
     "height": 204
    },
    "id": "ObfLMlZtIq3c",
    "outputId": "25c83718-746a-4203-d914-17bc0782fb08"
   },
   "outputs": [
    {
     "data": {
      "text/html": [
       "<div>\n",
       "<style scoped>\n",
       "    .dataframe tbody tr th:only-of-type {\n",
       "        vertical-align: middle;\n",
       "    }\n",
       "\n",
       "    .dataframe tbody tr th {\n",
       "        vertical-align: top;\n",
       "    }\n",
       "\n",
       "    .dataframe thead th {\n",
       "        text-align: right;\n",
       "    }\n",
       "</style>\n",
       "<table border=\"1\" class=\"dataframe\">\n",
       "  <thead>\n",
       "    <tr style=\"text-align: right;\">\n",
       "      <th></th>\n",
       "      <th>Unnamed: 0</th>\n",
       "      <th>tconst</th>\n",
       "      <th>ordering</th>\n",
       "      <th>nconst</th>\n",
       "      <th>category</th>\n",
       "      <th>job</th>\n",
       "      <th>characters</th>\n",
       "    </tr>\n",
       "  </thead>\n",
       "  <tbody>\n",
       "    <tr>\n",
       "      <th>0</th>\n",
       "      <td>0</td>\n",
       "      <td>tt0000229</td>\n",
       "      <td>3</td>\n",
       "      <td>nm0595213</td>\n",
       "      <td>composer</td>\n",
       "      <td>\\N</td>\n",
       "      <td>\\N</td>\n",
       "    </tr>\n",
       "    <tr>\n",
       "      <th>1</th>\n",
       "      <td>1</td>\n",
       "      <td>tt0000417</td>\n",
       "      <td>8</td>\n",
       "      <td>nm0324073</td>\n",
       "      <td>composer</td>\n",
       "      <td>\\N</td>\n",
       "      <td>\\N</td>\n",
       "    </tr>\n",
       "    <tr>\n",
       "      <th>2</th>\n",
       "      <td>2</td>\n",
       "      <td>tt0000447</td>\n",
       "      <td>1</td>\n",
       "      <td>nm0692105</td>\n",
       "      <td>actor</td>\n",
       "      <td>\\N</td>\n",
       "      <td>[\"Policeman\"]</td>\n",
       "    </tr>\n",
       "    <tr>\n",
       "      <th>3</th>\n",
       "      <td>3</td>\n",
       "      <td>tt0000447</td>\n",
       "      <td>2</td>\n",
       "      <td>nm0891119</td>\n",
       "      <td>actress</td>\n",
       "      <td>\\N</td>\n",
       "      <td>[\"The Girl\"]</td>\n",
       "    </tr>\n",
       "    <tr>\n",
       "      <th>4</th>\n",
       "      <td>4</td>\n",
       "      <td>tt0000447</td>\n",
       "      <td>3</td>\n",
       "      <td>nm0924475</td>\n",
       "      <td>actor</td>\n",
       "      <td>\\N</td>\n",
       "      <td>[\"The Fireman\"]</td>\n",
       "    </tr>\n",
       "  </tbody>\n",
       "</table>\n",
       "</div>"
      ],
      "text/plain": [
       "   Unnamed: 0     tconst  ordering     nconst  category job       characters\n",
       "0           0  tt0000229         3  nm0595213  composer  \\N               \\N\n",
       "1           1  tt0000417         8  nm0324073  composer  \\N               \\N\n",
       "2           2  tt0000447         1  nm0692105     actor  \\N    [\"Policeman\"]\n",
       "3           3  tt0000447         2  nm0891119   actress  \\N     [\"The Girl\"]\n",
       "4           4  tt0000447         3  nm0924475     actor  \\N  [\"The Fireman\"]"
      ]
     },
     "execution_count": 14,
     "metadata": {},
     "output_type": "execute_result"
    }
   ],
   "source": [
    "Principals.head()"
   ]
  },
  {
   "cell_type": "code",
   "execution_count": 15,
   "metadata": {
    "colab": {
     "base_uri": "https://localhost:8080/",
     "height": 204
    },
    "id": "lPUQd3JaIxiv",
    "outputId": "88b40b72-2928-46bf-eb0d-fffc4c9d403f"
   },
   "outputs": [
    {
     "data": {
      "text/html": [
       "<div>\n",
       "<style scoped>\n",
       "    .dataframe tbody tr th:only-of-type {\n",
       "        vertical-align: middle;\n",
       "    }\n",
       "\n",
       "    .dataframe tbody tr th {\n",
       "        vertical-align: top;\n",
       "    }\n",
       "\n",
       "    .dataframe thead th {\n",
       "        text-align: right;\n",
       "    }\n",
       "</style>\n",
       "<table border=\"1\" class=\"dataframe\">\n",
       "  <thead>\n",
       "    <tr style=\"text-align: right;\">\n",
       "      <th></th>\n",
       "      <th>Unnamed: 0</th>\n",
       "      <th>tconst</th>\n",
       "      <th>averageRating</th>\n",
       "      <th>numVotes</th>\n",
       "    </tr>\n",
       "  </thead>\n",
       "  <tbody>\n",
       "    <tr>\n",
       "      <th>0</th>\n",
       "      <td>0</td>\n",
       "      <td>tt0000447</td>\n",
       "      <td>6.4</td>\n",
       "      <td>2193</td>\n",
       "    </tr>\n",
       "    <tr>\n",
       "      <th>1</th>\n",
       "      <td>1</td>\n",
       "      <td>tt0000498</td>\n",
       "      <td>6.6</td>\n",
       "      <td>1093</td>\n",
       "    </tr>\n",
       "    <tr>\n",
       "      <th>2</th>\n",
       "      <td>2</td>\n",
       "      <td>tt0000746</td>\n",
       "      <td>7.4</td>\n",
       "      <td>9</td>\n",
       "    </tr>\n",
       "    <tr>\n",
       "      <th>3</th>\n",
       "      <td>3</td>\n",
       "      <td>tt0000843</td>\n",
       "      <td>5.7</td>\n",
       "      <td>10</td>\n",
       "    </tr>\n",
       "    <tr>\n",
       "      <th>4</th>\n",
       "      <td>4</td>\n",
       "      <td>tt0001790</td>\n",
       "      <td>6.0</td>\n",
       "      <td>18</td>\n",
       "    </tr>\n",
       "  </tbody>\n",
       "</table>\n",
       "</div>"
      ],
      "text/plain": [
       "   Unnamed: 0     tconst  averageRating  numVotes\n",
       "0           0  tt0000447            6.4      2193\n",
       "1           1  tt0000498            6.6      1093\n",
       "2           2  tt0000746            7.4         9\n",
       "3           3  tt0000843            5.7        10\n",
       "4           4  tt0001790            6.0        18"
      ]
     },
     "execution_count": 15,
     "metadata": {},
     "output_type": "execute_result"
    }
   ],
   "source": [
    "Ratings.head()"
   ]
  },
  {
   "cell_type": "markdown",
   "metadata": {
    "id": "0md8NbdoJKUX"
   },
   "source": [
    "**Description and shape of all data frames**"
   ]
  },
  {
   "cell_type": "code",
   "execution_count": 16,
   "metadata": {
    "colab": {
     "base_uri": "https://localhost:8080/",
     "height": 297
    },
    "id": "rYTza551IxlM",
    "outputId": "7b882829-7967-488a-829e-e9d32712c828"
   },
   "outputs": [
    {
     "data": {
      "text/html": [
       "<div>\n",
       "<style scoped>\n",
       "    .dataframe tbody tr th:only-of-type {\n",
       "        vertical-align: middle;\n",
       "    }\n",
       "\n",
       "    .dataframe tbody tr th {\n",
       "        vertical-align: top;\n",
       "    }\n",
       "\n",
       "    .dataframe thead th {\n",
       "        text-align: right;\n",
       "    }\n",
       "</style>\n",
       "<table border=\"1\" class=\"dataframe\">\n",
       "  <thead>\n",
       "    <tr style=\"text-align: right;\">\n",
       "      <th></th>\n",
       "      <th>Unnamed: 0</th>\n",
       "      <th>birthYear</th>\n",
       "    </tr>\n",
       "  </thead>\n",
       "  <tbody>\n",
       "    <tr>\n",
       "      <th>count</th>\n",
       "      <td>414246.000000</td>\n",
       "      <td>414246.000000</td>\n",
       "    </tr>\n",
       "    <tr>\n",
       "      <th>mean</th>\n",
       "      <td>207122.500000</td>\n",
       "      <td>1957.571033</td>\n",
       "    </tr>\n",
       "    <tr>\n",
       "      <th>std</th>\n",
       "      <td>119582.664142</td>\n",
       "      <td>25.712262</td>\n",
       "    </tr>\n",
       "    <tr>\n",
       "      <th>min</th>\n",
       "      <td>0.000000</td>\n",
       "      <td>1901.000000</td>\n",
       "    </tr>\n",
       "    <tr>\n",
       "      <th>25%</th>\n",
       "      <td>103561.250000</td>\n",
       "      <td>1938.000000</td>\n",
       "    </tr>\n",
       "    <tr>\n",
       "      <th>50%</th>\n",
       "      <td>207122.500000</td>\n",
       "      <td>1962.000000</td>\n",
       "    </tr>\n",
       "    <tr>\n",
       "      <th>75%</th>\n",
       "      <td>310683.750000</td>\n",
       "      <td>1979.000000</td>\n",
       "    </tr>\n",
       "    <tr>\n",
       "      <th>max</th>\n",
       "      <td>414245.000000</td>\n",
       "      <td>2021.000000</td>\n",
       "    </tr>\n",
       "  </tbody>\n",
       "</table>\n",
       "</div>"
      ],
      "text/plain": [
       "          Unnamed: 0      birthYear\n",
       "count  414246.000000  414246.000000\n",
       "mean   207122.500000    1957.571033\n",
       "std    119582.664142      25.712262\n",
       "min         0.000000    1901.000000\n",
       "25%    103561.250000    1938.000000\n",
       "50%    207122.500000    1962.000000\n",
       "75%    310683.750000    1979.000000\n",
       "max    414245.000000    2021.000000"
      ]
     },
     "execution_count": 16,
     "metadata": {},
     "output_type": "execute_result"
    }
   ],
   "source": [
    "Name.describe()"
   ]
  },
  {
   "cell_type": "code",
   "execution_count": 17,
   "metadata": {
    "colab": {
     "base_uri": "https://localhost:8080/",
     "height": 297
    },
    "id": "MMZjt21KIxoU",
    "outputId": "9048d95a-f40f-4d41-baac-7ea16ea73a0b"
   },
   "outputs": [
    {
     "data": {
      "text/html": [
       "<div>\n",
       "<style scoped>\n",
       "    .dataframe tbody tr th:only-of-type {\n",
       "        vertical-align: middle;\n",
       "    }\n",
       "\n",
       "    .dataframe tbody tr th {\n",
       "        vertical-align: top;\n",
       "    }\n",
       "\n",
       "    .dataframe thead th {\n",
       "        text-align: right;\n",
       "    }\n",
       "</style>\n",
       "<table border=\"1\" class=\"dataframe\">\n",
       "  <thead>\n",
       "    <tr style=\"text-align: right;\">\n",
       "      <th></th>\n",
       "      <th>Unnamed: 0</th>\n",
       "      <th>isAdult</th>\n",
       "    </tr>\n",
       "  </thead>\n",
       "  <tbody>\n",
       "    <tr>\n",
       "      <th>count</th>\n",
       "      <td>445627.000000</td>\n",
       "      <td>445627.000000</td>\n",
       "    </tr>\n",
       "    <tr>\n",
       "      <th>mean</th>\n",
       "      <td>222813.000000</td>\n",
       "      <td>0.049057</td>\n",
       "    </tr>\n",
       "    <tr>\n",
       "      <th>std</th>\n",
       "      <td>128641.578542</td>\n",
       "      <td>0.215987</td>\n",
       "    </tr>\n",
       "    <tr>\n",
       "      <th>min</th>\n",
       "      <td>0.000000</td>\n",
       "      <td>0.000000</td>\n",
       "    </tr>\n",
       "    <tr>\n",
       "      <th>25%</th>\n",
       "      <td>111406.500000</td>\n",
       "      <td>0.000000</td>\n",
       "    </tr>\n",
       "    <tr>\n",
       "      <th>50%</th>\n",
       "      <td>222813.000000</td>\n",
       "      <td>0.000000</td>\n",
       "    </tr>\n",
       "    <tr>\n",
       "      <th>75%</th>\n",
       "      <td>334219.500000</td>\n",
       "      <td>0.000000</td>\n",
       "    </tr>\n",
       "    <tr>\n",
       "      <th>max</th>\n",
       "      <td>445626.000000</td>\n",
       "      <td>1.000000</td>\n",
       "    </tr>\n",
       "  </tbody>\n",
       "</table>\n",
       "</div>"
      ],
      "text/plain": [
       "          Unnamed: 0        isAdult\n",
       "count  445627.000000  445627.000000\n",
       "mean   222813.000000       0.049057\n",
       "std    128641.578542       0.215987\n",
       "min         0.000000       0.000000\n",
       "25%    111406.500000       0.000000\n",
       "50%    222813.000000       0.000000\n",
       "75%    334219.500000       0.000000\n",
       "max    445626.000000       1.000000"
      ]
     },
     "execution_count": 17,
     "metadata": {},
     "output_type": "execute_result"
    }
   ],
   "source": [
    "Basics.describe()"
   ]
  },
  {
   "cell_type": "code",
   "execution_count": 18,
   "metadata": {
    "colab": {
     "base_uri": "https://localhost:8080/",
     "height": 297
    },
    "id": "FA5252DMJXi7",
    "outputId": "fbfd5820-042c-41fe-a714-b64f4a412816"
   },
   "outputs": [
    {
     "data": {
      "text/html": [
       "<div>\n",
       "<style scoped>\n",
       "    .dataframe tbody tr th:only-of-type {\n",
       "        vertical-align: middle;\n",
       "    }\n",
       "\n",
       "    .dataframe tbody tr th {\n",
       "        vertical-align: top;\n",
       "    }\n",
       "\n",
       "    .dataframe thead th {\n",
       "        text-align: right;\n",
       "    }\n",
       "</style>\n",
       "<table border=\"1\" class=\"dataframe\">\n",
       "  <thead>\n",
       "    <tr style=\"text-align: right;\">\n",
       "      <th></th>\n",
       "      <th>Unnamed: 0</th>\n",
       "    </tr>\n",
       "  </thead>\n",
       "  <tbody>\n",
       "    <tr>\n",
       "      <th>count</th>\n",
       "      <td>445645.000000</td>\n",
       "    </tr>\n",
       "    <tr>\n",
       "      <th>mean</th>\n",
       "      <td>222822.000000</td>\n",
       "    </tr>\n",
       "    <tr>\n",
       "      <th>std</th>\n",
       "      <td>128646.774694</td>\n",
       "    </tr>\n",
       "    <tr>\n",
       "      <th>min</th>\n",
       "      <td>0.000000</td>\n",
       "    </tr>\n",
       "    <tr>\n",
       "      <th>25%</th>\n",
       "      <td>111411.000000</td>\n",
       "    </tr>\n",
       "    <tr>\n",
       "      <th>50%</th>\n",
       "      <td>222822.000000</td>\n",
       "    </tr>\n",
       "    <tr>\n",
       "      <th>75%</th>\n",
       "      <td>334233.000000</td>\n",
       "    </tr>\n",
       "    <tr>\n",
       "      <th>max</th>\n",
       "      <td>445644.000000</td>\n",
       "    </tr>\n",
       "  </tbody>\n",
       "</table>\n",
       "</div>"
      ],
      "text/plain": [
       "          Unnamed: 0\n",
       "count  445645.000000\n",
       "mean   222822.000000\n",
       "std    128646.774694\n",
       "min         0.000000\n",
       "25%    111411.000000\n",
       "50%    222822.000000\n",
       "75%    334233.000000\n",
       "max    445644.000000"
      ]
     },
     "execution_count": 18,
     "metadata": {},
     "output_type": "execute_result"
    }
   ],
   "source": [
    "Crew.describe()"
   ]
  },
  {
   "cell_type": "code",
   "execution_count": 19,
   "metadata": {
    "colab": {
     "base_uri": "https://localhost:8080/",
     "height": 297
    },
    "id": "qJuLz_JGJXlh",
    "outputId": "b79da198-ee71-45c9-81e9-6dfb9f4bc0bf"
   },
   "outputs": [
    {
     "data": {
      "text/html": [
       "<div>\n",
       "<style scoped>\n",
       "    .dataframe tbody tr th:only-of-type {\n",
       "        vertical-align: middle;\n",
       "    }\n",
       "\n",
       "    .dataframe tbody tr th {\n",
       "        vertical-align: top;\n",
       "    }\n",
       "\n",
       "    .dataframe thead th {\n",
       "        text-align: right;\n",
       "    }\n",
       "</style>\n",
       "<table border=\"1\" class=\"dataframe\">\n",
       "  <thead>\n",
       "    <tr style=\"text-align: right;\">\n",
       "      <th></th>\n",
       "      <th>Unnamed: 0</th>\n",
       "    </tr>\n",
       "  </thead>\n",
       "  <tbody>\n",
       "    <tr>\n",
       "      <th>count</th>\n",
       "      <td>3.907607e+06</td>\n",
       "    </tr>\n",
       "    <tr>\n",
       "      <th>mean</th>\n",
       "      <td>1.953803e+06</td>\n",
       "    </tr>\n",
       "    <tr>\n",
       "      <th>std</th>\n",
       "      <td>1.128029e+06</td>\n",
       "    </tr>\n",
       "    <tr>\n",
       "      <th>min</th>\n",
       "      <td>0.000000e+00</td>\n",
       "    </tr>\n",
       "    <tr>\n",
       "      <th>25%</th>\n",
       "      <td>9.769015e+05</td>\n",
       "    </tr>\n",
       "    <tr>\n",
       "      <th>50%</th>\n",
       "      <td>1.953803e+06</td>\n",
       "    </tr>\n",
       "    <tr>\n",
       "      <th>75%</th>\n",
       "      <td>2.930704e+06</td>\n",
       "    </tr>\n",
       "    <tr>\n",
       "      <th>max</th>\n",
       "      <td>3.907606e+06</td>\n",
       "    </tr>\n",
       "  </tbody>\n",
       "</table>\n",
       "</div>"
      ],
      "text/plain": [
       "         Unnamed: 0\n",
       "count  3.907607e+06\n",
       "mean   1.953803e+06\n",
       "std    1.128029e+06\n",
       "min    0.000000e+00\n",
       "25%    9.769015e+05\n",
       "50%    1.953803e+06\n",
       "75%    2.930704e+06\n",
       "max    3.907606e+06"
      ]
     },
     "execution_count": 19,
     "metadata": {},
     "output_type": "execute_result"
    }
   ],
   "source": [
    "Episode.describe()"
   ]
  },
  {
   "cell_type": "code",
   "execution_count": 20,
   "metadata": {
    "colab": {
     "base_uri": "https://localhost:8080/",
     "height": 297
    },
    "id": "BE87fQqFJeem",
    "outputId": "84733714-58aa-4d23-e1c9-d9c52f809b5a"
   },
   "outputs": [
    {
     "data": {
      "text/html": [
       "<div>\n",
       "<style scoped>\n",
       "    .dataframe tbody tr th:only-of-type {\n",
       "        vertical-align: middle;\n",
       "    }\n",
       "\n",
       "    .dataframe tbody tr th {\n",
       "        vertical-align: top;\n",
       "    }\n",
       "\n",
       "    .dataframe thead th {\n",
       "        text-align: right;\n",
       "    }\n",
       "</style>\n",
       "<table border=\"1\" class=\"dataframe\">\n",
       "  <thead>\n",
       "    <tr style=\"text-align: right;\">\n",
       "      <th></th>\n",
       "      <th>Unnamed: 0</th>\n",
       "      <th>ordering</th>\n",
       "    </tr>\n",
       "  </thead>\n",
       "  <tbody>\n",
       "    <tr>\n",
       "      <th>count</th>\n",
       "      <td>1.764517e+07</td>\n",
       "      <td>1.764517e+07</td>\n",
       "    </tr>\n",
       "    <tr>\n",
       "      <th>mean</th>\n",
       "      <td>8.822583e+06</td>\n",
       "      <td>4.237858e+00</td>\n",
       "    </tr>\n",
       "    <tr>\n",
       "      <th>std</th>\n",
       "      <td>5.093721e+06</td>\n",
       "      <td>2.787956e+00</td>\n",
       "    </tr>\n",
       "    <tr>\n",
       "      <th>min</th>\n",
       "      <td>0.000000e+00</td>\n",
       "      <td>1.000000e+00</td>\n",
       "    </tr>\n",
       "    <tr>\n",
       "      <th>25%</th>\n",
       "      <td>4.411292e+06</td>\n",
       "      <td>2.000000e+00</td>\n",
       "    </tr>\n",
       "    <tr>\n",
       "      <th>50%</th>\n",
       "      <td>8.822583e+06</td>\n",
       "      <td>4.000000e+00</td>\n",
       "    </tr>\n",
       "    <tr>\n",
       "      <th>75%</th>\n",
       "      <td>1.323387e+07</td>\n",
       "      <td>6.000000e+00</td>\n",
       "    </tr>\n",
       "    <tr>\n",
       "      <th>max</th>\n",
       "      <td>1.764517e+07</td>\n",
       "      <td>1.000000e+01</td>\n",
       "    </tr>\n",
       "  </tbody>\n",
       "</table>\n",
       "</div>"
      ],
      "text/plain": [
       "         Unnamed: 0      ordering\n",
       "count  1.764517e+07  1.764517e+07\n",
       "mean   8.822583e+06  4.237858e+00\n",
       "std    5.093721e+06  2.787956e+00\n",
       "min    0.000000e+00  1.000000e+00\n",
       "25%    4.411292e+06  2.000000e+00\n",
       "50%    8.822583e+06  4.000000e+00\n",
       "75%    1.323387e+07  6.000000e+00\n",
       "max    1.764517e+07  1.000000e+01"
      ]
     },
     "execution_count": 20,
     "metadata": {},
     "output_type": "execute_result"
    }
   ],
   "source": [
    "Principals.describe()"
   ]
  },
  {
   "cell_type": "code",
   "execution_count": 21,
   "metadata": {
    "colab": {
     "base_uri": "https://localhost:8080/",
     "height": 297
    },
    "id": "v_gHyl7gJehX",
    "outputId": "078a2100-929c-44df-db6a-ba67c36e5fb5"
   },
   "outputs": [
    {
     "data": {
      "text/html": [
       "<div>\n",
       "<style scoped>\n",
       "    .dataframe tbody tr th:only-of-type {\n",
       "        vertical-align: middle;\n",
       "    }\n",
       "\n",
       "    .dataframe tbody tr th {\n",
       "        vertical-align: top;\n",
       "    }\n",
       "\n",
       "    .dataframe thead th {\n",
       "        text-align: right;\n",
       "    }\n",
       "</style>\n",
       "<table border=\"1\" class=\"dataframe\">\n",
       "  <thead>\n",
       "    <tr style=\"text-align: right;\">\n",
       "      <th></th>\n",
       "      <th>Unnamed: 0</th>\n",
       "      <th>averageRating</th>\n",
       "      <th>numVotes</th>\n",
       "    </tr>\n",
       "  </thead>\n",
       "  <tbody>\n",
       "    <tr>\n",
       "      <th>count</th>\n",
       "      <td>262629.000000</td>\n",
       "      <td>262629.000000</td>\n",
       "      <td>2.626290e+05</td>\n",
       "    </tr>\n",
       "    <tr>\n",
       "      <th>mean</th>\n",
       "      <td>131314.000000</td>\n",
       "      <td>6.424002</td>\n",
       "      <td>3.760772e+03</td>\n",
       "    </tr>\n",
       "    <tr>\n",
       "      <th>std</th>\n",
       "      <td>75814.606261</td>\n",
       "      <td>1.394512</td>\n",
       "      <td>3.375762e+04</td>\n",
       "    </tr>\n",
       "    <tr>\n",
       "      <th>min</th>\n",
       "      <td>0.000000</td>\n",
       "      <td>1.000000</td>\n",
       "      <td>5.000000e+00</td>\n",
       "    </tr>\n",
       "    <tr>\n",
       "      <th>25%</th>\n",
       "      <td>65657.000000</td>\n",
       "      <td>5.600000</td>\n",
       "      <td>1.500000e+01</td>\n",
       "    </tr>\n",
       "    <tr>\n",
       "      <th>50%</th>\n",
       "      <td>131314.000000</td>\n",
       "      <td>6.600000</td>\n",
       "      <td>5.700000e+01</td>\n",
       "    </tr>\n",
       "    <tr>\n",
       "      <th>75%</th>\n",
       "      <td>196971.000000</td>\n",
       "      <td>7.400000</td>\n",
       "      <td>3.430000e+02</td>\n",
       "    </tr>\n",
       "    <tr>\n",
       "      <th>max</th>\n",
       "      <td>262628.000000</td>\n",
       "      <td>10.000000</td>\n",
       "      <td>2.407288e+06</td>\n",
       "    </tr>\n",
       "  </tbody>\n",
       "</table>\n",
       "</div>"
      ],
      "text/plain": [
       "          Unnamed: 0  averageRating      numVotes\n",
       "count  262629.000000  262629.000000  2.626290e+05\n",
       "mean   131314.000000       6.424002  3.760772e+03\n",
       "std     75814.606261       1.394512  3.375762e+04\n",
       "min         0.000000       1.000000  5.000000e+00\n",
       "25%     65657.000000       5.600000  1.500000e+01\n",
       "50%    131314.000000       6.600000  5.700000e+01\n",
       "75%    196971.000000       7.400000  3.430000e+02\n",
       "max    262628.000000      10.000000  2.407288e+06"
      ]
     },
     "execution_count": 21,
     "metadata": {},
     "output_type": "execute_result"
    }
   ],
   "source": [
    "Ratings.describe()"
   ]
  },
  {
   "cell_type": "code",
   "execution_count": 22,
   "metadata": {
    "colab": {
     "base_uri": "https://localhost:8080/"
    },
    "id": "-5W5k8SJJlKj",
    "outputId": "32f7ca35-f483-4e66-9d61-d1dd0cb2eae8"
   },
   "outputs": [
    {
     "data": {
      "text/plain": [
       "(414246, 7)"
      ]
     },
     "execution_count": 22,
     "metadata": {},
     "output_type": "execute_result"
    }
   ],
   "source": [
    "Name.shape"
   ]
  },
  {
   "cell_type": "code",
   "execution_count": 23,
   "metadata": {
    "colab": {
     "base_uri": "https://localhost:8080/"
    },
    "id": "vqbInNsNJlNR",
    "outputId": "917f1ac0-11b6-43bf-f565-44a19009bdd8"
   },
   "outputs": [
    {
     "data": {
      "text/plain": [
       "(445627, 10)"
      ]
     },
     "execution_count": 23,
     "metadata": {},
     "output_type": "execute_result"
    }
   ],
   "source": [
    "Basics.shape"
   ]
  },
  {
   "cell_type": "code",
   "execution_count": 24,
   "metadata": {
    "colab": {
     "base_uri": "https://localhost:8080/"
    },
    "id": "TJWCnOxuJlQX",
    "outputId": "703460c7-995c-40c3-9a6d-7d1e8e2836dd"
   },
   "outputs": [
    {
     "data": {
      "text/plain": [
       "(445645, 4)"
      ]
     },
     "execution_count": 24,
     "metadata": {},
     "output_type": "execute_result"
    }
   ],
   "source": [
    "Crew.shape"
   ]
  },
  {
   "cell_type": "code",
   "execution_count": 25,
   "metadata": {
    "colab": {
     "base_uri": "https://localhost:8080/"
    },
    "id": "9zln-1I9JlUF",
    "outputId": "8e5b50f0-378a-4c9a-9151-cfa8744b97d3"
   },
   "outputs": [
    {
     "data": {
      "text/plain": [
       "(3907607, 5)"
      ]
     },
     "execution_count": 25,
     "metadata": {},
     "output_type": "execute_result"
    }
   ],
   "source": [
    "Episode.shape"
   ]
  },
  {
   "cell_type": "code",
   "execution_count": 26,
   "metadata": {
    "colab": {
     "base_uri": "https://localhost:8080/"
    },
    "id": "tkKtWrJxJlYZ",
    "outputId": "592e465b-283d-421c-e1e6-ba2b1eeff9f1"
   },
   "outputs": [
    {
     "data": {
      "text/plain": [
       "(17645167, 7)"
      ]
     },
     "execution_count": 26,
     "metadata": {},
     "output_type": "execute_result"
    }
   ],
   "source": [
    "Principals.shape"
   ]
  },
  {
   "cell_type": "code",
   "execution_count": 27,
   "metadata": {
    "colab": {
     "base_uri": "https://localhost:8080/"
    },
    "id": "Mev5PQrSJlgq",
    "outputId": "552b0e7b-7df9-4a7e-ac78-b798d62fa889"
   },
   "outputs": [
    {
     "data": {
      "text/plain": [
       "(262629, 4)"
      ]
     },
     "execution_count": 27,
     "metadata": {},
     "output_type": "execute_result"
    }
   ],
   "source": [
    "Ratings.shape"
   ]
  },
  {
   "cell_type": "markdown",
   "metadata": {
    "id": "E7M8jpG1JyKs"
   },
   "source": [
    "**Visualization for insights into the data sets.**"
   ]
  },
  {
   "cell_type": "code",
   "execution_count": 28,
   "metadata": {
    "colab": {
     "base_uri": "https://localhost:8080/",
     "height": 352
    },
    "id": "0FQFpK3-KH0T",
    "outputId": "2dfd74ee-d891-4467-cecb-2b87b3cd8c7d"
   },
   "outputs": [
    {
     "data": {
      "image/png": "[encoded data removed]",
      "text/plain": [
       "<Figure size 432x288 with 1 Axes>"
      ]
     },
     "metadata": {
      "needs_background": "light"
     },
     "output_type": "display_data"
    }
   ],
   "source": [
    "Name['primaryName'].value_counts()[0:20].plot(kind = 'bar')\n",
    "plt.title(\"Top 20 Most recognised professionals in the industry.\")\n",
    "plt.show()"
   ]
  },
  {
   "cell_type": "code",
   "execution_count": 29,
   "metadata": {
    "colab": {
     "base_uri": "https://localhost:8080/",
     "height": 264
    },
    "id": "GBClZI3xKH2j",
    "outputId": "7db5d89a-164b-456f-834d-75431f41394b"
   },
   "outputs": [
    {
     "data": {
      "image/png": "[encoded data removed]",
      "text/plain": [
       "<Figure size 432x288 with 1 Axes>"
      ]
     },
     "metadata": {},
     "output_type": "display_data"
    }
   ],
   "source": [
    "Basics[Basics.genres!='\\\\N']['genres'].value_counts()[0:10].plot(kind = 'pie')\n",
    "plt.title(\"Top genres\")\n",
    "plt.show()"
   ]
  },
  {
   "cell_type": "code",
   "execution_count": 30,
   "metadata": {
    "colab": {
     "base_uri": "https://localhost:8080/",
     "height": 348
    },
    "id": "lF0YDnzIKH5B",
    "outputId": "a2a141ba-10bf-499b-b56a-750fd62f1fcc"
   },
   "outputs": [
    {
     "data": {
      "image/png": "[encoded data removed]",
      "text/plain": [
       "<Figure size 432x288 with 1 Axes>"
      ]
     },
     "metadata": {
      "needs_background": "light"
     },
     "output_type": "display_data"
    }
   ],
   "source": [
    "Principals[Principals.characters!='\\\\N']['characters'].value_counts()[1:21].explode().plot(kind = 'bar')\n",
    "plt.title(\"Most Common Top 20 characters\")\n",
    "plt.show()"
   ]
  },
  {
   "cell_type": "markdown",
   "metadata": {
    "id": "AT2FR97lRJPu"
   },
   "source": [
    "# **Data Insights**"
   ]
  },
  {
   "cell_type": "code",
   "execution_count": 31,
   "metadata": {
    "colab": {
     "base_uri": "https://localhost:8080/",
     "height": 238
    },
    "id": "pXGfSikPKH7e",
    "outputId": "de2a316f-609a-4a2e-c34b-c10038b4e99c"
   },
   "outputs": [
    {
     "data": {
      "text/html": [
       "<div>\n",
       "<style scoped>\n",
       "    .dataframe tbody tr th:only-of-type {\n",
       "        vertical-align: middle;\n",
       "    }\n",
       "\n",
       "    .dataframe tbody tr th {\n",
       "        vertical-align: top;\n",
       "    }\n",
       "\n",
       "    .dataframe thead th {\n",
       "        text-align: right;\n",
       "    }\n",
       "</style>\n",
       "<table border=\"1\" class=\"dataframe\">\n",
       "  <thead>\n",
       "    <tr style=\"text-align: right;\">\n",
       "      <th></th>\n",
       "      <th>Unnamed: 0_x</th>\n",
       "      <th>tconst</th>\n",
       "      <th>titleType</th>\n",
       "      <th>primaryTitle</th>\n",
       "      <th>originalTitle</th>\n",
       "      <th>isAdult</th>\n",
       "      <th>startYear</th>\n",
       "      <th>endYear</th>\n",
       "      <th>runtimeMinutes</th>\n",
       "      <th>genres</th>\n",
       "      <th>Unnamed: 0_y</th>\n",
       "      <th>averageRating</th>\n",
       "      <th>numVotes</th>\n",
       "    </tr>\n",
       "  </thead>\n",
       "  <tbody>\n",
       "    <tr>\n",
       "      <th>0</th>\n",
       "      <td>0</td>\n",
       "      <td>tt0000447</td>\n",
       "      <td>short</td>\n",
       "      <td>Life of an American Fireman</td>\n",
       "      <td>Life of an American Fireman</td>\n",
       "      <td>0</td>\n",
       "      <td>1903</td>\n",
       "      <td>\\N</td>\n",
       "      <td>6</td>\n",
       "      <td>Action,Short</td>\n",
       "      <td>0.0</td>\n",
       "      <td>6.4</td>\n",
       "      <td>2193.0</td>\n",
       "    </tr>\n",
       "    <tr>\n",
       "      <th>1</th>\n",
       "      <td>1</td>\n",
       "      <td>tt0000498</td>\n",
       "      <td>short</td>\n",
       "      <td>Rescued by Rover</td>\n",
       "      <td>Rescued by Rover</td>\n",
       "      <td>0</td>\n",
       "      <td>1905</td>\n",
       "      <td>\\N</td>\n",
       "      <td>7</td>\n",
       "      <td>Crime,Drama,Family</td>\n",
       "      <td>1.0</td>\n",
       "      <td>6.6</td>\n",
       "      <td>1093.0</td>\n",
       "    </tr>\n",
       "    <tr>\n",
       "      <th>2</th>\n",
       "      <td>2</td>\n",
       "      <td>tt0000746</td>\n",
       "      <td>short</td>\n",
       "      <td>The Reckoning</td>\n",
       "      <td>The Reckoning</td>\n",
       "      <td>0</td>\n",
       "      <td>1908</td>\n",
       "      <td>\\N</td>\n",
       "      <td>8</td>\n",
       "      <td>Drama,Short</td>\n",
       "      <td>2.0</td>\n",
       "      <td>7.4</td>\n",
       "      <td>9.0</td>\n",
       "    </tr>\n",
       "    <tr>\n",
       "      <th>3</th>\n",
       "      <td>3</td>\n",
       "      <td>tt0000843</td>\n",
       "      <td>short</td>\n",
       "      <td>The Death Disc: A Story of the Cromwellian Period</td>\n",
       "      <td>The Death Disc: A Story of the Cromwellian Period</td>\n",
       "      <td>0</td>\n",
       "      <td>1909</td>\n",
       "      <td>\\N</td>\n",
       "      <td>11</td>\n",
       "      <td>Drama,Short</td>\n",
       "      <td>3.0</td>\n",
       "      <td>5.7</td>\n",
       "      <td>10.0</td>\n",
       "    </tr>\n",
       "    <tr>\n",
       "      <th>4</th>\n",
       "      <td>4</td>\n",
       "      <td>tt0001546</td>\n",
       "      <td>short</td>\n",
       "      <td>Cinderella</td>\n",
       "      <td>Cinderella</td>\n",
       "      <td>0</td>\n",
       "      <td>1912</td>\n",
       "      <td>\\N</td>\n",
       "      <td>\\N</td>\n",
       "      <td>Fantasy,Romance,Short</td>\n",
       "      <td>NaN</td>\n",
       "      <td>NaN</td>\n",
       "      <td>NaN</td>\n",
       "    </tr>\n",
       "  </tbody>\n",
       "</table>\n",
       "</div>"
      ],
      "text/plain": [
       "   Unnamed: 0_x     tconst titleType  \\\n",
       "0             0  tt0000447     short   \n",
       "1             1  tt0000498     short   \n",
       "2             2  tt0000746     short   \n",
       "3             3  tt0000843     short   \n",
       "4             4  tt0001546     short   \n",
       "\n",
       "                                        primaryTitle  \\\n",
       "0                        Life of an American Fireman   \n",
       "1                                   Rescued by Rover   \n",
       "2                                      The Reckoning   \n",
       "3  The Death Disc: A Story of the Cromwellian Period   \n",
       "4                                         Cinderella   \n",
       "\n",
       "                                       originalTitle  isAdult startYear  \\\n",
       "0                        Life of an American Fireman        0      1903   \n",
       "1                                   Rescued by Rover        0      1905   \n",
       "2                                      The Reckoning        0      1908   \n",
       "3  The Death Disc: A Story of the Cromwellian Period        0      1909   \n",
       "4                                         Cinderella        0      1912   \n",
       "\n",
       "  endYear runtimeMinutes                 genres  Unnamed: 0_y  averageRating  \\\n",
       "0      \\N              6           Action,Short           0.0            6.4   \n",
       "1      \\N              7     Crime,Drama,Family           1.0            6.6   \n",
       "2      \\N              8            Drama,Short           2.0            7.4   \n",
       "3      \\N             11            Drama,Short           3.0            5.7   \n",
       "4      \\N             \\N  Fantasy,Romance,Short           NaN            NaN   \n",
       "\n",
       "   numVotes  \n",
       "0    2193.0  \n",
       "1    1093.0  \n",
       "2       9.0  \n",
       "3      10.0  \n",
       "4       NaN  "
      ]
     },
     "execution_count": 31,
     "metadata": {},
     "output_type": "execute_result"
    }
   ],
   "source": [
    "# How title length affects ratings.\n",
    "TitleLengthXRatings = pd.merge(Basics,Ratings,on='tconst',how = 'outer')\n",
    "TitleLengthXRatings.head()"
   ]
  },
  {
   "cell_type": "code",
   "execution_count": 32,
   "metadata": {
    "id": "hIHRUmhnKH9y"
   },
   "outputs": [],
   "source": [
    "for i in range(len(TitleLengthXRatings)):\n",
    "  TitleLengthXRatings.at[i,'Title length'] = len(TitleLengthXRatings.loc[i,'originalTitle'])\n"
   ]
  },
  {
   "cell_type": "code",
   "execution_count": 33,
   "metadata": {
    "colab": {
     "base_uri": "https://localhost:8080/",
     "height": 295
    },
    "id": "RTDGfCrbC6ke",
    "outputId": "6c1ce09d-61e0-43bc-b379-df4bbc531cb0"
   },
   "outputs": [
    {
     "data": {
      "image/png": "[encoded data removed]",
      "text/plain": [
       "<Figure size 432x288 with 1 Axes>"
      ]
     },
     "metadata": {
      "needs_background": "light"
     },
     "output_type": "display_data"
    }
   ],
   "source": [
    "sns.regplot(x = 'Title length',y = 'averageRating',data = TitleLengthXRatings)\n",
    "plt.title(\"Title length vs Ratings\")\n",
    "plt.show()"
   ]
  },
  {
   "cell_type": "code",
   "execution_count": 34,
   "metadata": {
    "colab": {
     "base_uri": "https://localhost:8080/",
     "height": 111
    },
    "id": "6WjDYnQZTX07",
    "outputId": "9e455c7e-4069-47b7-c5b9-be25b7cf92bc"
   },
   "outputs": [
    {
     "data": {
      "text/html": [
       "<div>\n",
       "<style scoped>\n",
       "    .dataframe tbody tr th:only-of-type {\n",
       "        vertical-align: middle;\n",
       "    }\n",
       "\n",
       "    .dataframe tbody tr th {\n",
       "        vertical-align: top;\n",
       "    }\n",
       "\n",
       "    .dataframe thead th {\n",
       "        text-align: right;\n",
       "    }\n",
       "</style>\n",
       "<table border=\"1\" class=\"dataframe\">\n",
       "  <thead>\n",
       "    <tr style=\"text-align: right;\">\n",
       "      <th></th>\n",
       "      <th>Title length</th>\n",
       "      <th>averageRating</th>\n",
       "    </tr>\n",
       "  </thead>\n",
       "  <tbody>\n",
       "    <tr>\n",
       "      <th>Title length</th>\n",
       "      <td>1.000000</td>\n",
       "      <td>0.052517</td>\n",
       "    </tr>\n",
       "    <tr>\n",
       "      <th>averageRating</th>\n",
       "      <td>0.052517</td>\n",
       "      <td>1.000000</td>\n",
       "    </tr>\n",
       "  </tbody>\n",
       "</table>\n",
       "</div>"
      ],
      "text/plain": [
       "               Title length  averageRating\n",
       "Title length       1.000000       0.052517\n",
       "averageRating      0.052517       1.000000"
      ]
     },
     "execution_count": 34,
     "metadata": {},
     "output_type": "execute_result"
    }
   ],
   "source": [
    "TitleLengthXRatings[['Title length','averageRating']].corr()"
   ]
  },
  {
   "cell_type": "markdown",
   "metadata": {
    "id": "Jh2QW-cbTqPy"
   },
   "source": [
    "There is no significant relationship between Title length and average rating of a movie.\n"
   ]
  },
  {
   "cell_type": "markdown",
   "metadata": {
    "id": "hQZp1GUST0_A"
   },
   "source": [
    "# **Explore best writers and directors with higher ratings.**"
   ]
  },
  {
   "cell_type": "code",
   "execution_count": 35,
   "metadata": {
    "colab": {
     "base_uri": "https://localhost:8080/"
    },
    "id": "azSNYfOWUGE5",
    "outputId": "10e6723f-f4f7-4988-d672-c0566c227e0f"
   },
   "outputs": [
    {
     "data": {
      "text/plain": [
       "['tt13904784',\n",
       " 'tt14749180',\n",
       " 'tt0866639',\n",
       " 'tt13223848',\n",
       " 'tt1787052',\n",
       " 'tt13352136',\n",
       " 'tt13352176',\n",
       " 'tt13411228',\n",
       " 'tt1787053',\n",
       " 'tt11729018',\n",
       " 'tt5783558',\n",
       " 'tt1085701',\n",
       " 'tt12774216',\n",
       " 'tt4327728',\n",
       " 'tt2646104',\n",
       " 'tt0140082',\n",
       " 'tt14391292',\n",
       " 'tt0270900',\n",
       " 'tt0333372',\n",
       " 'tt0448633']"
      ]
     },
     "execution_count": 35,
     "metadata": {},
     "output_type": "execute_result"
    }
   ],
   "source": [
    "Tconst = list(Ratings.sort_values(by=['averageRating','numVotes'],ascending=False)[:20]['tconst'])\n",
    "Tconst"
   ]
  },
  {
   "cell_type": "code",
   "execution_count": 36,
   "metadata": {
    "id": "aIK4c3fuUGHn"
   },
   "outputs": [],
   "source": [
    "Rows = []\n",
    "for i in Tconst:\n",
    "  Rows = Rows + list(np.where(Crew['tconst']==i)[0])"
   ]
  },
  {
   "cell_type": "code",
   "execution_count": 37,
   "metadata": {
    "id": "Ab0TZtfdUGK-"
   },
   "outputs": [],
   "source": [
    "TopWD = Crew.loc[Rows,:]"
   ]
  },
  {
   "cell_type": "code",
   "execution_count": 38,
   "metadata": {
    "colab": {
     "base_uri": "https://localhost:8080/",
     "height": 706
    },
    "id": "Nn96oAfzXrxw",
    "outputId": "e7021a78-a968-48c4-f57b-03e896e9c814"
   },
   "outputs": [
    {
     "data": {
      "text/html": [
       "<div>\n",
       "<style scoped>\n",
       "    .dataframe tbody tr th:only-of-type {\n",
       "        vertical-align: middle;\n",
       "    }\n",
       "\n",
       "    .dataframe tbody tr th {\n",
       "        vertical-align: top;\n",
       "    }\n",
       "\n",
       "    .dataframe thead th {\n",
       "        text-align: right;\n",
       "    }\n",
       "</style>\n",
       "<table border=\"1\" class=\"dataframe\">\n",
       "  <thead>\n",
       "    <tr style=\"text-align: right;\">\n",
       "      <th></th>\n",
       "      <th>Unnamed: 0</th>\n",
       "      <th>tconst</th>\n",
       "      <th>writers</th>\n",
       "      <th>nm0030365</th>\n",
       "      <th>nm0104172</th>\n",
       "      <th>nm0203712</th>\n",
       "      <th>nm0285998</th>\n",
       "      <th>nm0357553</th>\n",
       "      <th>nm0406114</th>\n",
       "      <th>nm0411958</th>\n",
       "      <th>...</th>\n",
       "      <th>nm1869577</th>\n",
       "      <th>nm2448669</th>\n",
       "      <th>nm3361196</th>\n",
       "      <th>nm3753506</th>\n",
       "      <th>nm3762653</th>\n",
       "      <th>nm4492923</th>\n",
       "      <th>nm5371165</th>\n",
       "      <th>nm7030385</th>\n",
       "      <th>nm7031415</th>\n",
       "      <th>nm8195164</th>\n",
       "    </tr>\n",
       "  </thead>\n",
       "  <tbody>\n",
       "    <tr>\n",
       "      <th>249882</th>\n",
       "      <td>249882</td>\n",
       "      <td>tt13904784</td>\n",
       "      <td>\\N</td>\n",
       "      <td>0</td>\n",
       "      <td>0</td>\n",
       "      <td>0</td>\n",
       "      <td>0</td>\n",
       "      <td>0</td>\n",
       "      <td>0</td>\n",
       "      <td>0</td>\n",
       "      <td>...</td>\n",
       "      <td>0</td>\n",
       "      <td>0</td>\n",
       "      <td>0</td>\n",
       "      <td>0</td>\n",
       "      <td>0</td>\n",
       "      <td>0</td>\n",
       "      <td>0</td>\n",
       "      <td>0</td>\n",
       "      <td>0</td>\n",
       "      <td>0</td>\n",
       "    </tr>\n",
       "    <tr>\n",
       "      <th>261659</th>\n",
       "      <td>261659</td>\n",
       "      <td>tt14749180</td>\n",
       "      <td>nm10656343</td>\n",
       "      <td>0</td>\n",
       "      <td>0</td>\n",
       "      <td>0</td>\n",
       "      <td>0</td>\n",
       "      <td>0</td>\n",
       "      <td>0</td>\n",
       "      <td>0</td>\n",
       "      <td>...</td>\n",
       "      <td>0</td>\n",
       "      <td>0</td>\n",
       "      <td>0</td>\n",
       "      <td>0</td>\n",
       "      <td>0</td>\n",
       "      <td>0</td>\n",
       "      <td>0</td>\n",
       "      <td>0</td>\n",
       "      <td>0</td>\n",
       "      <td>0</td>\n",
       "    </tr>\n",
       "    <tr>\n",
       "      <th>182419</th>\n",
       "      <td>182419</td>\n",
       "      <td>tt0866639</td>\n",
       "      <td>nm0100862,nm0161427,nm0176990,nm0352555,nm0658...</td>\n",
       "      <td>1</td>\n",
       "      <td>1</td>\n",
       "      <td>1</td>\n",
       "      <td>1</td>\n",
       "      <td>0</td>\n",
       "      <td>0</td>\n",
       "      <td>0</td>\n",
       "      <td>...</td>\n",
       "      <td>0</td>\n",
       "      <td>0</td>\n",
       "      <td>0</td>\n",
       "      <td>0</td>\n",
       "      <td>0</td>\n",
       "      <td>0</td>\n",
       "      <td>0</td>\n",
       "      <td>0</td>\n",
       "      <td>0</td>\n",
       "      <td>0</td>\n",
       "    </tr>\n",
       "    <tr>\n",
       "      <th>239290</th>\n",
       "      <td>239290</td>\n",
       "      <td>tt13223848</td>\n",
       "      <td>nm5371165</td>\n",
       "      <td>0</td>\n",
       "      <td>0</td>\n",
       "      <td>0</td>\n",
       "      <td>0</td>\n",
       "      <td>0</td>\n",
       "      <td>0</td>\n",
       "      <td>0</td>\n",
       "      <td>...</td>\n",
       "      <td>0</td>\n",
       "      <td>0</td>\n",
       "      <td>0</td>\n",
       "      <td>0</td>\n",
       "      <td>0</td>\n",
       "      <td>0</td>\n",
       "      <td>1</td>\n",
       "      <td>0</td>\n",
       "      <td>0</td>\n",
       "      <td>0</td>\n",
       "    </tr>\n",
       "    <tr>\n",
       "      <th>283483</th>\n",
       "      <td>283483</td>\n",
       "      <td>tt1787052</td>\n",
       "      <td>\\N</td>\n",
       "      <td>0</td>\n",
       "      <td>0</td>\n",
       "      <td>0</td>\n",
       "      <td>0</td>\n",
       "      <td>0</td>\n",
       "      <td>0</td>\n",
       "      <td>0</td>\n",
       "      <td>...</td>\n",
       "      <td>0</td>\n",
       "      <td>1</td>\n",
       "      <td>0</td>\n",
       "      <td>0</td>\n",
       "      <td>0</td>\n",
       "      <td>0</td>\n",
       "      <td>0</td>\n",
       "      <td>0</td>\n",
       "      <td>0</td>\n",
       "      <td>0</td>\n",
       "    </tr>\n",
       "    <tr>\n",
       "      <th>241307</th>\n",
       "      <td>241307</td>\n",
       "      <td>tt13352136</td>\n",
       "      <td>nm3361196,nm5410176</td>\n",
       "      <td>0</td>\n",
       "      <td>0</td>\n",
       "      <td>0</td>\n",
       "      <td>0</td>\n",
       "      <td>0</td>\n",
       "      <td>0</td>\n",
       "      <td>0</td>\n",
       "      <td>...</td>\n",
       "      <td>0</td>\n",
       "      <td>0</td>\n",
       "      <td>1</td>\n",
       "      <td>0</td>\n",
       "      <td>0</td>\n",
       "      <td>0</td>\n",
       "      <td>0</td>\n",
       "      <td>0</td>\n",
       "      <td>0</td>\n",
       "      <td>0</td>\n",
       "    </tr>\n",
       "    <tr>\n",
       "      <th>241309</th>\n",
       "      <td>241309</td>\n",
       "      <td>tt13352176</td>\n",
       "      <td>nm3361196</td>\n",
       "      <td>0</td>\n",
       "      <td>0</td>\n",
       "      <td>0</td>\n",
       "      <td>0</td>\n",
       "      <td>0</td>\n",
       "      <td>0</td>\n",
       "      <td>0</td>\n",
       "      <td>...</td>\n",
       "      <td>0</td>\n",
       "      <td>0</td>\n",
       "      <td>1</td>\n",
       "      <td>0</td>\n",
       "      <td>0</td>\n",
       "      <td>0</td>\n",
       "      <td>0</td>\n",
       "      <td>0</td>\n",
       "      <td>0</td>\n",
       "      <td>0</td>\n",
       "    </tr>\n",
       "    <tr>\n",
       "      <th>242331</th>\n",
       "      <td>242331</td>\n",
       "      <td>tt13411228</td>\n",
       "      <td>nm3361196,nm12041639</td>\n",
       "      <td>0</td>\n",
       "      <td>0</td>\n",
       "      <td>0</td>\n",
       "      <td>0</td>\n",
       "      <td>0</td>\n",
       "      <td>0</td>\n",
       "      <td>0</td>\n",
       "      <td>...</td>\n",
       "      <td>0</td>\n",
       "      <td>0</td>\n",
       "      <td>1</td>\n",
       "      <td>0</td>\n",
       "      <td>0</td>\n",
       "      <td>0</td>\n",
       "      <td>0</td>\n",
       "      <td>0</td>\n",
       "      <td>0</td>\n",
       "      <td>0</td>\n",
       "    </tr>\n",
       "    <tr>\n",
       "      <th>283484</th>\n",
       "      <td>283484</td>\n",
       "      <td>tt1787053</td>\n",
       "      <td>\\N</td>\n",
       "      <td>0</td>\n",
       "      <td>0</td>\n",
       "      <td>0</td>\n",
       "      <td>0</td>\n",
       "      <td>0</td>\n",
       "      <td>0</td>\n",
       "      <td>0</td>\n",
       "      <td>...</td>\n",
       "      <td>0</td>\n",
       "      <td>1</td>\n",
       "      <td>0</td>\n",
       "      <td>0</td>\n",
       "      <td>0</td>\n",
       "      <td>0</td>\n",
       "      <td>0</td>\n",
       "      <td>0</td>\n",
       "      <td>0</td>\n",
       "      <td>0</td>\n",
       "    </tr>\n",
       "    <tr>\n",
       "      <th>217401</th>\n",
       "      <td>217401</td>\n",
       "      <td>tt11729018</td>\n",
       "      <td>nm3762653</td>\n",
       "      <td>0</td>\n",
       "      <td>0</td>\n",
       "      <td>0</td>\n",
       "      <td>0</td>\n",
       "      <td>0</td>\n",
       "      <td>0</td>\n",
       "      <td>0</td>\n",
       "      <td>...</td>\n",
       "      <td>0</td>\n",
       "      <td>0</td>\n",
       "      <td>0</td>\n",
       "      <td>0</td>\n",
       "      <td>1</td>\n",
       "      <td>0</td>\n",
       "      <td>0</td>\n",
       "      <td>0</td>\n",
       "      <td>0</td>\n",
       "      <td>0</td>\n",
       "    </tr>\n",
       "    <tr>\n",
       "      <th>387527</th>\n",
       "      <td>387527</td>\n",
       "      <td>tt5783558</td>\n",
       "      <td>nm8195164</td>\n",
       "      <td>0</td>\n",
       "      <td>0</td>\n",
       "      <td>0</td>\n",
       "      <td>0</td>\n",
       "      <td>0</td>\n",
       "      <td>0</td>\n",
       "      <td>0</td>\n",
       "      <td>...</td>\n",
       "      <td>0</td>\n",
       "      <td>0</td>\n",
       "      <td>0</td>\n",
       "      <td>0</td>\n",
       "      <td>0</td>\n",
       "      <td>0</td>\n",
       "      <td>0</td>\n",
       "      <td>0</td>\n",
       "      <td>0</td>\n",
       "      <td>1</td>\n",
       "    </tr>\n",
       "    <tr>\n",
       "      <th>203961</th>\n",
       "      <td>203961</td>\n",
       "      <td>tt1085701</td>\n",
       "      <td>nm0357553,nm0957008</td>\n",
       "      <td>0</td>\n",
       "      <td>0</td>\n",
       "      <td>0</td>\n",
       "      <td>0</td>\n",
       "      <td>1</td>\n",
       "      <td>0</td>\n",
       "      <td>0</td>\n",
       "      <td>...</td>\n",
       "      <td>0</td>\n",
       "      <td>0</td>\n",
       "      <td>0</td>\n",
       "      <td>0</td>\n",
       "      <td>0</td>\n",
       "      <td>0</td>\n",
       "      <td>0</td>\n",
       "      <td>0</td>\n",
       "      <td>0</td>\n",
       "      <td>0</td>\n",
       "    </tr>\n",
       "    <tr>\n",
       "      <th>232762</th>\n",
       "      <td>232762</td>\n",
       "      <td>tt12774216</td>\n",
       "      <td>nm1869577</td>\n",
       "      <td>0</td>\n",
       "      <td>0</td>\n",
       "      <td>0</td>\n",
       "      <td>0</td>\n",
       "      <td>0</td>\n",
       "      <td>0</td>\n",
       "      <td>0</td>\n",
       "      <td>...</td>\n",
       "      <td>1</td>\n",
       "      <td>0</td>\n",
       "      <td>0</td>\n",
       "      <td>0</td>\n",
       "      <td>0</td>\n",
       "      <td>0</td>\n",
       "      <td>0</td>\n",
       "      <td>0</td>\n",
       "      <td>0</td>\n",
       "      <td>0</td>\n",
       "    </tr>\n",
       "    <tr>\n",
       "      <th>359051</th>\n",
       "      <td>359051</td>\n",
       "      <td>tt4327728</td>\n",
       "      <td>\\N</td>\n",
       "      <td>0</td>\n",
       "      <td>0</td>\n",
       "      <td>0</td>\n",
       "      <td>0</td>\n",
       "      <td>0</td>\n",
       "      <td>0</td>\n",
       "      <td>0</td>\n",
       "      <td>...</td>\n",
       "      <td>0</td>\n",
       "      <td>0</td>\n",
       "      <td>0</td>\n",
       "      <td>1</td>\n",
       "      <td>0</td>\n",
       "      <td>0</td>\n",
       "      <td>0</td>\n",
       "      <td>1</td>\n",
       "      <td>1</td>\n",
       "      <td>0</td>\n",
       "    </tr>\n",
       "    <tr>\n",
       "      <th>321106</th>\n",
       "      <td>321106</td>\n",
       "      <td>tt2646104</td>\n",
       "      <td>nm5870567,nm4492923</td>\n",
       "      <td>0</td>\n",
       "      <td>0</td>\n",
       "      <td>0</td>\n",
       "      <td>0</td>\n",
       "      <td>0</td>\n",
       "      <td>0</td>\n",
       "      <td>0</td>\n",
       "      <td>...</td>\n",
       "      <td>0</td>\n",
       "      <td>0</td>\n",
       "      <td>0</td>\n",
       "      <td>0</td>\n",
       "      <td>0</td>\n",
       "      <td>1</td>\n",
       "      <td>0</td>\n",
       "      <td>0</td>\n",
       "      <td>0</td>\n",
       "      <td>0</td>\n",
       "    </tr>\n",
       "    <tr>\n",
       "      <th>70372</th>\n",
       "      <td>70372</td>\n",
       "      <td>tt0140082</td>\n",
       "      <td>nm2183430</td>\n",
       "      <td>0</td>\n",
       "      <td>0</td>\n",
       "      <td>0</td>\n",
       "      <td>0</td>\n",
       "      <td>0</td>\n",
       "      <td>1</td>\n",
       "      <td>0</td>\n",
       "      <td>...</td>\n",
       "      <td>0</td>\n",
       "      <td>0</td>\n",
       "      <td>0</td>\n",
       "      <td>0</td>\n",
       "      <td>0</td>\n",
       "      <td>0</td>\n",
       "      <td>0</td>\n",
       "      <td>0</td>\n",
       "      <td>0</td>\n",
       "      <td>0</td>\n",
       "    </tr>\n",
       "    <tr>\n",
       "      <th>256742</th>\n",
       "      <td>256742</td>\n",
       "      <td>tt14391292</td>\n",
       "      <td>nm12459725</td>\n",
       "      <td>0</td>\n",
       "      <td>0</td>\n",
       "      <td>0</td>\n",
       "      <td>0</td>\n",
       "      <td>0</td>\n",
       "      <td>0</td>\n",
       "      <td>0</td>\n",
       "      <td>...</td>\n",
       "      <td>0</td>\n",
       "      <td>0</td>\n",
       "      <td>0</td>\n",
       "      <td>0</td>\n",
       "      <td>0</td>\n",
       "      <td>0</td>\n",
       "      <td>0</td>\n",
       "      <td>0</td>\n",
       "      <td>0</td>\n",
       "      <td>0</td>\n",
       "    </tr>\n",
       "    <tr>\n",
       "      <th>109725</th>\n",
       "      <td>109725</td>\n",
       "      <td>tt0270900</td>\n",
       "      <td>nm1283207,nm1283208,nm0499714</td>\n",
       "      <td>0</td>\n",
       "      <td>0</td>\n",
       "      <td>0</td>\n",
       "      <td>0</td>\n",
       "      <td>0</td>\n",
       "      <td>0</td>\n",
       "      <td>0</td>\n",
       "      <td>...</td>\n",
       "      <td>0</td>\n",
       "      <td>0</td>\n",
       "      <td>0</td>\n",
       "      <td>0</td>\n",
       "      <td>0</td>\n",
       "      <td>0</td>\n",
       "      <td>0</td>\n",
       "      <td>0</td>\n",
       "      <td>0</td>\n",
       "      <td>0</td>\n",
       "    </tr>\n",
       "    <tr>\n",
       "      <th>128986</th>\n",
       "      <td>128986</td>\n",
       "      <td>tt0333372</td>\n",
       "      <td>\\N</td>\n",
       "      <td>0</td>\n",
       "      <td>0</td>\n",
       "      <td>0</td>\n",
       "      <td>0</td>\n",
       "      <td>0</td>\n",
       "      <td>0</td>\n",
       "      <td>1</td>\n",
       "      <td>...</td>\n",
       "      <td>0</td>\n",
       "      <td>0</td>\n",
       "      <td>0</td>\n",
       "      <td>0</td>\n",
       "      <td>0</td>\n",
       "      <td>0</td>\n",
       "      <td>0</td>\n",
       "      <td>0</td>\n",
       "      <td>0</td>\n",
       "      <td>0</td>\n",
       "    </tr>\n",
       "    <tr>\n",
       "      <th>159780</th>\n",
       "      <td>159780</td>\n",
       "      <td>tt0448633</td>\n",
       "      <td>nm1860671</td>\n",
       "      <td>0</td>\n",
       "      <td>0</td>\n",
       "      <td>0</td>\n",
       "      <td>0</td>\n",
       "      <td>0</td>\n",
       "      <td>0</td>\n",
       "      <td>0</td>\n",
       "      <td>...</td>\n",
       "      <td>0</td>\n",
       "      <td>0</td>\n",
       "      <td>0</td>\n",
       "      <td>0</td>\n",
       "      <td>0</td>\n",
       "      <td>0</td>\n",
       "      <td>0</td>\n",
       "      <td>0</td>\n",
       "      <td>0</td>\n",
       "      <td>0</td>\n",
       "    </tr>\n",
       "  </tbody>\n",
       "</table>\n",
       "<p>20 rows × 27 columns</p>\n",
       "</div>"
      ],
      "text/plain": [
       "        Unnamed: 0      tconst  \\\n",
       "249882      249882  tt13904784   \n",
       "261659      261659  tt14749180   \n",
       "182419      182419   tt0866639   \n",
       "239290      239290  tt13223848   \n",
       "283483      283483   tt1787052   \n",
       "241307      241307  tt13352136   \n",
       "241309      241309  tt13352176   \n",
       "242331      242331  tt13411228   \n",
       "283484      283484   tt1787053   \n",
       "217401      217401  tt11729018   \n",
       "387527      387527   tt5783558   \n",
       "203961      203961   tt1085701   \n",
       "232762      232762  tt12774216   \n",
       "359051      359051   tt4327728   \n",
       "321106      321106   tt2646104   \n",
       "70372        70372   tt0140082   \n",
       "256742      256742  tt14391292   \n",
       "109725      109725   tt0270900   \n",
       "128986      128986   tt0333372   \n",
       "159780      159780   tt0448633   \n",
       "\n",
       "                                                  writers  nm0030365  \\\n",
       "249882                                                 \\N          0   \n",
       "261659                                         nm10656343          0   \n",
       "182419  nm0100862,nm0161427,nm0176990,nm0352555,nm0658...          1   \n",
       "239290                                          nm5371165          0   \n",
       "283483                                                 \\N          0   \n",
       "241307                                nm3361196,nm5410176          0   \n",
       "241309                                          nm3361196          0   \n",
       "242331                               nm3361196,nm12041639          0   \n",
       "283484                                                 \\N          0   \n",
       "217401                                          nm3762653          0   \n",
       "387527                                          nm8195164          0   \n",
       "203961                                nm0357553,nm0957008          0   \n",
       "232762                                          nm1869577          0   \n",
       "359051                                                 \\N          0   \n",
       "321106                                nm5870567,nm4492923          0   \n",
       "70372                                           nm2183430          0   \n",
       "256742                                         nm12459725          0   \n",
       "109725                      nm1283207,nm1283208,nm0499714          0   \n",
       "128986                                                 \\N          0   \n",
       "159780                                          nm1860671          0   \n",
       "\n",
       "        nm0104172  nm0203712  nm0285998  nm0357553  nm0406114  nm0411958  ...  \\\n",
       "249882          0          0          0          0          0          0  ...   \n",
       "261659          0          0          0          0          0          0  ...   \n",
       "182419          1          1          1          0          0          0  ...   \n",
       "239290          0          0          0          0          0          0  ...   \n",
       "283483          0          0          0          0          0          0  ...   \n",
       "241307          0          0          0          0          0          0  ...   \n",
       "241309          0          0          0          0          0          0  ...   \n",
       "242331          0          0          0          0          0          0  ...   \n",
       "283484          0          0          0          0          0          0  ...   \n",
       "217401          0          0          0          0          0          0  ...   \n",
       "387527          0          0          0          0          0          0  ...   \n",
       "203961          0          0          0          1          0          0  ...   \n",
       "232762          0          0          0          0          0          0  ...   \n",
       "359051          0          0          0          0          0          0  ...   \n",
       "321106          0          0          0          0          0          0  ...   \n",
       "70372           0          0          0          0          1          0  ...   \n",
       "256742          0          0          0          0          0          0  ...   \n",
       "109725          0          0          0          0          0          0  ...   \n",
       "128986          0          0          0          0          0          1  ...   \n",
       "159780          0          0          0          0          0          0  ...   \n",
       "\n",
       "        nm1869577  nm2448669  nm3361196  nm3753506  nm3762653  nm4492923  \\\n",
       "249882          0          0          0          0          0          0   \n",
       "261659          0          0          0          0          0          0   \n",
       "182419          0          0          0          0          0          0   \n",
       "239290          0          0          0          0          0          0   \n",
       "283483          0          1          0          0          0          0   \n",
       "241307          0          0          1          0          0          0   \n",
       "241309          0          0          1          0          0          0   \n",
       "242331          0          0          1          0          0          0   \n",
       "283484          0          1          0          0          0          0   \n",
       "217401          0          0          0          0          1          0   \n",
       "387527          0          0          0          0          0          0   \n",
       "203961          0          0          0          0          0          0   \n",
       "232762          1          0          0          0          0          0   \n",
       "359051          0          0          0          1          0          0   \n",
       "321106          0          0          0          0          0          1   \n",
       "70372           0          0          0          0          0          0   \n",
       "256742          0          0          0          0          0          0   \n",
       "109725          0          0          0          0          0          0   \n",
       "128986          0          0          0          0          0          0   \n",
       "159780          0          0          0          0          0          0   \n",
       "\n",
       "        nm5371165  nm7030385  nm7031415  nm8195164  \n",
       "249882          0          0          0          0  \n",
       "261659          0          0          0          0  \n",
       "182419          0          0          0          0  \n",
       "239290          1          0          0          0  \n",
       "283483          0          0          0          0  \n",
       "241307          0          0          0          0  \n",
       "241309          0          0          0          0  \n",
       "242331          0          0          0          0  \n",
       "283484          0          0          0          0  \n",
       "217401          0          0          0          0  \n",
       "387527          0          0          0          1  \n",
       "203961          0          0          0          0  \n",
       "232762          0          0          0          0  \n",
       "359051          0          1          1          0  \n",
       "321106          0          0          0          0  \n",
       "70372           0          0          0          0  \n",
       "256742          0          0          0          0  \n",
       "109725          0          0          0          0  \n",
       "128986          0          0          0          0  \n",
       "159780          0          0          0          0  \n",
       "\n",
       "[20 rows x 27 columns]"
      ]
     },
     "execution_count": 38,
     "metadata": {},
     "output_type": "execute_result"
    }
   ],
   "source": [
    "TopWD = pd.concat([TopWD.drop('directors',axis = 1),TopWD['directors'].str.get_dummies(sep=',')],1)\n",
    "TopWD"
   ]
  },
  {
   "cell_type": "code",
   "execution_count": 39,
   "metadata": {
    "colab": {
     "base_uri": "https://localhost:8080/"
    },
    "id": "aFlgfpFxbTVb",
    "outputId": "dd714f30-8126-4b4c-b1c6-c3283d7d92c2"
   },
   "outputs": [
    {
     "data": {
      "text/plain": [
       "['nm0030365',\n",
       " 'nm0104172',\n",
       " 'nm0203712',\n",
       " 'nm0285998',\n",
       " 'nm0357553',\n",
       " 'nm0406114',\n",
       " 'nm0411958',\n",
       " 'nm0495361',\n",
       " 'nm0643945',\n",
       " 'nm0820078',\n",
       " 'nm10656343',\n",
       " 'nm12259114',\n",
       " 'nm1250733',\n",
       " 'nm1856752',\n",
       " 'nm1869577',\n",
       " 'nm2448669',\n",
       " 'nm3361196',\n",
       " 'nm3753506',\n",
       " 'nm3762653',\n",
       " 'nm4492923',\n",
       " 'nm5371165',\n",
       " 'nm7030385',\n",
       " 'nm7031415',\n",
       " 'nm8195164']"
      ]
     },
     "execution_count": 39,
     "metadata": {},
     "output_type": "execute_result"
    }
   ],
   "source": [
    "DirectorNames = list(TopWD.columns[3:].unique())\n",
    "DirectorNames"
   ]
  },
  {
   "cell_type": "code",
   "execution_count": 40,
   "metadata": {
    "colab": {
     "base_uri": "https://localhost:8080/",
     "height": 669
    },
    "id": "2tkVKR7Abu77",
    "outputId": "9a1f3094-f354-4a54-b860-90b2c7a869d1"
   },
   "outputs": [
    {
     "data": {
      "text/html": [
       "<div>\n",
       "<style scoped>\n",
       "    .dataframe tbody tr th:only-of-type {\n",
       "        vertical-align: middle;\n",
       "    }\n",
       "\n",
       "    .dataframe tbody tr th {\n",
       "        vertical-align: top;\n",
       "    }\n",
       "\n",
       "    .dataframe thead th {\n",
       "        text-align: right;\n",
       "    }\n",
       "</style>\n",
       "<table border=\"1\" class=\"dataframe\">\n",
       "  <thead>\n",
       "    <tr style=\"text-align: right;\">\n",
       "      <th></th>\n",
       "      <th>Unnamed: 0</th>\n",
       "      <th>tconst</th>\n",
       "      <th>writers</th>\n",
       "    </tr>\n",
       "  </thead>\n",
       "  <tbody>\n",
       "    <tr>\n",
       "      <th>249882</th>\n",
       "      <td>249882</td>\n",
       "      <td>tt13904784</td>\n",
       "      <td>\\N</td>\n",
       "    </tr>\n",
       "    <tr>\n",
       "      <th>261659</th>\n",
       "      <td>261659</td>\n",
       "      <td>tt14749180</td>\n",
       "      <td>nm10656343</td>\n",
       "    </tr>\n",
       "    <tr>\n",
       "      <th>182419</th>\n",
       "      <td>182419</td>\n",
       "      <td>tt0866639</td>\n",
       "      <td>nm0100862,nm0161427,nm0176990,nm0352555,nm0658...</td>\n",
       "    </tr>\n",
       "    <tr>\n",
       "      <th>239290</th>\n",
       "      <td>239290</td>\n",
       "      <td>tt13223848</td>\n",
       "      <td>nm5371165</td>\n",
       "    </tr>\n",
       "    <tr>\n",
       "      <th>283483</th>\n",
       "      <td>283483</td>\n",
       "      <td>tt1787052</td>\n",
       "      <td>\\N</td>\n",
       "    </tr>\n",
       "    <tr>\n",
       "      <th>241307</th>\n",
       "      <td>241307</td>\n",
       "      <td>tt13352136</td>\n",
       "      <td>nm3361196,nm5410176</td>\n",
       "    </tr>\n",
       "    <tr>\n",
       "      <th>241309</th>\n",
       "      <td>241309</td>\n",
       "      <td>tt13352176</td>\n",
       "      <td>nm3361196</td>\n",
       "    </tr>\n",
       "    <tr>\n",
       "      <th>242331</th>\n",
       "      <td>242331</td>\n",
       "      <td>tt13411228</td>\n",
       "      <td>nm3361196,nm12041639</td>\n",
       "    </tr>\n",
       "    <tr>\n",
       "      <th>283484</th>\n",
       "      <td>283484</td>\n",
       "      <td>tt1787053</td>\n",
       "      <td>\\N</td>\n",
       "    </tr>\n",
       "    <tr>\n",
       "      <th>217401</th>\n",
       "      <td>217401</td>\n",
       "      <td>tt11729018</td>\n",
       "      <td>nm3762653</td>\n",
       "    </tr>\n",
       "    <tr>\n",
       "      <th>387527</th>\n",
       "      <td>387527</td>\n",
       "      <td>tt5783558</td>\n",
       "      <td>nm8195164</td>\n",
       "    </tr>\n",
       "    <tr>\n",
       "      <th>203961</th>\n",
       "      <td>203961</td>\n",
       "      <td>tt1085701</td>\n",
       "      <td>nm0357553,nm0957008</td>\n",
       "    </tr>\n",
       "    <tr>\n",
       "      <th>232762</th>\n",
       "      <td>232762</td>\n",
       "      <td>tt12774216</td>\n",
       "      <td>nm1869577</td>\n",
       "    </tr>\n",
       "    <tr>\n",
       "      <th>359051</th>\n",
       "      <td>359051</td>\n",
       "      <td>tt4327728</td>\n",
       "      <td>\\N</td>\n",
       "    </tr>\n",
       "    <tr>\n",
       "      <th>321106</th>\n",
       "      <td>321106</td>\n",
       "      <td>tt2646104</td>\n",
       "      <td>nm5870567,nm4492923</td>\n",
       "    </tr>\n",
       "    <tr>\n",
       "      <th>70372</th>\n",
       "      <td>70372</td>\n",
       "      <td>tt0140082</td>\n",
       "      <td>nm2183430</td>\n",
       "    </tr>\n",
       "    <tr>\n",
       "      <th>256742</th>\n",
       "      <td>256742</td>\n",
       "      <td>tt14391292</td>\n",
       "      <td>nm12459725</td>\n",
       "    </tr>\n",
       "    <tr>\n",
       "      <th>109725</th>\n",
       "      <td>109725</td>\n",
       "      <td>tt0270900</td>\n",
       "      <td>nm1283207,nm1283208,nm0499714</td>\n",
       "    </tr>\n",
       "    <tr>\n",
       "      <th>128986</th>\n",
       "      <td>128986</td>\n",
       "      <td>tt0333372</td>\n",
       "      <td>\\N</td>\n",
       "    </tr>\n",
       "    <tr>\n",
       "      <th>159780</th>\n",
       "      <td>159780</td>\n",
       "      <td>tt0448633</td>\n",
       "      <td>nm1860671</td>\n",
       "    </tr>\n",
       "  </tbody>\n",
       "</table>\n",
       "</div>"
      ],
      "text/plain": [
       "        Unnamed: 0      tconst  \\\n",
       "249882      249882  tt13904784   \n",
       "261659      261659  tt14749180   \n",
       "182419      182419   tt0866639   \n",
       "239290      239290  tt13223848   \n",
       "283483      283483   tt1787052   \n",
       "241307      241307  tt13352136   \n",
       "241309      241309  tt13352176   \n",
       "242331      242331  tt13411228   \n",
       "283484      283484   tt1787053   \n",
       "217401      217401  tt11729018   \n",
       "387527      387527   tt5783558   \n",
       "203961      203961   tt1085701   \n",
       "232762      232762  tt12774216   \n",
       "359051      359051   tt4327728   \n",
       "321106      321106   tt2646104   \n",
       "70372        70372   tt0140082   \n",
       "256742      256742  tt14391292   \n",
       "109725      109725   tt0270900   \n",
       "128986      128986   tt0333372   \n",
       "159780      159780   tt0448633   \n",
       "\n",
       "                                                  writers  \n",
       "249882                                                 \\N  \n",
       "261659                                         nm10656343  \n",
       "182419  nm0100862,nm0161427,nm0176990,nm0352555,nm0658...  \n",
       "239290                                          nm5371165  \n",
       "283483                                                 \\N  \n",
       "241307                                nm3361196,nm5410176  \n",
       "241309                                          nm3361196  \n",
       "242331                               nm3361196,nm12041639  \n",
       "283484                                                 \\N  \n",
       "217401                                          nm3762653  \n",
       "387527                                          nm8195164  \n",
       "203961                                nm0357553,nm0957008  \n",
       "232762                                          nm1869577  \n",
       "359051                                                 \\N  \n",
       "321106                                nm5870567,nm4492923  \n",
       "70372                                           nm2183430  \n",
       "256742                                         nm12459725  \n",
       "109725                      nm1283207,nm1283208,nm0499714  \n",
       "128986                                                 \\N  \n",
       "159780                                          nm1860671  "
      ]
     },
     "execution_count": 40,
     "metadata": {},
     "output_type": "execute_result"
    }
   ],
   "source": [
    "TopWD = TopWD.iloc[:,:3]\n",
    "TopWD"
   ]
  },
  {
   "cell_type": "code",
   "execution_count": null,
   "metadata": {
    "id": "BP80vFEhb3En"
   },
   "outputs": [],
   "source": []
  },
  {
   "cell_type": "code",
   "execution_count": 41,
   "metadata": {
    "colab": {
     "base_uri": "https://localhost:8080/",
     "height": 706
    },
    "id": "VAvN643DXr2W",
    "outputId": "f076fd75-fff2-4546-b370-3aa95e085ad9"
   },
   "outputs": [
    {
     "data": {
      "text/html": [
       "<div>\n",
       "<style scoped>\n",
       "    .dataframe tbody tr th:only-of-type {\n",
       "        vertical-align: middle;\n",
       "    }\n",
       "\n",
       "    .dataframe tbody tr th {\n",
       "        vertical-align: top;\n",
       "    }\n",
       "\n",
       "    .dataframe thead th {\n",
       "        text-align: right;\n",
       "    }\n",
       "</style>\n",
       "<table border=\"1\" class=\"dataframe\">\n",
       "  <thead>\n",
       "    <tr style=\"text-align: right;\">\n",
       "      <th></th>\n",
       "      <th>Unnamed: 0</th>\n",
       "      <th>tconst</th>\n",
       "      <th>nm0100862</th>\n",
       "      <th>nm0161427</th>\n",
       "      <th>nm0176990</th>\n",
       "      <th>nm0352555</th>\n",
       "      <th>nm0357553</th>\n",
       "      <th>nm0499714</th>\n",
       "      <th>nm0658388</th>\n",
       "      <th>nm0687090</th>\n",
       "      <th>...</th>\n",
       "      <th>nm1860671</th>\n",
       "      <th>nm1869577</th>\n",
       "      <th>nm2183430</th>\n",
       "      <th>nm3361196</th>\n",
       "      <th>nm3762653</th>\n",
       "      <th>nm4492923</th>\n",
       "      <th>nm5371165</th>\n",
       "      <th>nm5410176</th>\n",
       "      <th>nm5870567</th>\n",
       "      <th>nm8195164</th>\n",
       "    </tr>\n",
       "  </thead>\n",
       "  <tbody>\n",
       "    <tr>\n",
       "      <th>249882</th>\n",
       "      <td>249882</td>\n",
       "      <td>tt13904784</td>\n",
       "      <td>0</td>\n",
       "      <td>0</td>\n",
       "      <td>0</td>\n",
       "      <td>0</td>\n",
       "      <td>0</td>\n",
       "      <td>0</td>\n",
       "      <td>0</td>\n",
       "      <td>0</td>\n",
       "      <td>...</td>\n",
       "      <td>0</td>\n",
       "      <td>0</td>\n",
       "      <td>0</td>\n",
       "      <td>0</td>\n",
       "      <td>0</td>\n",
       "      <td>0</td>\n",
       "      <td>0</td>\n",
       "      <td>0</td>\n",
       "      <td>0</td>\n",
       "      <td>0</td>\n",
       "    </tr>\n",
       "    <tr>\n",
       "      <th>261659</th>\n",
       "      <td>261659</td>\n",
       "      <td>tt14749180</td>\n",
       "      <td>0</td>\n",
       "      <td>0</td>\n",
       "      <td>0</td>\n",
       "      <td>0</td>\n",
       "      <td>0</td>\n",
       "      <td>0</td>\n",
       "      <td>0</td>\n",
       "      <td>0</td>\n",
       "      <td>...</td>\n",
       "      <td>0</td>\n",
       "      <td>0</td>\n",
       "      <td>0</td>\n",
       "      <td>0</td>\n",
       "      <td>0</td>\n",
       "      <td>0</td>\n",
       "      <td>0</td>\n",
       "      <td>0</td>\n",
       "      <td>0</td>\n",
       "      <td>0</td>\n",
       "    </tr>\n",
       "    <tr>\n",
       "      <th>182419</th>\n",
       "      <td>182419</td>\n",
       "      <td>tt0866639</td>\n",
       "      <td>1</td>\n",
       "      <td>1</td>\n",
       "      <td>1</td>\n",
       "      <td>1</td>\n",
       "      <td>0</td>\n",
       "      <td>0</td>\n",
       "      <td>1</td>\n",
       "      <td>1</td>\n",
       "      <td>...</td>\n",
       "      <td>0</td>\n",
       "      <td>0</td>\n",
       "      <td>0</td>\n",
       "      <td>0</td>\n",
       "      <td>0</td>\n",
       "      <td>0</td>\n",
       "      <td>0</td>\n",
       "      <td>0</td>\n",
       "      <td>0</td>\n",
       "      <td>0</td>\n",
       "    </tr>\n",
       "    <tr>\n",
       "      <th>239290</th>\n",
       "      <td>239290</td>\n",
       "      <td>tt13223848</td>\n",
       "      <td>0</td>\n",
       "      <td>0</td>\n",
       "      <td>0</td>\n",
       "      <td>0</td>\n",
       "      <td>0</td>\n",
       "      <td>0</td>\n",
       "      <td>0</td>\n",
       "      <td>0</td>\n",
       "      <td>...</td>\n",
       "      <td>0</td>\n",
       "      <td>0</td>\n",
       "      <td>0</td>\n",
       "      <td>0</td>\n",
       "      <td>0</td>\n",
       "      <td>0</td>\n",
       "      <td>1</td>\n",
       "      <td>0</td>\n",
       "      <td>0</td>\n",
       "      <td>0</td>\n",
       "    </tr>\n",
       "    <tr>\n",
       "      <th>283483</th>\n",
       "      <td>283483</td>\n",
       "      <td>tt1787052</td>\n",
       "      <td>0</td>\n",
       "      <td>0</td>\n",
       "      <td>0</td>\n",
       "      <td>0</td>\n",
       "      <td>0</td>\n",
       "      <td>0</td>\n",
       "      <td>0</td>\n",
       "      <td>0</td>\n",
       "      <td>...</td>\n",
       "      <td>0</td>\n",
       "      <td>0</td>\n",
       "      <td>0</td>\n",
       "      <td>0</td>\n",
       "      <td>0</td>\n",
       "      <td>0</td>\n",
       "      <td>0</td>\n",
       "      <td>0</td>\n",
       "      <td>0</td>\n",
       "      <td>0</td>\n",
       "    </tr>\n",
       "    <tr>\n",
       "      <th>241307</th>\n",
       "      <td>241307</td>\n",
       "      <td>tt13352136</td>\n",
       "      <td>0</td>\n",
       "      <td>0</td>\n",
       "      <td>0</td>\n",
       "      <td>0</td>\n",
       "      <td>0</td>\n",
       "      <td>0</td>\n",
       "      <td>0</td>\n",
       "      <td>0</td>\n",
       "      <td>...</td>\n",
       "      <td>0</td>\n",
       "      <td>0</td>\n",
       "      <td>0</td>\n",
       "      <td>1</td>\n",
       "      <td>0</td>\n",
       "      <td>0</td>\n",
       "      <td>0</td>\n",
       "      <td>1</td>\n",
       "      <td>0</td>\n",
       "      <td>0</td>\n",
       "    </tr>\n",
       "    <tr>\n",
       "      <th>241309</th>\n",
       "      <td>241309</td>\n",
       "      <td>tt13352176</td>\n",
       "      <td>0</td>\n",
       "      <td>0</td>\n",
       "      <td>0</td>\n",
       "      <td>0</td>\n",
       "      <td>0</td>\n",
       "      <td>0</td>\n",
       "      <td>0</td>\n",
       "      <td>0</td>\n",
       "      <td>...</td>\n",
       "      <td>0</td>\n",
       "      <td>0</td>\n",
       "      <td>0</td>\n",
       "      <td>1</td>\n",
       "      <td>0</td>\n",
       "      <td>0</td>\n",
       "      <td>0</td>\n",
       "      <td>0</td>\n",
       "      <td>0</td>\n",
       "      <td>0</td>\n",
       "    </tr>\n",
       "    <tr>\n",
       "      <th>242331</th>\n",
       "      <td>242331</td>\n",
       "      <td>tt13411228</td>\n",
       "      <td>0</td>\n",
       "      <td>0</td>\n",
       "      <td>0</td>\n",
       "      <td>0</td>\n",
       "      <td>0</td>\n",
       "      <td>0</td>\n",
       "      <td>0</td>\n",
       "      <td>0</td>\n",
       "      <td>...</td>\n",
       "      <td>0</td>\n",
       "      <td>0</td>\n",
       "      <td>0</td>\n",
       "      <td>1</td>\n",
       "      <td>0</td>\n",
       "      <td>0</td>\n",
       "      <td>0</td>\n",
       "      <td>0</td>\n",
       "      <td>0</td>\n",
       "      <td>0</td>\n",
       "    </tr>\n",
       "    <tr>\n",
       "      <th>283484</th>\n",
       "      <td>283484</td>\n",
       "      <td>tt1787053</td>\n",
       "      <td>0</td>\n",
       "      <td>0</td>\n",
       "      <td>0</td>\n",
       "      <td>0</td>\n",
       "      <td>0</td>\n",
       "      <td>0</td>\n",
       "      <td>0</td>\n",
       "      <td>0</td>\n",
       "      <td>...</td>\n",
       "      <td>0</td>\n",
       "      <td>0</td>\n",
       "      <td>0</td>\n",
       "      <td>0</td>\n",
       "      <td>0</td>\n",
       "      <td>0</td>\n",
       "      <td>0</td>\n",
       "      <td>0</td>\n",
       "      <td>0</td>\n",
       "      <td>0</td>\n",
       "    </tr>\n",
       "    <tr>\n",
       "      <th>217401</th>\n",
       "      <td>217401</td>\n",
       "      <td>tt11729018</td>\n",
       "      <td>0</td>\n",
       "      <td>0</td>\n",
       "      <td>0</td>\n",
       "      <td>0</td>\n",
       "      <td>0</td>\n",
       "      <td>0</td>\n",
       "      <td>0</td>\n",
       "      <td>0</td>\n",
       "      <td>...</td>\n",
       "      <td>0</td>\n",
       "      <td>0</td>\n",
       "      <td>0</td>\n",
       "      <td>0</td>\n",
       "      <td>1</td>\n",
       "      <td>0</td>\n",
       "      <td>0</td>\n",
       "      <td>0</td>\n",
       "      <td>0</td>\n",
       "      <td>0</td>\n",
       "    </tr>\n",
       "    <tr>\n",
       "      <th>387527</th>\n",
       "      <td>387527</td>\n",
       "      <td>tt5783558</td>\n",
       "      <td>0</td>\n",
       "      <td>0</td>\n",
       "      <td>0</td>\n",
       "      <td>0</td>\n",
       "      <td>0</td>\n",
       "      <td>0</td>\n",
       "      <td>0</td>\n",
       "      <td>0</td>\n",
       "      <td>...</td>\n",
       "      <td>0</td>\n",
       "      <td>0</td>\n",
       "      <td>0</td>\n",
       "      <td>0</td>\n",
       "      <td>0</td>\n",
       "      <td>0</td>\n",
       "      <td>0</td>\n",
       "      <td>0</td>\n",
       "      <td>0</td>\n",
       "      <td>1</td>\n",
       "    </tr>\n",
       "    <tr>\n",
       "      <th>203961</th>\n",
       "      <td>203961</td>\n",
       "      <td>tt1085701</td>\n",
       "      <td>0</td>\n",
       "      <td>0</td>\n",
       "      <td>0</td>\n",
       "      <td>0</td>\n",
       "      <td>1</td>\n",
       "      <td>0</td>\n",
       "      <td>0</td>\n",
       "      <td>0</td>\n",
       "      <td>...</td>\n",
       "      <td>0</td>\n",
       "      <td>0</td>\n",
       "      <td>0</td>\n",
       "      <td>0</td>\n",
       "      <td>0</td>\n",
       "      <td>0</td>\n",
       "      <td>0</td>\n",
       "      <td>0</td>\n",
       "      <td>0</td>\n",
       "      <td>0</td>\n",
       "    </tr>\n",
       "    <tr>\n",
       "      <th>232762</th>\n",
       "      <td>232762</td>\n",
       "      <td>tt12774216</td>\n",
       "      <td>0</td>\n",
       "      <td>0</td>\n",
       "      <td>0</td>\n",
       "      <td>0</td>\n",
       "      <td>0</td>\n",
       "      <td>0</td>\n",
       "      <td>0</td>\n",
       "      <td>0</td>\n",
       "      <td>...</td>\n",
       "      <td>0</td>\n",
       "      <td>1</td>\n",
       "      <td>0</td>\n",
       "      <td>0</td>\n",
       "      <td>0</td>\n",
       "      <td>0</td>\n",
       "      <td>0</td>\n",
       "      <td>0</td>\n",
       "      <td>0</td>\n",
       "      <td>0</td>\n",
       "    </tr>\n",
       "    <tr>\n",
       "      <th>359051</th>\n",
       "      <td>359051</td>\n",
       "      <td>tt4327728</td>\n",
       "      <td>0</td>\n",
       "      <td>0</td>\n",
       "      <td>0</td>\n",
       "      <td>0</td>\n",
       "      <td>0</td>\n",
       "      <td>0</td>\n",
       "      <td>0</td>\n",
       "      <td>0</td>\n",
       "      <td>...</td>\n",
       "      <td>0</td>\n",
       "      <td>0</td>\n",
       "      <td>0</td>\n",
       "      <td>0</td>\n",
       "      <td>0</td>\n",
       "      <td>0</td>\n",
       "      <td>0</td>\n",
       "      <td>0</td>\n",
       "      <td>0</td>\n",
       "      <td>0</td>\n",
       "    </tr>\n",
       "    <tr>\n",
       "      <th>321106</th>\n",
       "      <td>321106</td>\n",
       "      <td>tt2646104</td>\n",
       "      <td>0</td>\n",
       "      <td>0</td>\n",
       "      <td>0</td>\n",
       "      <td>0</td>\n",
       "      <td>0</td>\n",
       "      <td>0</td>\n",
       "      <td>0</td>\n",
       "      <td>0</td>\n",
       "      <td>...</td>\n",
       "      <td>0</td>\n",
       "      <td>0</td>\n",
       "      <td>0</td>\n",
       "      <td>0</td>\n",
       "      <td>0</td>\n",
       "      <td>1</td>\n",
       "      <td>0</td>\n",
       "      <td>0</td>\n",
       "      <td>1</td>\n",
       "      <td>0</td>\n",
       "    </tr>\n",
       "    <tr>\n",
       "      <th>70372</th>\n",
       "      <td>70372</td>\n",
       "      <td>tt0140082</td>\n",
       "      <td>0</td>\n",
       "      <td>0</td>\n",
       "      <td>0</td>\n",
       "      <td>0</td>\n",
       "      <td>0</td>\n",
       "      <td>0</td>\n",
       "      <td>0</td>\n",
       "      <td>0</td>\n",
       "      <td>...</td>\n",
       "      <td>0</td>\n",
       "      <td>0</td>\n",
       "      <td>1</td>\n",
       "      <td>0</td>\n",
       "      <td>0</td>\n",
       "      <td>0</td>\n",
       "      <td>0</td>\n",
       "      <td>0</td>\n",
       "      <td>0</td>\n",
       "      <td>0</td>\n",
       "    </tr>\n",
       "    <tr>\n",
       "      <th>256742</th>\n",
       "      <td>256742</td>\n",
       "      <td>tt14391292</td>\n",
       "      <td>0</td>\n",
       "      <td>0</td>\n",
       "      <td>0</td>\n",
       "      <td>0</td>\n",
       "      <td>0</td>\n",
       "      <td>0</td>\n",
       "      <td>0</td>\n",
       "      <td>0</td>\n",
       "      <td>...</td>\n",
       "      <td>0</td>\n",
       "      <td>0</td>\n",
       "      <td>0</td>\n",
       "      <td>0</td>\n",
       "      <td>0</td>\n",
       "      <td>0</td>\n",
       "      <td>0</td>\n",
       "      <td>0</td>\n",
       "      <td>0</td>\n",
       "      <td>0</td>\n",
       "    </tr>\n",
       "    <tr>\n",
       "      <th>109725</th>\n",
       "      <td>109725</td>\n",
       "      <td>tt0270900</td>\n",
       "      <td>0</td>\n",
       "      <td>0</td>\n",
       "      <td>0</td>\n",
       "      <td>0</td>\n",
       "      <td>0</td>\n",
       "      <td>1</td>\n",
       "      <td>0</td>\n",
       "      <td>0</td>\n",
       "      <td>...</td>\n",
       "      <td>0</td>\n",
       "      <td>0</td>\n",
       "      <td>0</td>\n",
       "      <td>0</td>\n",
       "      <td>0</td>\n",
       "      <td>0</td>\n",
       "      <td>0</td>\n",
       "      <td>0</td>\n",
       "      <td>0</td>\n",
       "      <td>0</td>\n",
       "    </tr>\n",
       "    <tr>\n",
       "      <th>128986</th>\n",
       "      <td>128986</td>\n",
       "      <td>tt0333372</td>\n",
       "      <td>0</td>\n",
       "      <td>0</td>\n",
       "      <td>0</td>\n",
       "      <td>0</td>\n",
       "      <td>0</td>\n",
       "      <td>0</td>\n",
       "      <td>0</td>\n",
       "      <td>0</td>\n",
       "      <td>...</td>\n",
       "      <td>0</td>\n",
       "      <td>0</td>\n",
       "      <td>0</td>\n",
       "      <td>0</td>\n",
       "      <td>0</td>\n",
       "      <td>0</td>\n",
       "      <td>0</td>\n",
       "      <td>0</td>\n",
       "      <td>0</td>\n",
       "      <td>0</td>\n",
       "    </tr>\n",
       "    <tr>\n",
       "      <th>159780</th>\n",
       "      <td>159780</td>\n",
       "      <td>tt0448633</td>\n",
       "      <td>0</td>\n",
       "      <td>0</td>\n",
       "      <td>0</td>\n",
       "      <td>0</td>\n",
       "      <td>0</td>\n",
       "      <td>0</td>\n",
       "      <td>0</td>\n",
       "      <td>0</td>\n",
       "      <td>...</td>\n",
       "      <td>1</td>\n",
       "      <td>0</td>\n",
       "      <td>0</td>\n",
       "      <td>0</td>\n",
       "      <td>0</td>\n",
       "      <td>0</td>\n",
       "      <td>0</td>\n",
       "      <td>0</td>\n",
       "      <td>0</td>\n",
       "      <td>0</td>\n",
       "    </tr>\n",
       "  </tbody>\n",
       "</table>\n",
       "<p>20 rows × 26 columns</p>\n",
       "</div>"
      ],
      "text/plain": [
       "        Unnamed: 0      tconst  nm0100862  nm0161427  nm0176990  nm0352555  \\\n",
       "249882      249882  tt13904784          0          0          0          0   \n",
       "261659      261659  tt14749180          0          0          0          0   \n",
       "182419      182419   tt0866639          1          1          1          1   \n",
       "239290      239290  tt13223848          0          0          0          0   \n",
       "283483      283483   tt1787052          0          0          0          0   \n",
       "241307      241307  tt13352136          0          0          0          0   \n",
       "241309      241309  tt13352176          0          0          0          0   \n",
       "242331      242331  tt13411228          0          0          0          0   \n",
       "283484      283484   tt1787053          0          0          0          0   \n",
       "217401      217401  tt11729018          0          0          0          0   \n",
       "387527      387527   tt5783558          0          0          0          0   \n",
       "203961      203961   tt1085701          0          0          0          0   \n",
       "232762      232762  tt12774216          0          0          0          0   \n",
       "359051      359051   tt4327728          0          0          0          0   \n",
       "321106      321106   tt2646104          0          0          0          0   \n",
       "70372        70372   tt0140082          0          0          0          0   \n",
       "256742      256742  tt14391292          0          0          0          0   \n",
       "109725      109725   tt0270900          0          0          0          0   \n",
       "128986      128986   tt0333372          0          0          0          0   \n",
       "159780      159780   tt0448633          0          0          0          0   \n",
       "\n",
       "        nm0357553  nm0499714  nm0658388  nm0687090  ...  nm1860671  nm1869577  \\\n",
       "249882          0          0          0          0  ...          0          0   \n",
       "261659          0          0          0          0  ...          0          0   \n",
       "182419          0          0          1          1  ...          0          0   \n",
       "239290          0          0          0          0  ...          0          0   \n",
       "283483          0          0          0          0  ...          0          0   \n",
       "241307          0          0          0          0  ...          0          0   \n",
       "241309          0          0          0          0  ...          0          0   \n",
       "242331          0          0          0          0  ...          0          0   \n",
       "283484          0          0          0          0  ...          0          0   \n",
       "217401          0          0          0          0  ...          0          0   \n",
       "387527          0          0          0          0  ...          0          0   \n",
       "203961          1          0          0          0  ...          0          0   \n",
       "232762          0          0          0          0  ...          0          1   \n",
       "359051          0          0          0          0  ...          0          0   \n",
       "321106          0          0          0          0  ...          0          0   \n",
       "70372           0          0          0          0  ...          0          0   \n",
       "256742          0          0          0          0  ...          0          0   \n",
       "109725          0          1          0          0  ...          0          0   \n",
       "128986          0          0          0          0  ...          0          0   \n",
       "159780          0          0          0          0  ...          1          0   \n",
       "\n",
       "        nm2183430  nm3361196  nm3762653  nm4492923  nm5371165  nm5410176  \\\n",
       "249882          0          0          0          0          0          0   \n",
       "261659          0          0          0          0          0          0   \n",
       "182419          0          0          0          0          0          0   \n",
       "239290          0          0          0          0          1          0   \n",
       "283483          0          0          0          0          0          0   \n",
       "241307          0          1          0          0          0          1   \n",
       "241309          0          1          0          0          0          0   \n",
       "242331          0          1          0          0          0          0   \n",
       "283484          0          0          0          0          0          0   \n",
       "217401          0          0          1          0          0          0   \n",
       "387527          0          0          0          0          0          0   \n",
       "203961          0          0          0          0          0          0   \n",
       "232762          0          0          0          0          0          0   \n",
       "359051          0          0          0          0          0          0   \n",
       "321106          0          0          0          1          0          0   \n",
       "70372           1          0          0          0          0          0   \n",
       "256742          0          0          0          0          0          0   \n",
       "109725          0          0          0          0          0          0   \n",
       "128986          0          0          0          0          0          0   \n",
       "159780          0          0          0          0          0          0   \n",
       "\n",
       "        nm5870567  nm8195164  \n",
       "249882          0          0  \n",
       "261659          0          0  \n",
       "182419          0          0  \n",
       "239290          0          0  \n",
       "283483          0          0  \n",
       "241307          0          0  \n",
       "241309          0          0  \n",
       "242331          0          0  \n",
       "283484          0          0  \n",
       "217401          0          0  \n",
       "387527          0          1  \n",
       "203961          0          0  \n",
       "232762          0          0  \n",
       "359051          0          0  \n",
       "321106          1          0  \n",
       "70372           0          0  \n",
       "256742          0          0  \n",
       "109725          0          0  \n",
       "128986          0          0  \n",
       "159780          0          0  \n",
       "\n",
       "[20 rows x 26 columns]"
      ]
     },
     "execution_count": 41,
     "metadata": {},
     "output_type": "execute_result"
    }
   ],
   "source": [
    "TopWD = pd.concat([TopWD.drop('writers',axis = 1),TopWD['writers'].str.get_dummies(sep=',')],1)\n",
    "TopWD.drop('\\\\N',inplace = True,axis = 1)\n",
    "TopWD"
   ]
  },
  {
   "cell_type": "code",
   "execution_count": 42,
   "metadata": {
    "colab": {
     "base_uri": "https://localhost:8080/"
    },
    "id": "tTTbTvfXas3w",
    "outputId": "742ccc15-9754-4979-88c0-9556e8198946"
   },
   "outputs": [
    {
     "data": {
      "text/plain": [
       "['nm0100862',\n",
       " 'nm0161427',\n",
       " 'nm0176990',\n",
       " 'nm0352555',\n",
       " 'nm0357553',\n",
       " 'nm0499714',\n",
       " 'nm0658388',\n",
       " 'nm0687090',\n",
       " 'nm0957008',\n",
       " 'nm10656343',\n",
       " 'nm12041639',\n",
       " 'nm12459725',\n",
       " 'nm1283207',\n",
       " 'nm1283208',\n",
       " 'nm1860671',\n",
       " 'nm1869577',\n",
       " 'nm2183430',\n",
       " 'nm3361196',\n",
       " 'nm3762653',\n",
       " 'nm4492923',\n",
       " 'nm5371165',\n",
       " 'nm5410176',\n",
       " 'nm5870567',\n",
       " 'nm8195164']"
      ]
     },
     "execution_count": 42,
     "metadata": {},
     "output_type": "execute_result"
    }
   ],
   "source": [
    "WriterNames = list(TopWD.columns[2:].unique())\n",
    "WriterNames"
   ]
  },
  {
   "cell_type": "code",
   "execution_count": 43,
   "metadata": {
    "colab": {
     "base_uri": "https://localhost:8080/"
    },
    "id": "doQjd0ficVT1",
    "outputId": "1a32bf8d-08cf-43a4-ee77-2a9261013480"
   },
   "outputs": [
    {
     "data": {
      "text/plain": [
       "8924          Paul Annett\n",
       "55326         Ian Fordyce\n",
       "67640         Peter Hamel\n",
       "77625       Branko Ivanda\n",
       "93490          Don Leaver\n",
       "118883           Erik Ode\n",
       "260416       Udo Langhoff\n",
       "333884    Daniele Gangemi\n",
       "344765         Sam Felman\n",
       "358190     Leonardo Thimo\n",
       "398585      Ioannis Makro\n",
       "Name: primaryName, dtype: object"
      ]
     },
     "execution_count": 43,
     "metadata": {},
     "output_type": "execute_result"
    }
   ],
   "source": [
    "DRows = []\n",
    "for i in DirectorNames:\n",
    "  DRows = DRows + list(np.where(Name['nconst']==i)[0])\n",
    "TopRatingD = Name.loc[DRows,'primaryName']\n",
    "TopRatingD"
   ]
  },
  {
   "cell_type": "markdown",
   "metadata": {
    "id": "IAJqb83KeqDN"
   },
   "source": [
    "##**Directors with Highest Ratings**"
   ]
  },
  {
   "cell_type": "code",
   "execution_count": 44,
   "metadata": {
    "colab": {
     "base_uri": "https://localhost:8080/"
    },
    "id": "e-RsJ7E7eyPW",
    "outputId": "5e6aedad-bf7e-4a8b-cfce-8940e6a6ebc4"
   },
   "outputs": [
    {
     "data": {
      "text/plain": [
       "8924          Paul Annett\n",
       "55326         Ian Fordyce\n",
       "67640         Peter Hamel\n",
       "77625       Branko Ivanda\n",
       "93490          Don Leaver\n",
       "118883           Erik Ode\n",
       "260416       Udo Langhoff\n",
       "333884    Daniele Gangemi\n",
       "344765         Sam Felman\n",
       "358190     Leonardo Thimo\n",
       "398585      Ioannis Makro\n",
       "Name: primaryName, dtype: object"
      ]
     },
     "execution_count": 44,
     "metadata": {},
     "output_type": "execute_result"
    }
   ],
   "source": [
    "TopRatingD"
   ]
  },
  {
   "cell_type": "markdown",
   "metadata": {
    "id": "MxH1uJrre0oI"
   },
   "source": [
    "## **Writer with Highest Ratings**"
   ]
  },
  {
   "cell_type": "code",
   "execution_count": 45,
   "metadata": {
    "colab": {
     "base_uri": "https://localhost:8080/"
    },
    "id": "5BIaVKAfdizM",
    "outputId": "2ac9ba29-cf90-4330-91b2-f552b6fd8f88"
   },
   "outputs": [
    {
     "data": {
      "text/plain": [
       "22531           John Bowen\n",
       "33401     Donald Churchill\n",
       "36039           David Cook\n",
       "66742         Alan Hackney\n",
       "67640          Peter Hamel\n",
       "94187          Leo Lehmann\n",
       "121462     Nicholas Palmer\n",
       "210990     Josephs Quartzy\n",
       "280542    Reinhard Raffalt\n",
       "333884     Daniele Gangemi\n",
       "344765          Sam Felman\n",
       "358190      Leonardo Thimo\n",
       "376614     Anestis Dalezis\n",
       "398585       Ioannis Makro\n",
       "Name: primaryName, dtype: object"
      ]
     },
     "execution_count": 45,
     "metadata": {},
     "output_type": "execute_result"
    }
   ],
   "source": [
    "WRows = []\n",
    "for i in WriterNames:\n",
    "  WRows = WRows + list(np.where(Name['nconst']==i)[0])\n",
    "TopRatingW = Name.loc[WRows,'primaryName']\n",
    "TopRatingW"
   ]
  },
  {
   "cell_type": "markdown",
   "metadata": {
    "id": "boKlxMOOfKfr"
   },
   "source": [
    "## Merged Data Frame Using 7 Datasets\n"
   ]
  },
  {
   "cell_type": "code",
   "execution_count": 46,
   "metadata": {
    "id": "pleLEL79fF1E"
   },
   "outputs": [],
   "source": [
    "MainData = pd.merge(Basics,Crew,on ='tconst',how = 'outer')"
   ]
  },
  {
   "cell_type": "code",
   "execution_count": 47,
   "metadata": {
    "id": "z6OctZbzfe7w"
   },
   "outputs": [],
   "source": [
    "MainData = pd.merge(MainData,Episode,on ='tconst',how = 'outer')"
   ]
  },
  {
   "cell_type": "code",
   "execution_count": 48,
   "metadata": {
    "id": "90HpqC6ufe-M"
   },
   "outputs": [],
   "source": [
    "MainData = pd.merge(MainData,Principals,on ='tconst',how = 'outer')"
   ]
  },
  {
   "cell_type": "code",
   "execution_count": 49,
   "metadata": {
    "id": "qHjd2-5QffBo"
   },
   "outputs": [],
   "source": [
    "MainData = pd.merge(MainData,Ratings,on ='tconst',how = 'outer')"
   ]
  },
  {
   "cell_type": "code",
   "execution_count": 50,
   "metadata": {
    "colab": {
     "base_uri": "https://localhost:8080/",
     "height": 204
    },
    "id": "aQS8m5qZicqU",
    "outputId": "12b3f081-4d84-4ddd-d808-6a7c9dc3fc96"
   },
   "outputs": [
    {
     "data": {
      "text/html": [
       "<div>\n",
       "<style scoped>\n",
       "    .dataframe tbody tr th:only-of-type {\n",
       "        vertical-align: middle;\n",
       "    }\n",
       "\n",
       "    .dataframe tbody tr th {\n",
       "        vertical-align: top;\n",
       "    }\n",
       "\n",
       "    .dataframe thead th {\n",
       "        text-align: right;\n",
       "    }\n",
       "</style>\n",
       "<table border=\"1\" class=\"dataframe\">\n",
       "  <thead>\n",
       "    <tr style=\"text-align: right;\">\n",
       "      <th></th>\n",
       "      <th>tconst</th>\n",
       "      <th>ordering</th>\n",
       "      <th>title</th>\n",
       "      <th>region</th>\n",
       "      <th>language</th>\n",
       "      <th>types</th>\n",
       "      <th>attributes</th>\n",
       "      <th>isOriginalTitle</th>\n",
       "    </tr>\n",
       "  </thead>\n",
       "  <tbody>\n",
       "    <tr>\n",
       "      <th>6</th>\n",
       "      <td>tt0000001</td>\n",
       "      <td>7</td>\n",
       "      <td>Carmencita</td>\n",
       "      <td>\\N</td>\n",
       "      <td>\\N</td>\n",
       "      <td>original</td>\n",
       "      <td>\\N</td>\n",
       "      <td>1</td>\n",
       "    </tr>\n",
       "    <tr>\n",
       "      <th>8</th>\n",
       "      <td>tt0000002</td>\n",
       "      <td>1</td>\n",
       "      <td>Le clown et ses chiens</td>\n",
       "      <td>\\N</td>\n",
       "      <td>\\N</td>\n",
       "      <td>original</td>\n",
       "      <td>\\N</td>\n",
       "      <td>1</td>\n",
       "    </tr>\n",
       "    <tr>\n",
       "      <th>21</th>\n",
       "      <td>tt0000003</td>\n",
       "      <td>6</td>\n",
       "      <td>Pauvre Pierrot</td>\n",
       "      <td>\\N</td>\n",
       "      <td>\\N</td>\n",
       "      <td>original</td>\n",
       "      <td>\\N</td>\n",
       "      <td>1</td>\n",
       "    </tr>\n",
       "    <tr>\n",
       "      <th>25</th>\n",
       "      <td>tt0000004</td>\n",
       "      <td>1</td>\n",
       "      <td>Un bon bock</td>\n",
       "      <td>\\N</td>\n",
       "      <td>\\N</td>\n",
       "      <td>original</td>\n",
       "      <td>\\N</td>\n",
       "      <td>1</td>\n",
       "    </tr>\n",
       "    <tr>\n",
       "      <th>33</th>\n",
       "      <td>tt0000005</td>\n",
       "      <td>10</td>\n",
       "      <td>Blacksmith Scene</td>\n",
       "      <td>\\N</td>\n",
       "      <td>\\N</td>\n",
       "      <td>original</td>\n",
       "      <td>\\N</td>\n",
       "      <td>1</td>\n",
       "    </tr>\n",
       "  </tbody>\n",
       "</table>\n",
       "</div>"
      ],
      "text/plain": [
       "       tconst  ordering                   title region language     types  \\\n",
       "6   tt0000001         7              Carmencita     \\N       \\N  original   \n",
       "8   tt0000002         1  Le clown et ses chiens     \\N       \\N  original   \n",
       "21  tt0000003         6          Pauvre Pierrot     \\N       \\N  original   \n",
       "25  tt0000004         1             Un bon bock     \\N       \\N  original   \n",
       "33  tt0000005        10        Blacksmith Scene     \\N       \\N  original   \n",
       "\n",
       "   attributes isOriginalTitle  \n",
       "6          \\N               1  \n",
       "8          \\N               1  \n",
       "21         \\N               1  \n",
       "25         \\N               1  \n",
       "33         \\N               1  "
      ]
     },
     "execution_count": 50,
     "metadata": {},
     "output_type": "execute_result"
    }
   ],
   "source": [
    "temp = Akas[Akas['isOriginalTitle'] == 1]\n",
    "temp.columns= ['tconst', 'ordering', 'title', 'region', 'language', 'types',\n",
    "       'attributes', 'isOriginalTitle']\n",
    "temp.head()"
   ]
  },
  {
   "cell_type": "code",
   "execution_count": 51,
   "metadata": {
    "colab": {
     "base_uri": "https://localhost:8080/",
     "height": 669
    },
    "id": "0EunRsKVjxSB",
    "outputId": "f68912bc-6841-4322-ccbe-2241f3796401"
   },
   "outputs": [
    {
     "data": {
      "text/html": [
       "<div>\n",
       "<style scoped>\n",
       "    .dataframe tbody tr th:only-of-type {\n",
       "        vertical-align: middle;\n",
       "    }\n",
       "\n",
       "    .dataframe tbody tr th {\n",
       "        vertical-align: top;\n",
       "    }\n",
       "\n",
       "    .dataframe thead th {\n",
       "        text-align: right;\n",
       "    }\n",
       "</style>\n",
       "<table border=\"1\" class=\"dataframe\">\n",
       "  <thead>\n",
       "    <tr style=\"text-align: right;\">\n",
       "      <th></th>\n",
       "      <th>titleId</th>\n",
       "      <th>ordering</th>\n",
       "      <th>title</th>\n",
       "      <th>region</th>\n",
       "      <th>language</th>\n",
       "      <th>types</th>\n",
       "      <th>attributes</th>\n",
       "      <th>isOriginalTitle</th>\n",
       "    </tr>\n",
       "  </thead>\n",
       "  <tbody>\n",
       "    <tr>\n",
       "      <th>0</th>\n",
       "      <td>tt0000001</td>\n",
       "      <td>1</td>\n",
       "      <td>Карменсіта</td>\n",
       "      <td>UA</td>\n",
       "      <td>\\N</td>\n",
       "      <td>imdbDisplay</td>\n",
       "      <td>\\N</td>\n",
       "      <td>0</td>\n",
       "    </tr>\n",
       "    <tr>\n",
       "      <th>1</th>\n",
       "      <td>tt0000001</td>\n",
       "      <td>2</td>\n",
       "      <td>Carmencita</td>\n",
       "      <td>DE</td>\n",
       "      <td>\\N</td>\n",
       "      <td>\\N</td>\n",
       "      <td>literal title</td>\n",
       "      <td>0</td>\n",
       "    </tr>\n",
       "    <tr>\n",
       "      <th>2</th>\n",
       "      <td>tt0000001</td>\n",
       "      <td>3</td>\n",
       "      <td>Carmencita - spanyol tánc</td>\n",
       "      <td>HU</td>\n",
       "      <td>\\N</td>\n",
       "      <td>imdbDisplay</td>\n",
       "      <td>\\N</td>\n",
       "      <td>0</td>\n",
       "    </tr>\n",
       "    <tr>\n",
       "      <th>3</th>\n",
       "      <td>tt0000001</td>\n",
       "      <td>4</td>\n",
       "      <td>Καρμενσίτα</td>\n",
       "      <td>GR</td>\n",
       "      <td>\\N</td>\n",
       "      <td>imdbDisplay</td>\n",
       "      <td>\\N</td>\n",
       "      <td>0</td>\n",
       "    </tr>\n",
       "    <tr>\n",
       "      <th>4</th>\n",
       "      <td>tt0000001</td>\n",
       "      <td>5</td>\n",
       "      <td>Карменсита</td>\n",
       "      <td>RU</td>\n",
       "      <td>\\N</td>\n",
       "      <td>imdbDisplay</td>\n",
       "      <td>\\N</td>\n",
       "      <td>0</td>\n",
       "    </tr>\n",
       "    <tr>\n",
       "      <th>5</th>\n",
       "      <td>tt0000001</td>\n",
       "      <td>6</td>\n",
       "      <td>Carmencita</td>\n",
       "      <td>US</td>\n",
       "      <td>\\N</td>\n",
       "      <td>imdbDisplay</td>\n",
       "      <td>\\N</td>\n",
       "      <td>0</td>\n",
       "    </tr>\n",
       "    <tr>\n",
       "      <th>6</th>\n",
       "      <td>tt0000001</td>\n",
       "      <td>7</td>\n",
       "      <td>Carmencita</td>\n",
       "      <td>\\N</td>\n",
       "      <td>\\N</td>\n",
       "      <td>original</td>\n",
       "      <td>\\N</td>\n",
       "      <td>1</td>\n",
       "    </tr>\n",
       "    <tr>\n",
       "      <th>7</th>\n",
       "      <td>tt0000001</td>\n",
       "      <td>8</td>\n",
       "      <td>カルメンチータ</td>\n",
       "      <td>JP</td>\n",
       "      <td>ja</td>\n",
       "      <td>imdbDisplay</td>\n",
       "      <td>\\N</td>\n",
       "      <td>0</td>\n",
       "    </tr>\n",
       "    <tr>\n",
       "      <th>8</th>\n",
       "      <td>tt0000002</td>\n",
       "      <td>1</td>\n",
       "      <td>Le clown et ses chiens</td>\n",
       "      <td>\\N</td>\n",
       "      <td>\\N</td>\n",
       "      <td>original</td>\n",
       "      <td>\\N</td>\n",
       "      <td>1</td>\n",
       "    </tr>\n",
       "    <tr>\n",
       "      <th>9</th>\n",
       "      <td>tt0000002</td>\n",
       "      <td>2</td>\n",
       "      <td>Le clown et ses chiens</td>\n",
       "      <td>FR</td>\n",
       "      <td>\\N</td>\n",
       "      <td>imdbDisplay</td>\n",
       "      <td>\\N</td>\n",
       "      <td>0</td>\n",
       "    </tr>\n",
       "    <tr>\n",
       "      <th>10</th>\n",
       "      <td>tt0000002</td>\n",
       "      <td>3</td>\n",
       "      <td>A bohóc és kutyái</td>\n",
       "      <td>HU</td>\n",
       "      <td>\\N</td>\n",
       "      <td>imdbDisplay</td>\n",
       "      <td>\\N</td>\n",
       "      <td>0</td>\n",
       "    </tr>\n",
       "    <tr>\n",
       "      <th>11</th>\n",
       "      <td>tt0000002</td>\n",
       "      <td>4</td>\n",
       "      <td>Der Clown und seine Hunde</td>\n",
       "      <td>DE</td>\n",
       "      <td>\\N</td>\n",
       "      <td>\\N</td>\n",
       "      <td>literal title</td>\n",
       "      <td>0</td>\n",
       "    </tr>\n",
       "    <tr>\n",
       "      <th>12</th>\n",
       "      <td>tt0000002</td>\n",
       "      <td>5</td>\n",
       "      <td>Clovnul si cainii sai</td>\n",
       "      <td>RO</td>\n",
       "      <td>\\N</td>\n",
       "      <td>imdbDisplay</td>\n",
       "      <td>\\N</td>\n",
       "      <td>0</td>\n",
       "    </tr>\n",
       "    <tr>\n",
       "      <th>13</th>\n",
       "      <td>tt0000002</td>\n",
       "      <td>6</td>\n",
       "      <td>Клоун и его собаки</td>\n",
       "      <td>RU</td>\n",
       "      <td>\\N</td>\n",
       "      <td>imdbDisplay</td>\n",
       "      <td>\\N</td>\n",
       "      <td>0</td>\n",
       "    </tr>\n",
       "    <tr>\n",
       "      <th>14</th>\n",
       "      <td>tt0000002</td>\n",
       "      <td>7</td>\n",
       "      <td>The Clown and His Dogs</td>\n",
       "      <td>US</td>\n",
       "      <td>\\N</td>\n",
       "      <td>\\N</td>\n",
       "      <td>literal English title</td>\n",
       "      <td>0</td>\n",
       "    </tr>\n",
       "    <tr>\n",
       "      <th>15</th>\n",
       "      <td>tt0000002</td>\n",
       "      <td>8</td>\n",
       "      <td>道化師と犬</td>\n",
       "      <td>JP</td>\n",
       "      <td>ja</td>\n",
       "      <td>imdbDisplay</td>\n",
       "      <td>\\N</td>\n",
       "      <td>0</td>\n",
       "    </tr>\n",
       "    <tr>\n",
       "      <th>16</th>\n",
       "      <td>tt0000003</td>\n",
       "      <td>1</td>\n",
       "      <td>Sarmanul Pierrot</td>\n",
       "      <td>RO</td>\n",
       "      <td>\\N</td>\n",
       "      <td>imdbDisplay</td>\n",
       "      <td>\\N</td>\n",
       "      <td>0</td>\n",
       "    </tr>\n",
       "    <tr>\n",
       "      <th>17</th>\n",
       "      <td>tt0000003</td>\n",
       "      <td>2</td>\n",
       "      <td>Szegény Pierrot</td>\n",
       "      <td>HU</td>\n",
       "      <td>\\N</td>\n",
       "      <td>imdbDisplay</td>\n",
       "      <td>\\N</td>\n",
       "      <td>0</td>\n",
       "    </tr>\n",
       "    <tr>\n",
       "      <th>18</th>\n",
       "      <td>tt0000003</td>\n",
       "      <td>3</td>\n",
       "      <td>哀れなピエロ</td>\n",
       "      <td>JP</td>\n",
       "      <td>ja</td>\n",
       "      <td>imdbDisplay</td>\n",
       "      <td>\\N</td>\n",
       "      <td>0</td>\n",
       "    </tr>\n",
       "    <tr>\n",
       "      <th>19</th>\n",
       "      <td>tt0000003</td>\n",
       "      <td>4</td>\n",
       "      <td>Бідний П'єро</td>\n",
       "      <td>UA</td>\n",
       "      <td>\\N</td>\n",
       "      <td>imdbDisplay</td>\n",
       "      <td>\\N</td>\n",
       "      <td>0</td>\n",
       "    </tr>\n",
       "  </tbody>\n",
       "</table>\n",
       "</div>"
      ],
      "text/plain": [
       "      titleId  ordering                      title region language  \\\n",
       "0   tt0000001         1                 Карменсіта     UA       \\N   \n",
       "1   tt0000001         2                 Carmencita     DE       \\N   \n",
       "2   tt0000001         3  Carmencita - spanyol tánc     HU       \\N   \n",
       "3   tt0000001         4                 Καρμενσίτα     GR       \\N   \n",
       "4   tt0000001         5                 Карменсита     RU       \\N   \n",
       "5   tt0000001         6                 Carmencita     US       \\N   \n",
       "6   tt0000001         7                 Carmencita     \\N       \\N   \n",
       "7   tt0000001         8                    カルメンチータ     JP       ja   \n",
       "8   tt0000002         1     Le clown et ses chiens     \\N       \\N   \n",
       "9   tt0000002         2     Le clown et ses chiens     FR       \\N   \n",
       "10  tt0000002         3          A bohóc és kutyái     HU       \\N   \n",
       "11  tt0000002         4  Der Clown und seine Hunde     DE       \\N   \n",
       "12  tt0000002         5      Clovnul si cainii sai     RO       \\N   \n",
       "13  tt0000002         6         Клоун и его собаки     RU       \\N   \n",
       "14  tt0000002         7     The Clown and His Dogs     US       \\N   \n",
       "15  tt0000002         8                      道化師と犬     JP       ja   \n",
       "16  tt0000003         1           Sarmanul Pierrot     RO       \\N   \n",
       "17  tt0000003         2            Szegény Pierrot     HU       \\N   \n",
       "18  tt0000003         3                     哀れなピエロ     JP       ja   \n",
       "19  tt0000003         4               Бідний П'єро     UA       \\N   \n",
       "\n",
       "          types             attributes isOriginalTitle  \n",
       "0   imdbDisplay                     \\N               0  \n",
       "1            \\N          literal title               0  \n",
       "2   imdbDisplay                     \\N               0  \n",
       "3   imdbDisplay                     \\N               0  \n",
       "4   imdbDisplay                     \\N               0  \n",
       "5   imdbDisplay                     \\N               0  \n",
       "6      original                     \\N               1  \n",
       "7   imdbDisplay                     \\N               0  \n",
       "8      original                     \\N               1  \n",
       "9   imdbDisplay                     \\N               0  \n",
       "10  imdbDisplay                     \\N               0  \n",
       "11           \\N          literal title               0  \n",
       "12  imdbDisplay                     \\N               0  \n",
       "13  imdbDisplay                     \\N               0  \n",
       "14           \\N  literal English title               0  \n",
       "15  imdbDisplay                     \\N               0  \n",
       "16  imdbDisplay                     \\N               0  \n",
       "17  imdbDisplay                     \\N               0  \n",
       "18  imdbDisplay                     \\N               0  \n",
       "19  imdbDisplay                     \\N               0  "
      ]
     },
     "execution_count": 51,
     "metadata": {},
     "output_type": "execute_result"
    }
   ],
   "source": [
    "Akas.head(20)"
   ]
  },
  {
   "cell_type": "code",
   "execution_count": 52,
   "metadata": {
    "id": "wYWsF0p1hfp4"
   },
   "outputs": [],
   "source": [
    "MainData = pd.merge(MainData,temp,on ='tconst',how = 'outer')"
   ]
  },
  {
   "cell_type": "code",
   "execution_count": 53,
   "metadata": {
    "colab": {
     "base_uri": "https://localhost:8080/",
     "height": 411
    },
    "id": "FzBRR4ANgBGR",
    "outputId": "64f10644-7ac3-4834-ff3d-9343577b5cb3"
   },
   "outputs": [
    {
     "data": {
      "text/html": [
       "<div>\n",
       "<style scoped>\n",
       "    .dataframe tbody tr th:only-of-type {\n",
       "        vertical-align: middle;\n",
       "    }\n",
       "\n",
       "    .dataframe tbody tr th {\n",
       "        vertical-align: top;\n",
       "    }\n",
       "\n",
       "    .dataframe thead th {\n",
       "        text-align: right;\n",
       "    }\n",
       "</style>\n",
       "<table border=\"1\" class=\"dataframe\">\n",
       "  <thead>\n",
       "    <tr style=\"text-align: right;\">\n",
       "      <th></th>\n",
       "      <th>Unnamed: 0_x</th>\n",
       "      <th>tconst</th>\n",
       "      <th>titleType</th>\n",
       "      <th>primaryTitle</th>\n",
       "      <th>originalTitle</th>\n",
       "      <th>isAdult</th>\n",
       "      <th>startYear</th>\n",
       "      <th>endYear</th>\n",
       "      <th>runtimeMinutes</th>\n",
       "      <th>genres</th>\n",
       "      <th>...</th>\n",
       "      <th>Unnamed: 0</th>\n",
       "      <th>averageRating</th>\n",
       "      <th>numVotes</th>\n",
       "      <th>ordering_y</th>\n",
       "      <th>title</th>\n",
       "      <th>region</th>\n",
       "      <th>language</th>\n",
       "      <th>types</th>\n",
       "      <th>attributes</th>\n",
       "      <th>isOriginalTitle</th>\n",
       "    </tr>\n",
       "  </thead>\n",
       "  <tbody>\n",
       "    <tr>\n",
       "      <th>0</th>\n",
       "      <td>0.0</td>\n",
       "      <td>tt0000447</td>\n",
       "      <td>short</td>\n",
       "      <td>Life of an American Fireman</td>\n",
       "      <td>Life of an American Fireman</td>\n",
       "      <td>0.0</td>\n",
       "      <td>1903</td>\n",
       "      <td>\\N</td>\n",
       "      <td>6</td>\n",
       "      <td>Action,Short</td>\n",
       "      <td>...</td>\n",
       "      <td>0.0</td>\n",
       "      <td>6.4</td>\n",
       "      <td>2193.0</td>\n",
       "      <td>7.0</td>\n",
       "      <td>Life of an American Fireman</td>\n",
       "      <td>\\N</td>\n",
       "      <td>\\N</td>\n",
       "      <td>original</td>\n",
       "      <td>\\N</td>\n",
       "      <td>1</td>\n",
       "    </tr>\n",
       "    <tr>\n",
       "      <th>1</th>\n",
       "      <td>0.0</td>\n",
       "      <td>tt0000447</td>\n",
       "      <td>short</td>\n",
       "      <td>Life of an American Fireman</td>\n",
       "      <td>Life of an American Fireman</td>\n",
       "      <td>0.0</td>\n",
       "      <td>1903</td>\n",
       "      <td>\\N</td>\n",
       "      <td>6</td>\n",
       "      <td>Action,Short</td>\n",
       "      <td>...</td>\n",
       "      <td>0.0</td>\n",
       "      <td>6.4</td>\n",
       "      <td>2193.0</td>\n",
       "      <td>7.0</td>\n",
       "      <td>Life of an American Fireman</td>\n",
       "      <td>\\N</td>\n",
       "      <td>\\N</td>\n",
       "      <td>original</td>\n",
       "      <td>\\N</td>\n",
       "      <td>1</td>\n",
       "    </tr>\n",
       "    <tr>\n",
       "      <th>2</th>\n",
       "      <td>0.0</td>\n",
       "      <td>tt0000447</td>\n",
       "      <td>short</td>\n",
       "      <td>Life of an American Fireman</td>\n",
       "      <td>Life of an American Fireman</td>\n",
       "      <td>0.0</td>\n",
       "      <td>1903</td>\n",
       "      <td>\\N</td>\n",
       "      <td>6</td>\n",
       "      <td>Action,Short</td>\n",
       "      <td>...</td>\n",
       "      <td>0.0</td>\n",
       "      <td>6.4</td>\n",
       "      <td>2193.0</td>\n",
       "      <td>7.0</td>\n",
       "      <td>Life of an American Fireman</td>\n",
       "      <td>\\N</td>\n",
       "      <td>\\N</td>\n",
       "      <td>original</td>\n",
       "      <td>\\N</td>\n",
       "      <td>1</td>\n",
       "    </tr>\n",
       "    <tr>\n",
       "      <th>3</th>\n",
       "      <td>0.0</td>\n",
       "      <td>tt0000447</td>\n",
       "      <td>short</td>\n",
       "      <td>Life of an American Fireman</td>\n",
       "      <td>Life of an American Fireman</td>\n",
       "      <td>0.0</td>\n",
       "      <td>1903</td>\n",
       "      <td>\\N</td>\n",
       "      <td>6</td>\n",
       "      <td>Action,Short</td>\n",
       "      <td>...</td>\n",
       "      <td>0.0</td>\n",
       "      <td>6.4</td>\n",
       "      <td>2193.0</td>\n",
       "      <td>7.0</td>\n",
       "      <td>Life of an American Fireman</td>\n",
       "      <td>\\N</td>\n",
       "      <td>\\N</td>\n",
       "      <td>original</td>\n",
       "      <td>\\N</td>\n",
       "      <td>1</td>\n",
       "    </tr>\n",
       "    <tr>\n",
       "      <th>4</th>\n",
       "      <td>0.0</td>\n",
       "      <td>tt0000447</td>\n",
       "      <td>short</td>\n",
       "      <td>Life of an American Fireman</td>\n",
       "      <td>Life of an American Fireman</td>\n",
       "      <td>0.0</td>\n",
       "      <td>1903</td>\n",
       "      <td>\\N</td>\n",
       "      <td>6</td>\n",
       "      <td>Action,Short</td>\n",
       "      <td>...</td>\n",
       "      <td>0.0</td>\n",
       "      <td>6.4</td>\n",
       "      <td>2193.0</td>\n",
       "      <td>7.0</td>\n",
       "      <td>Life of an American Fireman</td>\n",
       "      <td>\\N</td>\n",
       "      <td>\\N</td>\n",
       "      <td>original</td>\n",
       "      <td>\\N</td>\n",
       "      <td>1</td>\n",
       "    </tr>\n",
       "  </tbody>\n",
       "</table>\n",
       "<p>5 rows × 33 columns</p>\n",
       "</div>"
      ],
      "text/plain": [
       "   Unnamed: 0_x     tconst titleType                 primaryTitle  \\\n",
       "0           0.0  tt0000447     short  Life of an American Fireman   \n",
       "1           0.0  tt0000447     short  Life of an American Fireman   \n",
       "2           0.0  tt0000447     short  Life of an American Fireman   \n",
       "3           0.0  tt0000447     short  Life of an American Fireman   \n",
       "4           0.0  tt0000447     short  Life of an American Fireman   \n",
       "\n",
       "                 originalTitle  isAdult startYear endYear runtimeMinutes  \\\n",
       "0  Life of an American Fireman      0.0      1903      \\N              6   \n",
       "1  Life of an American Fireman      0.0      1903      \\N              6   \n",
       "2  Life of an American Fireman      0.0      1903      \\N              6   \n",
       "3  Life of an American Fireman      0.0      1903      \\N              6   \n",
       "4  Life of an American Fireman      0.0      1903      \\N              6   \n",
       "\n",
       "         genres  ...  Unnamed: 0 averageRating numVotes  ordering_y  \\\n",
       "0  Action,Short  ...         0.0           6.4   2193.0         7.0   \n",
       "1  Action,Short  ...         0.0           6.4   2193.0         7.0   \n",
       "2  Action,Short  ...         0.0           6.4   2193.0         7.0   \n",
       "3  Action,Short  ...         0.0           6.4   2193.0         7.0   \n",
       "4  Action,Short  ...         0.0           6.4   2193.0         7.0   \n",
       "\n",
       "                         title region language     types  attributes  \\\n",
       "0  Life of an American Fireman     \\N       \\N  original          \\N   \n",
       "1  Life of an American Fireman     \\N       \\N  original          \\N   \n",
       "2  Life of an American Fireman     \\N       \\N  original          \\N   \n",
       "3  Life of an American Fireman     \\N       \\N  original          \\N   \n",
       "4  Life of an American Fireman     \\N       \\N  original          \\N   \n",
       "\n",
       "  isOriginalTitle  \n",
       "0               1  \n",
       "1               1  \n",
       "2               1  \n",
       "3               1  \n",
       "4               1  \n",
       "\n",
       "[5 rows x 33 columns]"
      ]
     },
     "execution_count": 53,
     "metadata": {},
     "output_type": "execute_result"
    }
   ],
   "source": [
    "MainData.head()"
   ]
  },
  {
   "cell_type": "code",
   "execution_count": 54,
   "metadata": {
    "id": "VHwuVVFFi2dj"
   },
   "outputs": [],
   "source": [
    "MainData.dropna(axis = 0,subset=['averageRating','numVotes'],inplace=\n",
    "                True)"
   ]
  },
  {
   "cell_type": "code",
   "execution_count": 55,
   "metadata": {
    "id": "GSQG94EulbwL"
   },
   "outputs": [],
   "source": [
    "MainData.reset_index(drop = True,inplace=True)"
   ]
  },
  {
   "cell_type": "code",
   "execution_count": 56,
   "metadata": {
    "id": "h4fGJ7WEm-Eu"
   },
   "outputs": [
    {
     "data": {
      "text/plain": [
       "(2407497, 33)"
      ]
     },
     "execution_count": 56,
     "metadata": {},
     "output_type": "execute_result"
    }
   ],
   "source": [
    "MainData.shape"
   ]
  },
  {
   "cell_type": "code",
   "execution_count": 57,
   "metadata": {
    "id": "HF2amvWwoiRf"
   },
   "outputs": [],
   "source": [
    "TitleLengthXYears = pd.merge(Basics[['tconst','startYear']],TitleLengthXRatings,on='tconst',how='outer')"
   ]
  },
  {
   "cell_type": "code",
   "execution_count": 58,
   "metadata": {
    "colab": {
     "base_uri": "https://localhost:8080/"
    },
    "id": "yIy5a92ipAB0",
    "outputId": "6a156a46-bb26-47b4-b121-fdb1e9d641f8"
   },
   "outputs": [],
   "source": [
    "TitleLengthXYears = TitleLengthXYears.groupby('startYear_y').mean()\n",
    "TitleLengthXYears = TitleLengthXYears.iloc[0:125,:]\n"
   ]
  },
  {
   "cell_type": "code",
   "execution_count": 59,
   "metadata": {
    "colab": {
     "base_uri": "https://localhost:8080/",
     "height": 295
    },
    "id": "HKaOdUC5qTWD",
    "outputId": "35473531-2fae-4365-b8cb-9abaee85d449"
   },
   "outputs": [
    {
     "data": {
      "image/png": "[encoded data removed]",
      "text/plain": [
       "<Figure size 432x288 with 1 Axes>"
      ]
     },
     "metadata": {
      "needs_background": "light"
     },
     "output_type": "display_data"
    }
   ],
   "source": [
    "sns.lineplot(x = TitleLengthXYears.index,y='Title length',data=TitleLengthXYears)\n",
    "plt.title(\"Change of Title Length vs Years\")\n",
    "plt.xlabel('Years')\n",
    "plt.show()"
   ]
  },
  {
   "cell_type": "code",
   "execution_count": 60,
   "metadata": {
    "id": "vCyzHrcWsFWe"
   },
   "outputs": [],
   "source": [
    "GenreRating = MainData.groupby('genres').mean()\n",
    "GenreRating = GenreRating.sort_values(by='averageRating',ascending=False)"
   ]
  },
  {
   "cell_type": "code",
   "execution_count": 61,
   "metadata": {
    "colab": {
     "base_uri": "https://localhost:8080/",
     "height": 446
    },
    "id": "NjLajIvetr0o",
    "outputId": "30420706-013c-4601-d62d-b255b786ff5d"
   },
   "outputs": [
    {
     "data": {
      "text/html": [
       "<div>\n",
       "<style scoped>\n",
       "    .dataframe tbody tr th:only-of-type {\n",
       "        vertical-align: middle;\n",
       "    }\n",
       "\n",
       "    .dataframe tbody tr th {\n",
       "        vertical-align: top;\n",
       "    }\n",
       "\n",
       "    .dataframe thead th {\n",
       "        text-align: right;\n",
       "    }\n",
       "</style>\n",
       "<table border=\"1\" class=\"dataframe\">\n",
       "  <thead>\n",
       "    <tr style=\"text-align: right;\">\n",
       "      <th></th>\n",
       "      <th>Unnamed: 0_x</th>\n",
       "      <th>isAdult</th>\n",
       "      <th>Unnamed: 0_y</th>\n",
       "      <th>Unnamed: 0_x</th>\n",
       "      <th>Unnamed: 0_y</th>\n",
       "      <th>ordering_x</th>\n",
       "      <th>Unnamed: 0</th>\n",
       "      <th>averageRating</th>\n",
       "      <th>numVotes</th>\n",
       "      <th>ordering_y</th>\n",
       "    </tr>\n",
       "    <tr>\n",
       "      <th>genres</th>\n",
       "      <th></th>\n",
       "      <th></th>\n",
       "      <th></th>\n",
       "      <th></th>\n",
       "      <th></th>\n",
       "      <th></th>\n",
       "      <th></th>\n",
       "      <th></th>\n",
       "      <th></th>\n",
       "      <th></th>\n",
       "    </tr>\n",
       "  </thead>\n",
       "  <tbody>\n",
       "    <tr>\n",
       "      <th>Biography,Comedy,Sport</th>\n",
       "      <td>229019.0</td>\n",
       "      <td>0.0</td>\n",
       "      <td>229019.0</td>\n",
       "      <td>NaN</td>\n",
       "      <td>7056169.5</td>\n",
       "      <td>5.5</td>\n",
       "      <td>162341.0</td>\n",
       "      <td>9.8</td>\n",
       "      <td>22.0</td>\n",
       "      <td>NaN</td>\n",
       "    </tr>\n",
       "    <tr>\n",
       "      <th>Adventure,Reality-TV,Talk-Show</th>\n",
       "      <td>294403.0</td>\n",
       "      <td>0.0</td>\n",
       "      <td>294421.0</td>\n",
       "      <td>NaN</td>\n",
       "      <td>10318390.5</td>\n",
       "      <td>5.5</td>\n",
       "      <td>192065.0</td>\n",
       "      <td>9.7</td>\n",
       "      <td>10.0</td>\n",
       "      <td>NaN</td>\n",
       "    </tr>\n",
       "    <tr>\n",
       "      <th>Comedy,Documentary,Fantasy</th>\n",
       "      <td>355094.0</td>\n",
       "      <td>0.0</td>\n",
       "      <td>355112.0</td>\n",
       "      <td>NaN</td>\n",
       "      <td>12599175.5</td>\n",
       "      <td>2.5</td>\n",
       "      <td>223872.0</td>\n",
       "      <td>9.4</td>\n",
       "      <td>5.0</td>\n",
       "      <td>NaN</td>\n",
       "    </tr>\n",
       "    <tr>\n",
       "      <th>Game-Show,History,Music</th>\n",
       "      <td>176163.0</td>\n",
       "      <td>0.0</td>\n",
       "      <td>176163.0</td>\n",
       "      <td>NaN</td>\n",
       "      <td>3742499.5</td>\n",
       "      <td>3.5</td>\n",
       "      <td>136779.0</td>\n",
       "      <td>9.0</td>\n",
       "      <td>246.0</td>\n",
       "      <td>NaN</td>\n",
       "    </tr>\n",
       "    <tr>\n",
       "      <th>Biography,Fantasy,Short</th>\n",
       "      <td>362626.0</td>\n",
       "      <td>0.0</td>\n",
       "      <td>362644.0</td>\n",
       "      <td>NaN</td>\n",
       "      <td>12932922.5</td>\n",
       "      <td>4.5</td>\n",
       "      <td>227421.0</td>\n",
       "      <td>9.0</td>\n",
       "      <td>5.0</td>\n",
       "      <td>NaN</td>\n",
       "    </tr>\n",
       "    <tr>\n",
       "      <th>Documentary,Fantasy,Short</th>\n",
       "      <td>144721.0</td>\n",
       "      <td>0.0</td>\n",
       "      <td>144721.0</td>\n",
       "      <td>NaN</td>\n",
       "      <td>1843665.0</td>\n",
       "      <td>3.0</td>\n",
       "      <td>116018.0</td>\n",
       "      <td>9.0</td>\n",
       "      <td>10.0</td>\n",
       "      <td>NaN</td>\n",
       "    </tr>\n",
       "    <tr>\n",
       "      <th>Musical,Short,Thriller</th>\n",
       "      <td>303303.0</td>\n",
       "      <td>0.0</td>\n",
       "      <td>303321.0</td>\n",
       "      <td>NaN</td>\n",
       "      <td>10687530.0</td>\n",
       "      <td>5.0</td>\n",
       "      <td>196836.0</td>\n",
       "      <td>9.0</td>\n",
       "      <td>10.0</td>\n",
       "      <td>NaN</td>\n",
       "    </tr>\n",
       "    <tr>\n",
       "      <th>History,Romance,Short</th>\n",
       "      <td>323495.5</td>\n",
       "      <td>0.0</td>\n",
       "      <td>323513.5</td>\n",
       "      <td>NaN</td>\n",
       "      <td>11404222.0</td>\n",
       "      <td>5.5</td>\n",
       "      <td>206333.0</td>\n",
       "      <td>8.9</td>\n",
       "      <td>6.5</td>\n",
       "      <td>NaN</td>\n",
       "    </tr>\n",
       "    <tr>\n",
       "      <th>Documentary,Game-Show,News</th>\n",
       "      <td>109497.0</td>\n",
       "      <td>0.0</td>\n",
       "      <td>109497.0</td>\n",
       "      <td>NaN</td>\n",
       "      <td>1372349.0</td>\n",
       "      <td>2.0</td>\n",
       "      <td>91774.0</td>\n",
       "      <td>8.8</td>\n",
       "      <td>52.0</td>\n",
       "      <td>NaN</td>\n",
       "    </tr>\n",
       "    <tr>\n",
       "      <th>Comedy,Game-Show,History</th>\n",
       "      <td>195499.0</td>\n",
       "      <td>0.0</td>\n",
       "      <td>195499.0</td>\n",
       "      <td>NaN</td>\n",
       "      <td>4881109.5</td>\n",
       "      <td>5.5</td>\n",
       "      <td>148393.0</td>\n",
       "      <td>8.8</td>\n",
       "      <td>6.0</td>\n",
       "      <td>NaN</td>\n",
       "    </tr>\n",
       "  </tbody>\n",
       "</table>\n",
       "</div>"
      ],
      "text/plain": [
       "                                Unnamed: 0_x  isAdult  Unnamed: 0_y  \\\n",
       "genres                                                                \n",
       "Biography,Comedy,Sport              229019.0      0.0      229019.0   \n",
       "Adventure,Reality-TV,Talk-Show      294403.0      0.0      294421.0   \n",
       "Comedy,Documentary,Fantasy          355094.0      0.0      355112.0   \n",
       "Game-Show,History,Music             176163.0      0.0      176163.0   \n",
       "Biography,Fantasy,Short             362626.0      0.0      362644.0   \n",
       "Documentary,Fantasy,Short           144721.0      0.0      144721.0   \n",
       "Musical,Short,Thriller              303303.0      0.0      303321.0   \n",
       "History,Romance,Short               323495.5      0.0      323513.5   \n",
       "Documentary,Game-Show,News          109497.0      0.0      109497.0   \n",
       "Comedy,Game-Show,History            195499.0      0.0      195499.0   \n",
       "\n",
       "                                Unnamed: 0_x  Unnamed: 0_y  ordering_x  \\\n",
       "genres                                                                   \n",
       "Biography,Comedy,Sport                   NaN     7056169.5         5.5   \n",
       "Adventure,Reality-TV,Talk-Show           NaN    10318390.5         5.5   \n",
       "Comedy,Documentary,Fantasy               NaN    12599175.5         2.5   \n",
       "Game-Show,History,Music                  NaN     3742499.5         3.5   \n",
       "Biography,Fantasy,Short                  NaN    12932922.5         4.5   \n",
       "Documentary,Fantasy,Short                NaN     1843665.0         3.0   \n",
       "Musical,Short,Thriller                   NaN    10687530.0         5.0   \n",
       "History,Romance,Short                    NaN    11404222.0         5.5   \n",
       "Documentary,Game-Show,News               NaN     1372349.0         2.0   \n",
       "Comedy,Game-Show,History                 NaN     4881109.5         5.5   \n",
       "\n",
       "                                Unnamed: 0  averageRating  numVotes  \\\n",
       "genres                                                                \n",
       "Biography,Comedy,Sport            162341.0            9.8      22.0   \n",
       "Adventure,Reality-TV,Talk-Show    192065.0            9.7      10.0   \n",
       "Comedy,Documentary,Fantasy        223872.0            9.4       5.0   \n",
       "Game-Show,History,Music           136779.0            9.0     246.0   \n",
       "Biography,Fantasy,Short           227421.0            9.0       5.0   \n",
       "Documentary,Fantasy,Short         116018.0            9.0      10.0   \n",
       "Musical,Short,Thriller            196836.0            9.0      10.0   \n",
       "History,Romance,Short             206333.0            8.9       6.5   \n",
       "Documentary,Game-Show,News         91774.0            8.8      52.0   \n",
       "Comedy,Game-Show,History          148393.0            8.8       6.0   \n",
       "\n",
       "                                ordering_y  \n",
       "genres                                      \n",
       "Biography,Comedy,Sport                 NaN  \n",
       "Adventure,Reality-TV,Talk-Show         NaN  \n",
       "Comedy,Documentary,Fantasy             NaN  \n",
       "Game-Show,History,Music                NaN  \n",
       "Biography,Fantasy,Short                NaN  \n",
       "Documentary,Fantasy,Short              NaN  \n",
       "Musical,Short,Thriller                 NaN  \n",
       "History,Romance,Short                  NaN  \n",
       "Documentary,Game-Show,News             NaN  \n",
       "Comedy,Game-Show,History               NaN  "
      ]
     },
     "execution_count": 61,
     "metadata": {},
     "output_type": "execute_result"
    }
   ],
   "source": [
    "GenreRating = GenreRating.iloc[0:10,:]\n",
    "GenreRating"
   ]
  },
  {
   "cell_type": "code",
   "execution_count": 62,
   "metadata": {
    "colab": {
     "base_uri": "https://localhost:8080/",
     "height": 442
    },
    "id": "JKvzaV3Zsj51",
    "outputId": "d3d1dea3-b138-47a7-c4af-b7377fb0fa6b"
   },
   "outputs": [
    {
     "data": {
      "image/png": "[encoded data removed]",
      "text/plain": [
       "<Figure size 432x288 with 1 Axes>"
      ]
     },
     "metadata": {
      "needs_background": "light"
     },
     "output_type": "display_data"
    }
   ],
   "source": [
    "sns.barplot(x = GenreRating.index,y='averageRating',data = GenreRating)\n",
    "plt.xticks(rotation='vertical')\n",
    "plt.title('Top Genres')\n",
    "plt.show()"
   ]
  },
  {
   "cell_type": "markdown",
   "metadata": {
    "id": "VukMjrsMvPnT"
   },
   "source": [
    "# **Data preprocessing and cleaning**"
   ]
  },
  {
   "cell_type": "code",
   "execution_count": 63,
   "metadata": {
    "colab": {
     "base_uri": "https://localhost:8080/"
    },
    "id": "h-7mGPwjvY5t",
    "outputId": "16efb028-3807-4616-8095-eea95b449183"
   },
   "outputs": [
    {
     "data": {
      "text/plain": [
       "Index(['Unnamed: 0_x', 'tconst', 'titleType', 'primaryTitle', 'originalTitle',\n",
       "       'isAdult', 'startYear', 'endYear', 'runtimeMinutes', 'genres',\n",
       "       'Unnamed: 0_y', 'directors', 'writers', 'Unnamed: 0_x', 'parentTconst',\n",
       "       'seasonNumber', 'episodeNumber', 'Unnamed: 0_y', 'ordering_x', 'nconst',\n",
       "       'category', 'job', 'characters', 'Unnamed: 0', 'averageRating',\n",
       "       'numVotes', 'ordering_y', 'title', 'region', 'language', 'types',\n",
       "       'attributes', 'isOriginalTitle'],\n",
       "      dtype='object')"
      ]
     },
     "execution_count": 63,
     "metadata": {},
     "output_type": "execute_result"
    }
   ],
   "source": [
    "MainData.columns"
   ]
  },
  {
   "cell_type": "code",
   "execution_count": 64,
   "metadata": {
    "id": "DRdxijokvY78"
   },
   "outputs": [],
   "source": [
    "ImpColumns = ['titleType','primaryTitle','originalTitle','isAdult','startYear','endYear','runtimeMinutes','genres','category','directors', 'writers',\n",
    "              'averageRating','numVotes','title', 'region', 'language', 'types','attributes'] "
   ]
  },
  {
   "cell_type": "code",
   "execution_count": 65,
   "metadata": {
    "id": "doEqsY12yALE"
   },
   "outputs": [],
   "source": [
    "MainData = MainData[ImpColumns]"
   ]
  },
  {
   "cell_type": "code",
   "execution_count": 66,
   "metadata": {},
   "outputs": [],
   "source": [
    "MainData.drop(['originalTitle'],inplace=True, axis=1)"
   ]
  },
  {
   "cell_type": "code",
   "execution_count": 67,
   "metadata": {},
   "outputs": [],
   "source": [
    "MainData.drop(['region'],inplace=True, axis=1)"
   ]
  },
  {
   "cell_type": "code",
   "execution_count": 68,
   "metadata": {},
   "outputs": [
    {
     "data": {
      "text/plain": [
       "(2407497, 16)"
      ]
     },
     "execution_count": 68,
     "metadata": {},
     "output_type": "execute_result"
    }
   ],
   "source": [
    "MainData.shape"
   ]
  },
  {
   "cell_type": "code",
   "execution_count": 69,
   "metadata": {},
   "outputs": [],
   "source": [
    "MainData = MainData.iloc[:2000,:]"
   ]
  },
  {
   "cell_type": "code",
   "execution_count": 70,
   "metadata": {},
   "outputs": [
    {
     "data": {
      "text/plain": [
       "(2000, 16)"
      ]
     },
     "execution_count": 70,
     "metadata": {},
     "output_type": "execute_result"
    }
   ],
   "source": [
    "MainData.shape"
   ]
  },
  {
   "cell_type": "code",
   "execution_count": 71,
   "metadata": {},
   "outputs": [
    {
     "data": {
      "text/plain": [
       "titleType          0\n",
       "primaryTitle       0\n",
       "isAdult            0\n",
       "startYear          0\n",
       "endYear            0\n",
       "runtimeMinutes     0\n",
       "genres             0\n",
       "category           0\n",
       "directors          0\n",
       "writers            0\n",
       "averageRating      0\n",
       "numVotes           0\n",
       "title             10\n",
       "language          10\n",
       "types             10\n",
       "attributes        10\n",
       "dtype: int64"
      ]
     },
     "execution_count": 71,
     "metadata": {},
     "output_type": "execute_result"
    }
   ],
   "source": [
    "MainData.isna().sum()"
   ]
  },
  {
   "cell_type": "code",
   "execution_count": 72,
   "metadata": {},
   "outputs": [],
   "source": [
    "MainData = pd.get_dummies(MainData, drop_first=True)"
   ]
  },
  {
   "cell_type": "code",
   "execution_count": 73,
   "metadata": {},
   "outputs": [
    {
     "data": {
      "text/html": [
       "<div>\n",
       "<style scoped>\n",
       "    .dataframe tbody tr th:only-of-type {\n",
       "        vertical-align: middle;\n",
       "    }\n",
       "\n",
       "    .dataframe tbody tr th {\n",
       "        vertical-align: top;\n",
       "    }\n",
       "\n",
       "    .dataframe thead th {\n",
       "        text-align: right;\n",
       "    }\n",
       "</style>\n",
       "<table border=\"1\" class=\"dataframe\">\n",
       "  <thead>\n",
       "    <tr style=\"text-align: right;\">\n",
       "      <th></th>\n",
       "      <th>isAdult</th>\n",
       "      <th>averageRating</th>\n",
       "      <th>numVotes</th>\n",
       "      <th>titleType_short</th>\n",
       "      <th>primaryTitle_A Daughter of the Gods</th>\n",
       "      <th>primaryTitle_A Florida Enchantment</th>\n",
       "      <th>primaryTitle_A House Divided</th>\n",
       "      <th>primaryTitle_A Little Princess</th>\n",
       "      <th>primaryTitle_A Man from Nowhere</th>\n",
       "      <th>primaryTitle_A Sister of Six</th>\n",
       "      <th>...</th>\n",
       "      <th>title_When the Earth Trembled</th>\n",
       "      <th>title_Where Are My Children?</th>\n",
       "      <th>title_Wide Open Spaces</th>\n",
       "      <th>title_Within Our Gates</th>\n",
       "      <th>title_Woman</th>\n",
       "      <th>title_Wuthering Heights</th>\n",
       "      <th>title_Yankee Doodle in Berlin</th>\n",
       "      <th>title_Young Mother Hubbard</th>\n",
       "      <th>title_Zoárd mester</th>\n",
       "      <th>title_Zudora</th>\n",
       "    </tr>\n",
       "  </thead>\n",
       "  <tbody>\n",
       "    <tr>\n",
       "      <th>0</th>\n",
       "      <td>0.0</td>\n",
       "      <td>6.4</td>\n",
       "      <td>2193.0</td>\n",
       "      <td>1</td>\n",
       "      <td>0</td>\n",
       "      <td>0</td>\n",
       "      <td>0</td>\n",
       "      <td>0</td>\n",
       "      <td>0</td>\n",
       "      <td>0</td>\n",
       "      <td>...</td>\n",
       "      <td>0</td>\n",
       "      <td>0</td>\n",
       "      <td>0</td>\n",
       "      <td>0</td>\n",
       "      <td>0</td>\n",
       "      <td>0</td>\n",
       "      <td>0</td>\n",
       "      <td>0</td>\n",
       "      <td>0</td>\n",
       "      <td>0</td>\n",
       "    </tr>\n",
       "    <tr>\n",
       "      <th>1</th>\n",
       "      <td>0.0</td>\n",
       "      <td>6.4</td>\n",
       "      <td>2193.0</td>\n",
       "      <td>1</td>\n",
       "      <td>0</td>\n",
       "      <td>0</td>\n",
       "      <td>0</td>\n",
       "      <td>0</td>\n",
       "      <td>0</td>\n",
       "      <td>0</td>\n",
       "      <td>...</td>\n",
       "      <td>0</td>\n",
       "      <td>0</td>\n",
       "      <td>0</td>\n",
       "      <td>0</td>\n",
       "      <td>0</td>\n",
       "      <td>0</td>\n",
       "      <td>0</td>\n",
       "      <td>0</td>\n",
       "      <td>0</td>\n",
       "      <td>0</td>\n",
       "    </tr>\n",
       "    <tr>\n",
       "      <th>2</th>\n",
       "      <td>0.0</td>\n",
       "      <td>6.4</td>\n",
       "      <td>2193.0</td>\n",
       "      <td>1</td>\n",
       "      <td>0</td>\n",
       "      <td>0</td>\n",
       "      <td>0</td>\n",
       "      <td>0</td>\n",
       "      <td>0</td>\n",
       "      <td>0</td>\n",
       "      <td>...</td>\n",
       "      <td>0</td>\n",
       "      <td>0</td>\n",
       "      <td>0</td>\n",
       "      <td>0</td>\n",
       "      <td>0</td>\n",
       "      <td>0</td>\n",
       "      <td>0</td>\n",
       "      <td>0</td>\n",
       "      <td>0</td>\n",
       "      <td>0</td>\n",
       "    </tr>\n",
       "    <tr>\n",
       "      <th>3</th>\n",
       "      <td>0.0</td>\n",
       "      <td>6.4</td>\n",
       "      <td>2193.0</td>\n",
       "      <td>1</td>\n",
       "      <td>0</td>\n",
       "      <td>0</td>\n",
       "      <td>0</td>\n",
       "      <td>0</td>\n",
       "      <td>0</td>\n",
       "      <td>0</td>\n",
       "      <td>...</td>\n",
       "      <td>0</td>\n",
       "      <td>0</td>\n",
       "      <td>0</td>\n",
       "      <td>0</td>\n",
       "      <td>0</td>\n",
       "      <td>0</td>\n",
       "      <td>0</td>\n",
       "      <td>0</td>\n",
       "      <td>0</td>\n",
       "      <td>0</td>\n",
       "    </tr>\n",
       "    <tr>\n",
       "      <th>4</th>\n",
       "      <td>0.0</td>\n",
       "      <td>6.4</td>\n",
       "      <td>2193.0</td>\n",
       "      <td>1</td>\n",
       "      <td>0</td>\n",
       "      <td>0</td>\n",
       "      <td>0</td>\n",
       "      <td>0</td>\n",
       "      <td>0</td>\n",
       "      <td>0</td>\n",
       "      <td>...</td>\n",
       "      <td>0</td>\n",
       "      <td>0</td>\n",
       "      <td>0</td>\n",
       "      <td>0</td>\n",
       "      <td>0</td>\n",
       "      <td>0</td>\n",
       "      <td>0</td>\n",
       "      <td>0</td>\n",
       "      <td>0</td>\n",
       "      <td>0</td>\n",
       "    </tr>\n",
       "  </tbody>\n",
       "</table>\n",
       "<p>5 rows × 909 columns</p>\n",
       "</div>"
      ],
      "text/plain": [
       "   isAdult  averageRating  numVotes  titleType_short  \\\n",
       "0      0.0            6.4    2193.0                1   \n",
       "1      0.0            6.4    2193.0                1   \n",
       "2      0.0            6.4    2193.0                1   \n",
       "3      0.0            6.4    2193.0                1   \n",
       "4      0.0            6.4    2193.0                1   \n",
       "\n",
       "   primaryTitle_A Daughter of the Gods  primaryTitle_A Florida Enchantment  \\\n",
       "0                                    0                                   0   \n",
       "1                                    0                                   0   \n",
       "2                                    0                                   0   \n",
       "3                                    0                                   0   \n",
       "4                                    0                                   0   \n",
       "\n",
       "   primaryTitle_A House Divided  primaryTitle_A Little Princess  \\\n",
       "0                             0                               0   \n",
       "1                             0                               0   \n",
       "2                             0                               0   \n",
       "3                             0                               0   \n",
       "4                             0                               0   \n",
       "\n",
       "   primaryTitle_A Man from Nowhere  primaryTitle_A Sister of Six  ...  \\\n",
       "0                                0                             0  ...   \n",
       "1                                0                             0  ...   \n",
       "2                                0                             0  ...   \n",
       "3                                0                             0  ...   \n",
       "4                                0                             0  ...   \n",
       "\n",
       "   title_When the Earth Trembled  title_Where Are My Children?  \\\n",
       "0                              0                             0   \n",
       "1                              0                             0   \n",
       "2                              0                             0   \n",
       "3                              0                             0   \n",
       "4                              0                             0   \n",
       "\n",
       "   title_Wide Open Spaces  title_Within Our Gates  title_Woman  \\\n",
       "0                       0                       0            0   \n",
       "1                       0                       0            0   \n",
       "2                       0                       0            0   \n",
       "3                       0                       0            0   \n",
       "4                       0                       0            0   \n",
       "\n",
       "   title_Wuthering Heights  title_Yankee Doodle in Berlin  \\\n",
       "0                        0                              0   \n",
       "1                        0                              0   \n",
       "2                        0                              0   \n",
       "3                        0                              0   \n",
       "4                        0                              0   \n",
       "\n",
       "   title_Young Mother Hubbard  title_Zoárd mester  title_Zudora  \n",
       "0                           0                   0             0  \n",
       "1                           0                   0             0  \n",
       "2                           0                   0             0  \n",
       "3                           0                   0             0  \n",
       "4                           0                   0             0  \n",
       "\n",
       "[5 rows x 909 columns]"
      ]
     },
     "execution_count": 73,
     "metadata": {},
     "output_type": "execute_result"
    }
   ],
   "source": [
    "MainData.head()"
   ]
  },
  {
   "cell_type": "code",
   "execution_count": 74,
   "metadata": {
    "id": "F-21TcMPyEpl"
   },
   "outputs": [],
   "source": [
    "y = MainData.pop('numVotes')\n",
    "X = MainData\n"
   ]
  },
  {
   "cell_type": "code",
   "execution_count": 75,
   "metadata": {},
   "outputs": [
    {
     "data": {
      "text/html": [
       "<div>\n",
       "<style scoped>\n",
       "    .dataframe tbody tr th:only-of-type {\n",
       "        vertical-align: middle;\n",
       "    }\n",
       "\n",
       "    .dataframe tbody tr th {\n",
       "        vertical-align: top;\n",
       "    }\n",
       "\n",
       "    .dataframe thead th {\n",
       "        text-align: right;\n",
       "    }\n",
       "</style>\n",
       "<table border=\"1\" class=\"dataframe\">\n",
       "  <thead>\n",
       "    <tr style=\"text-align: right;\">\n",
       "      <th></th>\n",
       "      <th>isAdult</th>\n",
       "      <th>averageRating</th>\n",
       "      <th>titleType_short</th>\n",
       "      <th>primaryTitle_A Daughter of the Gods</th>\n",
       "      <th>primaryTitle_A Florida Enchantment</th>\n",
       "      <th>primaryTitle_A House Divided</th>\n",
       "      <th>primaryTitle_A Little Princess</th>\n",
       "      <th>primaryTitle_A Man from Nowhere</th>\n",
       "      <th>primaryTitle_A Sister of Six</th>\n",
       "      <th>primaryTitle_A Son of David</th>\n",
       "      <th>...</th>\n",
       "      <th>title_When the Earth Trembled</th>\n",
       "      <th>title_Where Are My Children?</th>\n",
       "      <th>title_Wide Open Spaces</th>\n",
       "      <th>title_Within Our Gates</th>\n",
       "      <th>title_Woman</th>\n",
       "      <th>title_Wuthering Heights</th>\n",
       "      <th>title_Yankee Doodle in Berlin</th>\n",
       "      <th>title_Young Mother Hubbard</th>\n",
       "      <th>title_Zoárd mester</th>\n",
       "      <th>title_Zudora</th>\n",
       "    </tr>\n",
       "  </thead>\n",
       "  <tbody>\n",
       "    <tr>\n",
       "      <th>0</th>\n",
       "      <td>0.0</td>\n",
       "      <td>6.4</td>\n",
       "      <td>1</td>\n",
       "      <td>0</td>\n",
       "      <td>0</td>\n",
       "      <td>0</td>\n",
       "      <td>0</td>\n",
       "      <td>0</td>\n",
       "      <td>0</td>\n",
       "      <td>0</td>\n",
       "      <td>...</td>\n",
       "      <td>0</td>\n",
       "      <td>0</td>\n",
       "      <td>0</td>\n",
       "      <td>0</td>\n",
       "      <td>0</td>\n",
       "      <td>0</td>\n",
       "      <td>0</td>\n",
       "      <td>0</td>\n",
       "      <td>0</td>\n",
       "      <td>0</td>\n",
       "    </tr>\n",
       "    <tr>\n",
       "      <th>1</th>\n",
       "      <td>0.0</td>\n",
       "      <td>6.4</td>\n",
       "      <td>1</td>\n",
       "      <td>0</td>\n",
       "      <td>0</td>\n",
       "      <td>0</td>\n",
       "      <td>0</td>\n",
       "      <td>0</td>\n",
       "      <td>0</td>\n",
       "      <td>0</td>\n",
       "      <td>...</td>\n",
       "      <td>0</td>\n",
       "      <td>0</td>\n",
       "      <td>0</td>\n",
       "      <td>0</td>\n",
       "      <td>0</td>\n",
       "      <td>0</td>\n",
       "      <td>0</td>\n",
       "      <td>0</td>\n",
       "      <td>0</td>\n",
       "      <td>0</td>\n",
       "    </tr>\n",
       "    <tr>\n",
       "      <th>2</th>\n",
       "      <td>0.0</td>\n",
       "      <td>6.4</td>\n",
       "      <td>1</td>\n",
       "      <td>0</td>\n",
       "      <td>0</td>\n",
       "      <td>0</td>\n",
       "      <td>0</td>\n",
       "      <td>0</td>\n",
       "      <td>0</td>\n",
       "      <td>0</td>\n",
       "      <td>...</td>\n",
       "      <td>0</td>\n",
       "      <td>0</td>\n",
       "      <td>0</td>\n",
       "      <td>0</td>\n",
       "      <td>0</td>\n",
       "      <td>0</td>\n",
       "      <td>0</td>\n",
       "      <td>0</td>\n",
       "      <td>0</td>\n",
       "      <td>0</td>\n",
       "    </tr>\n",
       "    <tr>\n",
       "      <th>3</th>\n",
       "      <td>0.0</td>\n",
       "      <td>6.4</td>\n",
       "      <td>1</td>\n",
       "      <td>0</td>\n",
       "      <td>0</td>\n",
       "      <td>0</td>\n",
       "      <td>0</td>\n",
       "      <td>0</td>\n",
       "      <td>0</td>\n",
       "      <td>0</td>\n",
       "      <td>...</td>\n",
       "      <td>0</td>\n",
       "      <td>0</td>\n",
       "      <td>0</td>\n",
       "      <td>0</td>\n",
       "      <td>0</td>\n",
       "      <td>0</td>\n",
       "      <td>0</td>\n",
       "      <td>0</td>\n",
       "      <td>0</td>\n",
       "      <td>0</td>\n",
       "    </tr>\n",
       "    <tr>\n",
       "      <th>4</th>\n",
       "      <td>0.0</td>\n",
       "      <td>6.4</td>\n",
       "      <td>1</td>\n",
       "      <td>0</td>\n",
       "      <td>0</td>\n",
       "      <td>0</td>\n",
       "      <td>0</td>\n",
       "      <td>0</td>\n",
       "      <td>0</td>\n",
       "      <td>0</td>\n",
       "      <td>...</td>\n",
       "      <td>0</td>\n",
       "      <td>0</td>\n",
       "      <td>0</td>\n",
       "      <td>0</td>\n",
       "      <td>0</td>\n",
       "      <td>0</td>\n",
       "      <td>0</td>\n",
       "      <td>0</td>\n",
       "      <td>0</td>\n",
       "      <td>0</td>\n",
       "    </tr>\n",
       "  </tbody>\n",
       "</table>\n",
       "<p>5 rows × 908 columns</p>\n",
       "</div>"
      ],
      "text/plain": [
       "   isAdult  averageRating  titleType_short  \\\n",
       "0      0.0            6.4                1   \n",
       "1      0.0            6.4                1   \n",
       "2      0.0            6.4                1   \n",
       "3      0.0            6.4                1   \n",
       "4      0.0            6.4                1   \n",
       "\n",
       "   primaryTitle_A Daughter of the Gods  primaryTitle_A Florida Enchantment  \\\n",
       "0                                    0                                   0   \n",
       "1                                    0                                   0   \n",
       "2                                    0                                   0   \n",
       "3                                    0                                   0   \n",
       "4                                    0                                   0   \n",
       "\n",
       "   primaryTitle_A House Divided  primaryTitle_A Little Princess  \\\n",
       "0                             0                               0   \n",
       "1                             0                               0   \n",
       "2                             0                               0   \n",
       "3                             0                               0   \n",
       "4                             0                               0   \n",
       "\n",
       "   primaryTitle_A Man from Nowhere  primaryTitle_A Sister of Six  \\\n",
       "0                                0                             0   \n",
       "1                                0                             0   \n",
       "2                                0                             0   \n",
       "3                                0                             0   \n",
       "4                                0                             0   \n",
       "\n",
       "   primaryTitle_A Son of David  ...  title_When the Earth Trembled  \\\n",
       "0                            0  ...                              0   \n",
       "1                            0  ...                              0   \n",
       "2                            0  ...                              0   \n",
       "3                            0  ...                              0   \n",
       "4                            0  ...                              0   \n",
       "\n",
       "   title_Where Are My Children?  title_Wide Open Spaces  \\\n",
       "0                             0                       0   \n",
       "1                             0                       0   \n",
       "2                             0                       0   \n",
       "3                             0                       0   \n",
       "4                             0                       0   \n",
       "\n",
       "   title_Within Our Gates  title_Woman  title_Wuthering Heights  \\\n",
       "0                       0            0                        0   \n",
       "1                       0            0                        0   \n",
       "2                       0            0                        0   \n",
       "3                       0            0                        0   \n",
       "4                       0            0                        0   \n",
       "\n",
       "   title_Yankee Doodle in Berlin  title_Young Mother Hubbard  \\\n",
       "0                              0                           0   \n",
       "1                              0                           0   \n",
       "2                              0                           0   \n",
       "3                              0                           0   \n",
       "4                              0                           0   \n",
       "\n",
       "   title_Zoárd mester  title_Zudora  \n",
       "0                   0             0  \n",
       "1                   0             0  \n",
       "2                   0             0  \n",
       "3                   0             0  \n",
       "4                   0             0  \n",
       "\n",
       "[5 rows x 908 columns]"
      ]
     },
     "execution_count": 75,
     "metadata": {},
     "output_type": "execute_result"
    }
   ],
   "source": [
    "X.head()"
   ]
  },
  {
   "cell_type": "markdown",
   "metadata": {
    "id": "PpY0f-hcBFvF"
   },
   "source": [
    "# **Data preprocessing and cleaning**\n",
    "11. Identify null or missing values.\n",
    "12. Standardization and normalization.\n",
    "13. Correlation analysis.Heat map.\n",
    "\n",
    "# **Data Preparation**\n",
    "1. Do final feature selection and extract them into column X and class label into column Y.\n",
    "2. Split data set into training and testing sets.\n",
    "# **Model selection and building**\n",
    "1. Perform model development using atleast 3 models \n",
    "2. Train the model and print training accuracy and loss values.\n",
    "# **Performance evaluation**\n",
    "1. Print confusion matrix and provide appropriate analysis.\n",
    "2. Do the prediction for test data and display the results.\n",
    "\n"
   ]
  },
  {
   "cell_type": "code",
   "execution_count": 76,
   "metadata": {
    "id": "I995Wgrtqggj"
   },
   "outputs": [
    {
     "data": {
      "text/plain": [
       "0    2193.0\n",
       "1    2193.0\n",
       "2    2193.0\n",
       "3    2193.0\n",
       "4    2193.0\n",
       "Name: numVotes, dtype: float64"
      ]
     },
     "execution_count": 76,
     "metadata": {},
     "output_type": "execute_result"
    }
   ],
   "source": [
    "y.head()"
   ]
  },
  {
   "cell_type": "code",
   "execution_count": 77,
   "metadata": {},
   "outputs": [],
   "source": [
    "#plt.figure(figsize=(20,10))\n",
    "#sns.heatmap(MainData.corr(),annot=True)"
   ]
  },
  {
   "cell_type": "markdown",
   "metadata": {},
   "source": [
    "## Spliting X & Y"
   ]
  },
  {
   "cell_type": "code",
   "execution_count": 78,
   "metadata": {},
   "outputs": [],
   "source": [
    "from sklearn.model_selection import train_test_split\n",
    "X_train, X_test, y_train, y_test = train_test_split(X, y, test_size =.2)"
   ]
  },
  {
   "cell_type": "code",
   "execution_count": 79,
   "metadata": {},
   "outputs": [
    {
     "data": {
      "text/plain": [
       "((1600, 908), (400, 908))"
      ]
     },
     "execution_count": 79,
     "metadata": {},
     "output_type": "execute_result"
    }
   ],
   "source": [
    "X_train.shape, X_test.shape"
   ]
  },
  {
   "cell_type": "markdown",
   "metadata": {},
   "source": [
    "## Model Selection"
   ]
  },
  {
   "cell_type": "markdown",
   "metadata": {},
   "source": [
    " ## Model 1- Linear Regression"
   ]
  },
  {
   "cell_type": "code",
   "execution_count": 80,
   "metadata": {},
   "outputs": [],
   "source": [
    "from sklearn.linear_model import LinearRegression\n",
    "reg = LinearRegression()"
   ]
  },
  {
   "cell_type": "code",
   "execution_count": 81,
   "metadata": {},
   "outputs": [
    {
     "data": {
      "text/plain": [
       "LinearRegression()"
      ]
     },
     "execution_count": 81,
     "metadata": {},
     "output_type": "execute_result"
    }
   ],
   "source": [
    "reg.fit(X_train, y_train)"
   ]
  },
  {
   "cell_type": "code",
   "execution_count": 82,
   "metadata": {},
   "outputs": [],
   "source": [
    "y_pred = reg.predict(X_test)"
   ]
  },
  {
   "cell_type": "markdown",
   "metadata": {},
   "source": [
    "### RMSE"
   ]
  },
  {
   "cell_type": "code",
   "execution_count": 83,
   "metadata": {},
   "outputs": [
    {
     "name": "stdout",
     "output_type": "stream",
     "text": [
      "Root Mean Squared Error: 2.8165532601236646e-11\n"
     ]
    }
   ],
   "source": [
    "from sklearn.metrics import mean_squared_error\n",
    "rmse = np.sqrt(mean_squared_error(y_test, y_pred))\n",
    "print(\"Root Mean Squared Error: {}\".format(rmse))"
   ]
  },
  {
   "cell_type": "markdown",
   "metadata": {},
   "source": [
    "## Cross Validation"
   ]
  },
  {
   "cell_type": "code",
   "execution_count": 84,
   "metadata": {},
   "outputs": [],
   "source": [
    "from sklearn.model_selection import cross_val_score\n",
    "def regression_model_cv(model, k=5):\n",
    "    scores = cross_val_score(model, X,y, scoring='neg_mean_squared_error',cv=k)\n",
    "    rmse = np.sqrt(-scores)\n",
    "    print('Reg rmse:', rmse)\n",
    "    print('Reg mean:', rmse.mean())"
   ]
  },
  {
   "cell_type": "code",
   "execution_count": 85,
   "metadata": {},
   "outputs": [
    {
     "name": "stdout",
     "output_type": "stream",
     "text": [
      "Reg rmse: [3615.99101082 1324.45342655 1879.76699083 9222.46314531 5182.01341535]\n",
      "Reg mean: 4244.937597773933\n"
     ]
    }
   ],
   "source": [
    "regression_model_cv(LinearRegression())"
   ]
  },
  {
   "cell_type": "code",
   "execution_count": 86,
   "metadata": {},
   "outputs": [
    {
     "name": "stdout",
     "output_type": "stream",
     "text": [
      "Reg rmse: [2945.70530955 1584.01428449 7414.88530731]\n",
      "Reg mean: 3981.5349671161553\n"
     ]
    }
   ],
   "source": [
    "regression_model_cv(LinearRegression(), k=3)"
   ]
  },
  {
   "cell_type": "code",
   "execution_count": 87,
   "metadata": {},
   "outputs": [
    {
     "data": {
      "text/plain": [
       "Index(['isAdult', 'averageRating', 'titleType_short',\n",
       "       'primaryTitle_A Daughter of the Gods',\n",
       "       'primaryTitle_A Florida Enchantment', 'primaryTitle_A House Divided',\n",
       "       'primaryTitle_A Little Princess', 'primaryTitle_A Man from Nowhere',\n",
       "       'primaryTitle_A Sister of Six', 'primaryTitle_A Son of David',\n",
       "       ...\n",
       "       'title_When the Earth Trembled', 'title_Where Are My Children?',\n",
       "       'title_Wide Open Spaces', 'title_Within Our Gates', 'title_Woman',\n",
       "       'title_Wuthering Heights', 'title_Yankee Doodle in Berlin',\n",
       "       'title_Young Mother Hubbard', 'title_Zoárd mester', 'title_Zudora'],\n",
       "      dtype='object', length=908)"
      ]
     },
     "execution_count": 87,
     "metadata": {},
     "output_type": "execute_result"
    }
   ],
   "source": [
    "MainData.columns"
   ]
  },
  {
   "cell_type": "code",
   "execution_count": 88,
   "metadata": {},
   "outputs": [
    {
     "name": "stdout",
     "output_type": "stream",
     "text": [
      "<class 'pandas.core.frame.DataFrame'>\n",
      "RangeIndex: 2000 entries, 0 to 1999\n",
      "Columns: 908 entries, isAdult to title_Zudora\n",
      "dtypes: float64(2), uint8(906)\n",
      "memory usage: 1.8 MB\n"
     ]
    }
   ],
   "source": [
    "MainData.info()"
   ]
  },
  {
   "cell_type": "code",
   "execution_count": 89,
   "metadata": {},
   "outputs": [],
   "source": [
    "all_cols = MainData.columns\n",
    "numerical_cols = MainData._get_numeric_data().columns.to_list()\n",
    "categorical_cols = list(set(all_cols)-set(numerical_cols))"
   ]
  },
  {
   "cell_type": "code",
   "execution_count": 90,
   "metadata": {},
   "outputs": [
    {
     "name": "stdout",
     "output_type": "stream",
     "text": [
      "Reg rmse: [2196.2528467  4316.55961925 1540.25599377 2627.83277228 3984.87762447\n",
      " 1671.35798432]\n",
      "Reg mean: 2722.8561401329407\n"
     ]
    }
   ],
   "source": [
    "regression_model_cv(LinearRegression(), k=6)"
   ]
  },
  {
   "cell_type": "markdown",
   "metadata": {},
   "source": [
    "## Model 2- Extra Tree Regressor"
   ]
  },
  {
   "cell_type": "code",
   "execution_count": 91,
   "metadata": {},
   "outputs": [
    {
     "data": {
      "text/plain": [
       "ExtraTreesRegressor()"
      ]
     },
     "execution_count": 91,
     "metadata": {},
     "output_type": "execute_result"
    }
   ],
   "source": [
    "from sklearn.ensemble import ExtraTreesRegressor\n",
    "model = ExtraTreesRegressor()\n",
    "model.fit(X,y)"
   ]
  },
  {
   "cell_type": "code",
   "execution_count": 92,
   "metadata": {},
   "outputs": [
    {
     "data": {
      "text/plain": [
       "<matplotlib.collections.PathCollection at 0x2090b48cc40>"
      ]
     },
     "execution_count": 92,
     "metadata": {},
     "output_type": "execute_result"
    },
    {
     "data": {
      "image/png": "[encoded data removed]",
      "text/plain": [
       "<Figure size 1296x576 with 1 Axes>"
      ]
     },
     "metadata": {
      "needs_background": "light"
     },
     "output_type": "display_data"
    }
   ],
   "source": [
    "plt.figure(figsize=(18,8))\n",
    "plt.scatter(x=MainData.columns, y=model.feature_importances_)"
   ]
  },
  {
   "cell_type": "markdown",
   "metadata": {},
   "source": [
    "## Model 3- K N N "
   ]
  },
  {
   "cell_type": "code",
   "execution_count": 93,
   "metadata": {},
   "outputs": [
    {
     "name": "stdout",
     "output_type": "stream",
     "text": [
      "[1 0 2 1 1 0 1 2 2 1 2 0 0 0 0 1 2 1 1 2 0 2 0 2 2 2 2 2 0 0]\n"
     ]
    }
   ],
   "source": [
    "from sklearn.neighbors import KNeighborsClassifier\n",
    "from sklearn.model_selection import train_test_split\n",
    "from sklearn.datasets import load_iris\n",
    " \n",
    "# Loading data\n",
    "MainData = load_iris()\n",
    " \n",
    "# Create feature and target arrays\n",
    "X = MainData.data\n",
    "y = MainData.target\n",
    " \n",
    "# Split into training and test set\n",
    "X_train, X_test, y_train, y_test = train_test_split(\n",
    "             X, y, test_size = 0.2, random_state=42)\n",
    " \n",
    "knn = KNeighborsClassifier(n_neighbors=7)\n",
    " \n",
    "knn.fit(X_train, y_train)\n",
    " \n",
    "# Predict on dataset which model has not seen before\n",
    "print(knn.predict(X_test))"
   ]
  },
  {
   "cell_type": "markdown",
   "metadata": {},
   "source": [
    "# Confusion Matrix"
   ]
  },
  {
   "cell_type": "code",
   "execution_count": 94,
   "metadata": {},
   "outputs": [],
   "source": [
    "from sklearn.tree import DecisionTreeClassifier\n",
    "model = DecisionTreeClassifier()\n",
    "model.fit(X_train, y_train)\n",
    "predictions = model.predict(X_test)"
   ]
  },
  {
   "cell_type": "code",
   "execution_count": 95,
   "metadata": {},
   "outputs": [
    {
     "name": "stdout",
     "output_type": "stream",
     "text": [
      "              precision    recall  f1-score   support\n",
      "\n",
      "           0       1.00      1.00      1.00        10\n",
      "           1       1.00      1.00      1.00         9\n",
      "           2       1.00      1.00      1.00        11\n",
      "\n",
      "    accuracy                           1.00        30\n",
      "   macro avg       1.00      1.00      1.00        30\n",
      "weighted avg       1.00      1.00      1.00        30\n",
      "\n",
      "[[10  0  0]\n",
      " [ 0  9  0]\n",
      " [ 0  0 11]]\n"
     ]
    }
   ],
   "source": [
    "#Performance Evaluation\n",
    "from sklearn.metrics import classification_report\n",
    "from sklearn.metrics import confusion_matrix\n",
    "print(classification_report(y_test, predictions))\n",
    "\n",
    "print(confusion_matrix(y_test, predictions))"
   ]
  }
 ],
 "metadata": {
  "colab": {
   "name": "ML_Project.ipynb",
   "provenance": [],
   "toc_visible": true
  },
  "kernelspec": {
   "display_name": "Python 3",
   "language": "python",
   "name": "python3"
  },
  "language_info": {
   "codemirror_mode": {
    "name": "ipython",
    "version": 3
   },
   "file_extension": ".py",
   "mimetype": "text/x-python",
   "name": "python",
   "nbconvert_exporter": "python",
   "pygments_lexer": "ipython3",
   "version": "3.8.3"
  }
 },
 "nbformat": 4,
 "nbformat_minor": 1
}
